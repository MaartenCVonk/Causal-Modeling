{
  "nbformat": 4,
  "nbformat_minor": 0,
  "metadata": {
    "colab": {
      "name": "Layman's explanation ATE calculation.ipynb",
      "provenance": [],
      "authorship_tag": "ABX9TyOJYt0rINIgzJC2vkhwwWFY",
      "include_colab_link": true
    },
    "kernelspec": {
      "name": "python3",
      "display_name": "Python 3"
    },
    "language_info": {
      "name": "python"
    }
  },
  "cells": [
    {
      "cell_type": "markdown",
      "metadata": {
        "id": "view-in-github",
        "colab_type": "text"
      },
      "source": [
        "<a href=\"https://colab.research.google.com/github/MaartenCVonk/Causal-Modeling/blob/main/Layman's_explanation_ATE_calculation.ipynb\" target=\"_parent\"><img src=\"https://colab.research.google.com/assets/colab-badge.svg\" alt=\"Open In Colab\"/></a>"
      ]
    },
    {
      "cell_type": "markdown",
      "metadata": {
        "id": "03W8sJ7GjWBN"
      },
      "source": [
        "In this notebook we recalculate the causal effect of the Layman's presentation to show that our numerical solution correspond with the computational solution of Dowhy. We consider various causal graph structures and let Dowhy calculate the causal effects."
      ]
    },
    {
      "cell_type": "code",
      "metadata": {
        "id": "PcLQEkJDjQaq"
      },
      "source": [
        "!pip install dowhy &> /dev/nul\n",
        "!pip install git+git://github.com/mkrphys/ipython-tikzmagic.git &> /dev/nul\n",
        "!pip install econml &> /dev/nul"
      ],
      "execution_count": 1,
      "outputs": []
    },
    {
      "cell_type": "code",
      "metadata": {
        "id": "q0iJ7Ajijo-4"
      },
      "source": [
        "import dowhy\n",
        "import seaborn as sns\n",
        "import numpy as np\n",
        "import pandas as pd\n",
        "import dowhy.api\n",
        "import graphviz\n",
        "import matplotlib.pyplot as plt\n",
        "%load_ext tikzmagic"
      ],
      "execution_count": 2,
      "outputs": []
    },
    {
      "cell_type": "markdown",
      "metadata": {
        "id": "mmifJ3sPjyrt"
      },
      "source": [
        "We have observations of people sleeping with shoes on $S$, people with cramp in their muscles in the morning $X$ and people waking up with headache $H$ corresponding to the following table:\n",
        "\n"
      ]
    },
    {
      "cell_type": "markdown",
      "metadata": {
        "id": "pLX1fr1tk2wj"
      },
      "source": [
        "Table  | Shoes | No shoes\n",
        "-------------------|--------------------|--------------\n",
        "Headache and Cramp       | 70     |260\n",
        "Headache and no Cramp       | 10      |40\n",
        "No Headache and Cramp       | 5      |50\n",
        "No Headache and no Cramp       | 15      |1150"
      ]
    },
    {
      "cell_type": "code",
      "metadata": {
        "colab": {
          "base_uri": "https://localhost:8080/",
          "height": 204
        },
        "id": "utCAMMxfk1dP",
        "outputId": "2333a745-c7f5-4de9-ec28-77c4c0247cc1"
      },
      "source": [
        "# We replicate this table by distribution, so not exactly.\n",
        "N = 160000\n",
        "\n",
        "s = np.random.binomial(size=N, p=(1/16), n=1)\n",
        "x = np.random.binomial(n=1, p=(310+815*s)/1500)   # 3/4 310/1500\n",
        "h = np.random.binomial(1., p=40/1190+2970*x/3689+218*s/595-15038*s*x/55335)  # 70/75 als s=1 en x=1, 2/5 s=1 en x=0, 260/310 als s=0 en x=1, 40/1190 als s=0 en x=0\n",
        "#h = np.random.binomial(1., p=1./(1. + np.exp(-5. * s))) \n",
        "\n",
        "df = pd.DataFrame({'S': s, 'X': x, 'H': h})\n",
        "df.groupby(['H', 'X','S']).size().unstack()"
      ],
      "execution_count": 3,
      "outputs": [
        {
          "output_type": "execute_result",
          "data": {
            "text/html": [
              "<div>\n",
              "<style scoped>\n",
              "    .dataframe tbody tr th:only-of-type {\n",
              "        vertical-align: middle;\n",
              "    }\n",
              "\n",
              "    .dataframe tbody tr th {\n",
              "        vertical-align: top;\n",
              "    }\n",
              "\n",
              "    .dataframe thead th {\n",
              "        text-align: right;\n",
              "    }\n",
              "</style>\n",
              "<table border=\"1\" class=\"dataframe\">\n",
              "  <thead>\n",
              "    <tr style=\"text-align: right;\">\n",
              "      <th></th>\n",
              "      <th>S</th>\n",
              "      <th>0</th>\n",
              "      <th>1</th>\n",
              "    </tr>\n",
              "    <tr>\n",
              "      <th>H</th>\n",
              "      <th>X</th>\n",
              "      <th></th>\n",
              "      <th></th>\n",
              "    </tr>\n",
              "  </thead>\n",
              "  <tbody>\n",
              "    <tr>\n",
              "      <th rowspan=\"2\" valign=\"top\">0</th>\n",
              "      <th>0</th>\n",
              "      <td>114616</td>\n",
              "      <td>1515</td>\n",
              "    </tr>\n",
              "    <tr>\n",
              "      <th>1</th>\n",
              "      <td>5051</td>\n",
              "      <td>475</td>\n",
              "    </tr>\n",
              "    <tr>\n",
              "      <th rowspan=\"2\" valign=\"top\">1</th>\n",
              "      <th>0</th>\n",
              "      <td>3985</td>\n",
              "      <td>996</td>\n",
              "    </tr>\n",
              "    <tr>\n",
              "      <th>1</th>\n",
              "      <td>26274</td>\n",
              "      <td>7088</td>\n",
              "    </tr>\n",
              "  </tbody>\n",
              "</table>\n",
              "</div>"
            ],
            "text/plain": [
              "S         0     1\n",
              "H X              \n",
              "0 0  114616  1515\n",
              "  1    5051   475\n",
              "1 0    3985   996\n",
              "  1   26274  7088"
            ]
          },
          "metadata": {
            "tags": []
          },
          "execution_count": 3
        }
      ]
    },
    {
      "cell_type": "markdown",
      "metadata": {
        "id": "ffBuGlGv4JE8"
      },
      "source": [
        "## **Example 1: Naive Setting Effect S->H**"
      ]
    },
    {
      "cell_type": "code",
      "metadata": {
        "colab": {
          "base_uri": "https://localhost:8080/",
          "height": 248
        },
        "id": "azKkbqCP4Q79",
        "outputId": "74426cf5-267e-49b7-884e-16f567a8261a"
      },
      "source": [
        "from graphviz import Digraph\n",
        "\n",
        "causal_graph = \"\"\"digraph {\n",
        "H[label=\"Headache\"];\n",
        "S[label=\"Shoes\"];\n",
        "S->H;\n",
        "\n",
        "}\"\"\"\n",
        "\n",
        "model= dowhy.CausalModel(\n",
        "        data = df,\n",
        "        graph=causal_graph.replace(\"\\n\", \" \"),\n",
        "        treatment='S',\n",
        "        outcome='H')\n",
        "\n",
        "# Let Dowhy plot the model just for verification purposes:\n",
        "model.view_model(layout=\"dot\")"
      ],
      "execution_count": 4,
      "outputs": [
        {
          "output_type": "display_data",
          "data": {
            "image/png": "[encoded data removed]",
            "text/plain": [
              "<Figure size 432x288 with 1 Axes>"
            ]
          },
          "metadata": {
            "tags": []
          }
        }
      ]
    },
    {
      "cell_type": "code",
      "metadata": {
        "colab": {
          "base_uri": "https://localhost:8080/"
        },
        "id": "9MTjeyAC4XZx",
        "outputId": "e3fab11a-80d7-407e-d237-0e3a80fa8885"
      },
      "source": [
        "# Check if the variable can be identified and calculate average causal effect:\n",
        "identified_estimand = model.identify_effect(proceed_when_unidentifiable=True)\n",
        "estimate = model.estimate_effect(identified_estimand,\n",
        "                                 method_name='backdoor.linear_regression',target_units=\"ate\")\n",
        "print(estimate)"
      ],
      "execution_count": 5,
      "outputs": [
        {
          "output_type": "stream",
          "text": [
            "/usr/local/lib/python3.7/dist-packages/statsmodels/tools/_testing.py:19: FutureWarning: pandas.util.testing is deprecated. Use the functions in the public API at pandas.testing instead.\n",
            "  import pandas.util.testing as tm\n"
          ],
          "name": "stderr"
        },
        {
          "output_type": "stream",
          "text": [
            "*** Causal Estimate ***\n",
            "\n",
            "## Identified estimand\n",
            "Estimand type: nonparametric-ate\n",
            "\n",
            "### Estimand : 1\n",
            "Estimand name: backdoor\n",
            "Estimand expression:\n",
            " d                  \n",
            "────(Expectation(H))\n",
            "d[S]                \n",
            "Estimand assumption 1, Unconfoundedness: If U→{S} and U→H then P(H|S,,U) = P(H|S,)\n",
            "\n",
            "## Realized estimand\n",
            "b: H~S\n",
            "Target units: ate\n",
            "\n",
            "## Estimate\n",
            "Mean value: 0.6006355485316517\n",
            "\n"
          ],
          "name": "stdout"
        }
      ]
    },
    {
      "cell_type": "markdown",
      "metadata": {
        "id": "T2uTd55QCSy8"
      },
      "source": [
        "## **Example 2: S is the common confounder Effect S->H**"
      ]
    },
    {
      "cell_type": "code",
      "metadata": {
        "colab": {
          "base_uri": "https://localhost:8080/",
          "height": 248
        },
        "id": "46yLiuxV1o1y",
        "outputId": "f1c5583c-370b-4914-a7b6-73d93be920fd"
      },
      "source": [
        "from graphviz import Digraph\n",
        "\n",
        "causal_graph = \"\"\"digraph {\n",
        "X[label=\"History\"];\n",
        "H[label=\"Headache\"];\n",
        "S[label=\"Shoes\"];\n",
        "S -> X;\n",
        "X -> H;\n",
        "S -> H;\n",
        "}\"\"\"\n",
        "\n",
        "model= dowhy.CausalModel(\n",
        "        data = df,\n",
        "        graph=causal_graph.replace(\"\\n\", \" \"),\n",
        "        treatment='S',\n",
        "        outcome='H')\n",
        "\n",
        "# Let Dowhy plot the model just for verification purposes:\n",
        "model.view_model(layout=\"dot\")"
      ],
      "execution_count": 6,
      "outputs": [
        {
          "output_type": "display_data",
          "data": {
            "image/png": "[encoded data removed]",
            "text/plain": [
              "<Figure size 432x288 with 1 Axes>"
            ]
          },
          "metadata": {
            "tags": []
          }
        }
      ]
    },
    {
      "cell_type": "code",
      "metadata": {
        "colab": {
          "base_uri": "https://localhost:8080/"
        },
        "id": "cj-6ilaQ35lF",
        "outputId": "7c66f0a3-71f3-4b73-b44d-92baeb32c633"
      },
      "source": [
        "# Check if the variable can be identified:\n",
        "identified_estimand = model.identify_effect(proceed_when_unidentifiable=True)\n",
        "print(identified_estimand)"
      ],
      "execution_count": 7,
      "outputs": [
        {
          "output_type": "stream",
          "text": [
            "Estimand type: nonparametric-ate\n",
            "\n",
            "### Estimand : 1\n",
            "Estimand name: backdoor\n",
            "Estimand expression:\n",
            " d                  \n",
            "────(Expectation(H))\n",
            "d[S]                \n",
            "Estimand assumption 1, Unconfoundedness: If U→{S} and U→H then P(H|S,,U) = P(H|S,)\n",
            "\n",
            "### Estimand : 2\n",
            "Estimand name: iv\n",
            "No such variable found!\n",
            "\n",
            "### Estimand : 3\n",
            "Estimand name: frontdoor\n",
            "No such variable found!\n",
            "\n"
          ],
          "name": "stdout"
        }
      ]
    },
    {
      "cell_type": "markdown",
      "metadata": {
        "id": "Fv-p6QS_3yeP"
      },
      "source": [
        "Check if the values indeed correspond to the numerical example:"
      ]
    },
    {
      "cell_type": "code",
      "metadata": {
        "colab": {
          "base_uri": "https://localhost:8080/"
        },
        "id": "a8pWXvyQ3x4M",
        "outputId": "62bd8c8b-3cd4-4433-e0ad-6c07167f4034"
      },
      "source": [
        "estimate = model.estimate_effect(identified_estimand,\n",
        "                                 method_name='backdoor.linear_regression',target_units=\"ate\")\n",
        "print(estimate)"
      ],
      "execution_count": 8,
      "outputs": [
        {
          "output_type": "stream",
          "text": [
            "*** Causal Estimate ***\n",
            "\n",
            "## Identified estimand\n",
            "Estimand type: nonparametric-ate\n",
            "\n",
            "### Estimand : 1\n",
            "Estimand name: backdoor\n",
            "Estimand expression:\n",
            " d                  \n",
            "────(Expectation(H))\n",
            "d[S]                \n",
            "Estimand assumption 1, Unconfoundedness: If U→{S} and U→H then P(H|S,,U) = P(H|S,)\n",
            "\n",
            "## Realized estimand\n",
            "b: H~S\n",
            "Target units: ate\n",
            "\n",
            "## Estimate\n",
            "Mean value: 0.6006355485316517\n",
            "\n"
          ],
          "name": "stdout"
        }
      ]
    },
    {
      "cell_type": "markdown",
      "metadata": {
        "id": "HOCrFhWZLM_x"
      },
      "source": [
        "## **Example 3: X is Treatment Assignment Mechanism of S Effect S->H**"
      ]
    },
    {
      "cell_type": "markdown",
      "metadata": {
        "id": "d2uAB4YUA1WH"
      },
      "source": [
        "We have observations of people sleeping with shoes on $S$, people with cold feet $X$ and people waking up with headache $H$ corresponding to the following table:"
      ]
    },
    {
      "cell_type": "markdown",
      "metadata": {
        "id": "hjw67T9AA7sc"
      },
      "source": [
        "Table  | Shoes | No shoes\n",
        "-------------------|--------------------|--------------\n",
        "Headache and Cold Feet       | 70     |260\n",
        "Headache and no Cold Feet       | 10      |40\n",
        "No Headache and Cold Feet       | 5      |50\n",
        "No Headache and no Cold Feet       | 15      |1150"
      ]
    },
    {
      "cell_type": "code",
      "metadata": {
        "colab": {
          "base_uri": "https://localhost:8080/",
          "height": 248
        },
        "id": "Q_ucTYa6LMSL",
        "outputId": "0060b6fd-735f-45f3-b538-33f238c95d1d"
      },
      "source": [
        "from graphviz import Digraph\n",
        "\n",
        "causal_graph = \"\"\"digraph {\n",
        "X[label=\"History\"];\n",
        "H[label=\"Headache\"];\n",
        "S[label=\"Shoes\"];\n",
        "X -> S;\n",
        "S -> H;\n",
        "}\"\"\"\n",
        "\n",
        "model= dowhy.CausalModel(\n",
        "        data = df,\n",
        "        graph=causal_graph.replace(\"\\n\", \" \"),\n",
        "        treatment='S',\n",
        "        outcome='H')\n",
        "\n",
        "# Let Dowhy plot the model just for verification purposes:\n",
        "model.view_model(layout=\"dot\")"
      ],
      "execution_count": 9,
      "outputs": [
        {
          "output_type": "display_data",
          "data": {
            "image/png": "[encoded data removed]",
            "text/plain": [
              "<Figure size 432x288 with 1 Axes>"
            ]
          },
          "metadata": {
            "tags": []
          }
        }
      ]
    },
    {
      "cell_type": "code",
      "metadata": {
        "colab": {
          "base_uri": "https://localhost:8080/"
        },
        "id": "LSGx-yzfLfH1",
        "outputId": "b8b994fb-ad78-40cc-e296-1a952ad040f7"
      },
      "source": [
        "# Check if the variable can be identified:\n",
        "identified_estimand = model.identify_effect(proceed_when_unidentifiable=True)\n",
        "print(identified_estimand)"
      ],
      "execution_count": 10,
      "outputs": [
        {
          "output_type": "stream",
          "text": [
            "Estimand type: nonparametric-ate\n",
            "\n",
            "### Estimand : 1\n",
            "Estimand name: backdoor\n",
            "Estimand expression:\n",
            " d                  \n",
            "────(Expectation(H))\n",
            "d[S]                \n",
            "Estimand assumption 1, Unconfoundedness: If U→{S} and U→H then P(H|S,,U) = P(H|S,)\n",
            "\n",
            "### Estimand : 2\n",
            "Estimand name: iv\n",
            "Estimand expression:\n",
            "Expectation(Derivative(H, [X])*Derivative([S], [X])**(-1))\n",
            "Estimand assumption 1, As-if-random: If U→→H then ¬(U →→{X})\n",
            "Estimand assumption 2, Exclusion: If we remove {X}→{S}, then ¬({X}→H)\n",
            "\n",
            "### Estimand : 3\n",
            "Estimand name: frontdoor\n",
            "No such variable found!\n",
            "\n"
          ],
          "name": "stdout"
        }
      ]
    },
    {
      "cell_type": "code",
      "metadata": {
        "colab": {
          "base_uri": "https://localhost:8080/"
        },
        "id": "twj1_XvlLiTV",
        "outputId": "42e2957d-b4e7-4cb3-b232-ef998148d525"
      },
      "source": [
        "estimate = model.estimate_effect(identified_estimand,\n",
        "                                 method_name='backdoor.linear_regression',target_units=\"ate\")\n",
        "print(estimate)"
      ],
      "execution_count": 11,
      "outputs": [
        {
          "output_type": "stream",
          "text": [
            "*** Causal Estimate ***\n",
            "\n",
            "## Identified estimand\n",
            "Estimand type: nonparametric-ate\n",
            "\n",
            "### Estimand : 1\n",
            "Estimand name: backdoor\n",
            "Estimand expression:\n",
            " d                  \n",
            "────(Expectation(H))\n",
            "d[S]                \n",
            "Estimand assumption 1, Unconfoundedness: If U→{S} and U→H then P(H|S,,U) = P(H|S,)\n",
            "\n",
            "## Realized estimand\n",
            "b: H~S\n",
            "Target units: ate\n",
            "\n",
            "## Estimate\n",
            "Mean value: 0.6006355485316517\n",
            "\n"
          ],
          "name": "stdout"
        }
      ]
    },
    {
      "cell_type": "markdown",
      "metadata": {
        "id": "FLkkVAmZkaCT"
      },
      "source": [
        "## **Example 4: Conditional Average Treatment:**"
      ]
    },
    {
      "cell_type": "markdown",
      "metadata": {
        "id": "niIAKn_NZdPb"
      },
      "source": [
        "We have observations of people sleeping with shoes on $S$, people with regular migraines $X$ and people waking up with headache $H$ corresponding to the following table:"
      ]
    },
    {
      "cell_type": "markdown",
      "metadata": {
        "id": "m0ONU5JZZSlp"
      },
      "source": [
        "Table  | Shoes | No shoes\n",
        "-------------------|--------------------|--------------\n",
        "Headache and Migraines       | 70     |260\n",
        "Headache and no Migraines       | 10      |40\n",
        "No Headache and Migraines       | 5      |50\n",
        "No Headache and no Migraines      | 15      |1150"
      ]
    },
    {
      "cell_type": "code",
      "metadata": {
        "colab": {
          "base_uri": "https://localhost:8080/",
          "height": 248
        },
        "id": "6lN7nOpTkUNy",
        "outputId": "93f15c9a-b6d7-46d8-e8f7-9b22a1fb33e9"
      },
      "source": [
        "from graphviz import Digraph\n",
        "\n",
        "causal_graph = \"\"\"digraph {\n",
        "X[label=\"History\"];\n",
        "H[label=\"Headache\"];\n",
        "S[label=\"Shoes\"];\n",
        "X -> H;\n",
        "S -> H;\n",
        "}\"\"\"\n",
        "\n",
        "model= dowhy.CausalModel(\n",
        "        data = df,\n",
        "        graph=causal_graph.replace(\"\\n\", \" \"),\n",
        "        treatment='S',\n",
        "        outcome='H')\n",
        "\n",
        "# Let Dowhy plot the model just for verification purposes:\n",
        "model.view_model(layout=\"dot\")"
      ],
      "execution_count": 12,
      "outputs": [
        {
          "output_type": "display_data",
          "data": {
            "image/png": "[encoded data removed]",
            "text/plain": [
              "<Figure size 432x288 with 1 Axes>"
            ]
          },
          "metadata": {
            "tags": []
          }
        }
      ]
    },
    {
      "cell_type": "code",
      "metadata": {
        "colab": {
          "base_uri": "https://localhost:8080/"
        },
        "id": "3lQIkK0-kxFJ",
        "outputId": "5a776cf0-342d-42ff-a1ee-da93d73a0129"
      },
      "source": [
        "# Check if the variable can be identified:\n",
        "identified_estimand = model.identify_effect()\n",
        "print(identified_estimand)"
      ],
      "execution_count": 13,
      "outputs": [
        {
          "output_type": "stream",
          "text": [
            "Estimand type: nonparametric-ate\n",
            "\n",
            "### Estimand : 1\n",
            "Estimand name: backdoor\n",
            "Estimand expression:\n",
            " d                    \n",
            "────(Expectation(H|X))\n",
            "d[S]                  \n",
            "Estimand assumption 1, Unconfoundedness: If U→{S} and U→H then P(H|S,X,U) = P(H|S,X)\n",
            "\n",
            "### Estimand : 2\n",
            "Estimand name: iv\n",
            "No such variable found!\n",
            "\n",
            "### Estimand : 3\n",
            "Estimand name: frontdoor\n",
            "No such variable found!\n",
            "\n"
          ],
          "name": "stdout"
        }
      ]
    },
    {
      "cell_type": "code",
      "metadata": {
        "colab": {
          "base_uri": "https://localhost:8080/"
        },
        "id": "Q3HI8qaaq-5n",
        "outputId": "372293e1-13b6-45df-a491-bfb021375630"
      },
      "source": [
        "# First we consider the case P(H|do(S), X=1)\n",
        "from sklearn.preprocessing import PolynomialFeatures\n",
        "from sklearn.linear_model import LassoCV\n",
        "from sklearn.ensemble import GradientBoostingRegressor\n",
        "import econml\n",
        "estimate = model.estimate_effect(identified_estimand,\n",
        "                                 method_name='backdoor.linear_regression', control_value=0,treatment_value=1)\n",
        "dml_estimate = model.estimate_effect(identified_estimand, method_name=\"backdoor.econml.dml.DML\",\n",
        "                                     control_value = 0,\n",
        "                                     treatment_value = 1,\n",
        "                                 target_units = lambda df: df[\"X\"]==1,  # condition used for CATE\n",
        "                                 confidence_intervals=False,                                \n",
        "                                method_params={\"init_params\":{'model_y':GradientBoostingRegressor(),\n",
        "                                                              'model_t': GradientBoostingRegressor(),\n",
        "                                                              \"model_final\":LassoCV(fit_intercept=False),\n",
        "                                                              'featurizer':PolynomialFeatures(degree=1, include_bias=False)},\n",
        "                                               \"fit_params\":{}})\n",
        "\n",
        "print(dml_estimate)\n",
        "\n"
      ],
      "execution_count": 14,
      "outputs": [
        {
          "output_type": "stream",
          "text": [
            "A column-vector y was passed when a 1d array was expected. Please change the shape of y to (n_samples, ), for example using ravel().\n",
            "A column-vector y was passed when a 1d array was expected. Please change the shape of y to (n_samples, ), for example using ravel().\n"
          ],
          "name": "stderr"
        },
        {
          "output_type": "stream",
          "text": [
            "*** Causal Estimate ***\n",
            "\n",
            "## Identified estimand\n",
            "Estimand type: nonparametric-ate\n",
            "\n",
            "### Estimand : 1\n",
            "Estimand name: backdoor\n",
            "Estimand expression:\n",
            " d                    \n",
            "────(Expectation(H|X))\n",
            "d[S]                  \n",
            "Estimand assumption 1, Unconfoundedness: If U→{S} and U→H then P(H|S,X,U) = P(H|S,X)\n",
            "\n",
            "## Realized estimand\n",
            "b: H~S+X | X\n",
            "Target units: Data subset defined by a function\n",
            "\n",
            "## Estimate\n",
            "Mean value: 0.0986742340259448\n",
            "Effect estimates: [0.09867423 0.09867423 0.09867423 ... 0.09867423 0.09867423 0.09867423]\n",
            "\n"
          ],
          "name": "stdout"
        }
      ]
    },
    {
      "cell_type": "code",
      "metadata": {
        "colab": {
          "base_uri": "https://localhost:8080/"
        },
        "id": "E1C-w1VBue_4",
        "outputId": "1adcf26f-b316-40b0-f0bb-9d5a557fdc40"
      },
      "source": [
        "# Then we consider the case P(H|do(S), X=0)\n",
        "from sklearn.preprocessing import PolynomialFeatures\n",
        "from sklearn.linear_model import LassoCV\n",
        "from sklearn.ensemble import GradientBoostingRegressor\n",
        "import econml\n",
        "estimate = model.estimate_effect(identified_estimand,\n",
        "                                 method_name='backdoor.linear_regression', control_value=0,treatment_value=1)\n",
        "dml_estimate = model.estimate_effect(identified_estimand, method_name=\"backdoor.econml.dml.DML\",\n",
        "                                     control_value = 0,\n",
        "                                     treatment_value = 1,\n",
        "                                 target_units = lambda df: df[\"X\"]==0,  # condition used for CATE\n",
        "                                 confidence_intervals=False,                                \n",
        "                                method_params={\"init_params\":{'model_y':GradientBoostingRegressor(),\n",
        "                                                              'model_t': GradientBoostingRegressor(),\n",
        "                                                              \"model_final\":LassoCV(fit_intercept=False),\n",
        "                                                              'featurizer':PolynomialFeatures(degree=1, include_bias=False)},\n",
        "                                               \"fit_params\":{}})\n",
        "\n",
        "print(dml_estimate)"
      ],
      "execution_count": 15,
      "outputs": [
        {
          "output_type": "stream",
          "text": [
            "A column-vector y was passed when a 1d array was expected. Please change the shape of y to (n_samples, ), for example using ravel().\n",
            "A column-vector y was passed when a 1d array was expected. Please change the shape of y to (n_samples, ), for example using ravel().\n"
          ],
          "name": "stderr"
        },
        {
          "output_type": "stream",
          "text": [
            "*** Causal Estimate ***\n",
            "\n",
            "## Identified estimand\n",
            "Estimand type: nonparametric-ate\n",
            "\n",
            "### Estimand : 1\n",
            "Estimand name: backdoor\n",
            "Estimand expression:\n",
            " d                    \n",
            "────(Expectation(H|X))\n",
            "d[S]                  \n",
            "Estimand assumption 1, Unconfoundedness: If U→{S} and U→H then P(H|S,X,U) = P(H|S,X)\n",
            "\n",
            "## Realized estimand\n",
            "b: H~S+X | X\n",
            "Target units: Data subset defined by a function\n",
            "\n",
            "## Estimate\n",
            "Mean value: 0.36181921080706486\n",
            "Effect estimates: [0.36181921 0.36181921 0.36181921 ... 0.36181921 0.36181921 0.36181921]\n",
            "\n"
          ],
          "name": "stdout"
        }
      ]
    },
    {
      "cell_type": "markdown",
      "metadata": {
        "id": "mHoB3uowC6Bx"
      },
      "source": [
        "## **Example 4: X Common Confounder Effect S->H**"
      ]
    },
    {
      "cell_type": "markdown",
      "metadata": {
        "id": "pnXmgrm_BIU1"
      },
      "source": [
        "We have observations of people sleeping with shoes on $S$, people drinking $X$ and people waking up with headache $H$ corresponding to the following table:"
      ]
    },
    {
      "cell_type": "markdown",
      "metadata": {
        "id": "PeJH5rYzBIBN"
      },
      "source": [
        "Table  | Shoes | No shoes\n",
        "-------------------|--------------------|--------------\n",
        "Headache and Drinking       | 70     |260\n",
        "Headache and no Drinking       | 10      |40\n",
        "No Headache and Drinking       | 5      |50\n",
        "No Headache and no Drinking       | 15      |1150"
      ]
    },
    {
      "cell_type": "code",
      "metadata": {
        "id": "nkRzqISV6pmv"
      },
      "source": [
        "df['S']=df['S'].astype(bool)\n",
        "df['H']=df['H'].astype(bool)\n",
        "df['X']=df['X'].astype(bool)"
      ],
      "execution_count": 16,
      "outputs": []
    },
    {
      "cell_type": "code",
      "metadata": {
        "colab": {
          "base_uri": "https://localhost:8080/",
          "height": 248
        },
        "id": "Hu872ByJBLGk",
        "outputId": "143e7a59-bd59-4387-ea24-f6d5b03aa852"
      },
      "source": [
        "from graphviz import Digraph\n",
        "\n",
        "causal_graph = \"\"\"digraph {\n",
        "X[label=\"History\"];\n",
        "H[label=\"Headache\"];\n",
        "S[label=\"Shoes\"];\n",
        "X -> H;\n",
        "S->H;\n",
        "X ->S;\n",
        "}\"\"\"\n",
        "\n",
        "model= dowhy.CausalModel(\n",
        "        data = df,\n",
        "        graph=causal_graph.replace(\"\\n\", \" \"),\n",
        "        treatment='S',\n",
        "        outcome='H')\n",
        "\n",
        "# Let Dowhy plot the model just for verification purposes:\n",
        "model.view_model(layout=\"dot\")"
      ],
      "execution_count": 17,
      "outputs": [
        {
          "output_type": "display_data",
          "data": {
            "image/png": "[encoded data removed]",
            "text/plain": [
              "<Figure size 432x288 with 1 Axes>"
            ]
          },
          "metadata": {
            "tags": []
          }
        }
      ]
    },
    {
      "cell_type": "code",
      "metadata": {
        "colab": {
          "base_uri": "https://localhost:8080/"
        },
        "id": "xGIN5TUkBWos",
        "outputId": "6b469da4-1c22-4a97-cc45-44df6905395b"
      },
      "source": [
        "# Check if the variable can be identified:\n",
        "identified_estimand = model.identify_effect(proceed_when_unidentifiable=True)\n",
        "print(identified_estimand)"
      ],
      "execution_count": 18,
      "outputs": [
        {
          "output_type": "stream",
          "text": [
            "Estimand type: nonparametric-ate\n",
            "\n",
            "### Estimand : 1\n",
            "Estimand name: backdoor\n",
            "Estimand expression:\n",
            " d                    \n",
            "────(Expectation(H|X))\n",
            "d[S]                  \n",
            "Estimand assumption 1, Unconfoundedness: If U→{S} and U→H then P(H|S,X,U) = P(H|S,X)\n",
            "\n",
            "### Estimand : 2\n",
            "Estimand name: iv\n",
            "No such variable found!\n",
            "\n",
            "### Estimand : 3\n",
            "Estimand name: frontdoor\n",
            "No such variable found!\n",
            "\n"
          ],
          "name": "stdout"
        }
      ]
    },
    {
      "cell_type": "code",
      "metadata": {
        "colab": {
          "base_uri": "https://localhost:8080/"
        },
        "id": "T9kG4asvBX8W",
        "outputId": "e0933f20-a653-4c3d-ab57-eb1c0ca45b0b"
      },
      "source": [
        "estimate = model.estimate_effect(identified_estimand,\n",
        "                                 method_name='backdoor.propensity_score_stratification',target_units=\"ate\")\n",
        "print(estimate)"
      ],
      "execution_count": 19,
      "outputs": [
        {
          "output_type": "stream",
          "text": [
            "A column-vector y was passed when a 1d array was expected. Please change the shape of y to (n_samples, ), for example using ravel().\n"
          ],
          "name": "stderr"
        },
        {
          "output_type": "stream",
          "text": [
            "*** Causal Estimate ***\n",
            "\n",
            "## Identified estimand\n",
            "Estimand type: nonparametric-ate\n",
            "\n",
            "### Estimand : 1\n",
            "Estimand name: backdoor\n",
            "Estimand expression:\n",
            " d                    \n",
            "────(Expectation(H|X))\n",
            "d[S]                  \n",
            "Estimand assumption 1, Unconfoundedness: If U→{S} and U→H then P(H|S,X,U) = P(H|S,X)\n",
            "\n",
            "## Realized estimand\n",
            "b: H~S+X\n",
            "Target units: ate\n",
            "\n",
            "## Estimate\n",
            "Mean value: 0.2987398878770378\n",
            "\n"
          ],
          "name": "stdout"
        },
        {
          "output_type": "stream",
          "text": [
            "evaluating in Python space because the '*' operator is not supported by numexpr for the bool dtype, use '&' instead\n"
          ],
          "name": "stderr"
        }
      ]
    }
  ]
}