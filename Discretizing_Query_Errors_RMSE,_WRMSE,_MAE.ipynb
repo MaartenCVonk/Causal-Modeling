{
  "cells": [
    {
      "cell_type": "markdown",
      "metadata": {
        "id": "vo-Ow2twsgQD"
      },
      "source": [
        "## **Imports**"
      ]
    },
    {
      "cell_type": "code",
      "execution_count": 148,
      "metadata": {
        "id": "pxanc_BIbZT9"
      },
      "outputs": [],
      "source": [
        "!pip install lgnpy &> /dev/nul\n",
        "!pip install pgmpy &> /dev/nul"
      ]
    },
    {
      "cell_type": "code",
      "execution_count": 149,
      "metadata": {
        "id": "w3fb-KReacIV"
      },
      "outputs": [],
      "source": [
        "from lgnpy import LinearGaussian\n",
        "import pandas as pd\n",
        "import numpy as np\n",
        "from math import prod\n",
        "import seaborn as sns\n",
        "from pgmpy.sampling import BayesianModelSampling\n",
        "import matplotlib.pyplot as plt\n",
        "from pgmpy.models import BayesianNetwork\n",
        "from pgmpy.estimators import MaximumLikelihoodEstimator\n",
        "import math\n",
        "import networkx as nx"
      ]
    },
    {
      "cell_type": "markdown",
      "metadata": {
        "id": "IhlimxAGLWpm"
      },
      "source": [
        "## **Settings**"
      ]
    },
    {
      "cell_type": "code",
      "execution_count": 150,
      "metadata": {
        "id": "H3N_chOxLU-Y"
      },
      "outputs": [],
      "source": [
        "settings_lg = {'data':'lg','disc_method':'EB', 'target_col':'E','quantiles': 10, 'bins': 10}\n",
        "\n",
        "settings_sachs = {'data':'sachs','disc_method':'MDLP', 'target_col':'pmek','quantiles': 10, 'bins': 8, 'min_depth':4, 'remove_arrow':('PIP2', 'PIP3'), 'outlier_z':None}\n",
        "\n",
        "settings_sachs_outlier = {'data':'sachs','disc_method':'EB', 'target_col':'pmek','quantiles': 10, 'bins': 5, 'min_depth':2, 'remove_arrow':('PIP2', 'PIP3'), 'outlier_z':3}\n",
        "\n",
        "settings_tueb = {'data':'tueb','disc_method':'EV', 'target_col':'B','quantiles': 8, 'bins': 5, 'min_depth':2, 'outlier_z':None}\n",
        "\n",
        "settings_lalonde = {'data':'lalonde','disc_method':'MDLP', 'target_col':'B','quantiles': 5, 'bins': 5, 'min_depth':2, 'outlier_z':None}\n",
        "\n",
        "settings = settings_lg\n",
        "\n",
        "data = settings['data']"
      ]
    },
    {
      "cell_type": "markdown",
      "metadata": {
        "id": "O1yRKa2-Hd3K"
      },
      "source": [
        "# **Core Code**"
      ]
    },
    {
      "cell_type": "markdown",
      "metadata": {
        "id": "DPnFA7kKsnhx"
      },
      "source": [
        "## **Initiating Linear Gaussian Inference Network**"
      ]
    },
    {
      "cell_type": "code",
      "execution_count": 151,
      "metadata": {
        "id": "0rKKmhnYhxyr"
      },
      "outputs": [],
      "source": [
        "lg = LinearGaussian()\n",
        "lg_edges = [('A', 'D'), ('B', 'D')]\n",
        "lg.set_edges_from(lg_edges)\n",
        "lg_graph = nx.DiGraph(lg_edges)"
      ]
    },
    {
      "cell_type": "code",
      "source": [
        "objective_ouput_set = [item[1] for item in lg_edges]\n",
        "objective_input_set = [item[0] for item in lg_edges if item[0] not in objective_ouput_set]\n",
        "b = [i for sub in lg_edges for i in sub]\n",
        "set(b)"
      ],
      "metadata": {
        "id": "SQIoZtgaPSI1",
        "colab": {
          "base_uri": "https://localhost:8080/"
        },
        "outputId": "8a37c197-3784-4328-eff7-45711c8d3d6c"
      },
      "execution_count": 152,
      "outputs": [
        {
          "output_type": "execute_result",
          "data": {
            "text/plain": [
              "{'A', 'B', 'D'}"
            ]
          },
          "metadata": {},
          "execution_count": 152
        }
      ]
    },
    {
      "cell_type": "code",
      "source": [
        "# Set Values:\n",
        "mu_A, sig_A = 20, 2\n",
        "mu_B, sig_B = 20, 2"
      ],
      "metadata": {
        "id": "L3aeI1yasCfX"
      },
      "execution_count": 153,
      "outputs": []
    },
    {
      "cell_type": "code",
      "execution_count": 154,
      "metadata": {
        "id": "5WCQraJwhqyk"
      },
      "outputs": [],
      "source": [
        "np.random.seed(45)\n",
        "n=5000\n",
        "lg_data = pd.DataFrame(columns=['A','B','D'])\n",
        "lg_data['A'] = np.random.normal(mu_A, sig_A,n)\n",
        "lg_data['B'] = np.random.normal(mu_B, sig_B,n)\n",
        "randoms = np.random.normal(0,2,n)\n",
        "lg_data['D'] = 2*lg_data['A'] + 3*lg_data['B'] + randoms\n",
        "\n",
        "lg.set_data(lg_data)"
      ]
    },
    {
      "cell_type": "code",
      "source": [
        "lg_data"
      ],
      "metadata": {
        "colab": {
          "base_uri": "https://localhost:8080/",
          "height": 423
        },
        "id": "BSQKXY4BlSrx",
        "outputId": "1012b3f3-49d3-4868-bf28-6ce0ea2c3c2b"
      },
      "execution_count": 155,
      "outputs": [
        {
          "output_type": "execute_result",
          "data": {
            "text/plain": [
              "              A          B           D\n",
              "0     20.052750  20.230600  103.789670\n",
              "1     20.520643  19.127646   99.927040\n",
              "2     19.209709  18.917222   94.392534\n",
              "3     19.591398  16.704538   89.181426\n",
              "4     17.456735  19.347661   90.720985\n",
              "...         ...        ...         ...\n",
              "4995  23.750647  19.959513  107.052280\n",
              "4996  20.290540  20.393391  101.201650\n",
              "4997  15.428746  19.925349   91.425672\n",
              "4998  19.807305  19.526279   96.609251\n",
              "4999  21.968344  16.403232   92.413809\n",
              "\n",
              "[5000 rows x 3 columns]"
            ],
            "text/html": [
              "\n",
              "  <div id=\"df-db6b0356-0776-40f9-b9f4-7e38377ccafb\">\n",
              "    <div class=\"colab-df-container\">\n",
              "      <div>\n",
              "<style scoped>\n",
              "    .dataframe tbody tr th:only-of-type {\n",
              "        vertical-align: middle;\n",
              "    }\n",
              "\n",
              "    .dataframe tbody tr th {\n",
              "        vertical-align: top;\n",
              "    }\n",
              "\n",
              "    .dataframe thead th {\n",
              "        text-align: right;\n",
              "    }\n",
              "</style>\n",
              "<table border=\"1\" class=\"dataframe\">\n",
              "  <thead>\n",
              "    <tr style=\"text-align: right;\">\n",
              "      <th></th>\n",
              "      <th>A</th>\n",
              "      <th>B</th>\n",
              "      <th>D</th>\n",
              "    </tr>\n",
              "  </thead>\n",
              "  <tbody>\n",
              "    <tr>\n",
              "      <th>0</th>\n",
              "      <td>20.052750</td>\n",
              "      <td>20.230600</td>\n",
              "      <td>103.789670</td>\n",
              "    </tr>\n",
              "    <tr>\n",
              "      <th>1</th>\n",
              "      <td>20.520643</td>\n",
              "      <td>19.127646</td>\n",
              "      <td>99.927040</td>\n",
              "    </tr>\n",
              "    <tr>\n",
              "      <th>2</th>\n",
              "      <td>19.209709</td>\n",
              "      <td>18.917222</td>\n",
              "      <td>94.392534</td>\n",
              "    </tr>\n",
              "    <tr>\n",
              "      <th>3</th>\n",
              "      <td>19.591398</td>\n",
              "      <td>16.704538</td>\n",
              "      <td>89.181426</td>\n",
              "    </tr>\n",
              "    <tr>\n",
              "      <th>4</th>\n",
              "      <td>17.456735</td>\n",
              "      <td>19.347661</td>\n",
              "      <td>90.720985</td>\n",
              "    </tr>\n",
              "    <tr>\n",
              "      <th>...</th>\n",
              "      <td>...</td>\n",
              "      <td>...</td>\n",
              "      <td>...</td>\n",
              "    </tr>\n",
              "    <tr>\n",
              "      <th>4995</th>\n",
              "      <td>23.750647</td>\n",
              "      <td>19.959513</td>\n",
              "      <td>107.052280</td>\n",
              "    </tr>\n",
              "    <tr>\n",
              "      <th>4996</th>\n",
              "      <td>20.290540</td>\n",
              "      <td>20.393391</td>\n",
              "      <td>101.201650</td>\n",
              "    </tr>\n",
              "    <tr>\n",
              "      <th>4997</th>\n",
              "      <td>15.428746</td>\n",
              "      <td>19.925349</td>\n",
              "      <td>91.425672</td>\n",
              "    </tr>\n",
              "    <tr>\n",
              "      <th>4998</th>\n",
              "      <td>19.807305</td>\n",
              "      <td>19.526279</td>\n",
              "      <td>96.609251</td>\n",
              "    </tr>\n",
              "    <tr>\n",
              "      <th>4999</th>\n",
              "      <td>21.968344</td>\n",
              "      <td>16.403232</td>\n",
              "      <td>92.413809</td>\n",
              "    </tr>\n",
              "  </tbody>\n",
              "</table>\n",
              "<p>5000 rows × 3 columns</p>\n",
              "</div>\n",
              "      <button class=\"colab-df-convert\" onclick=\"convertToInteractive('df-db6b0356-0776-40f9-b9f4-7e38377ccafb')\"\n",
              "              title=\"Convert this dataframe to an interactive table.\"\n",
              "              style=\"display:none;\">\n",
              "        \n",
              "  <svg xmlns=\"http://www.w3.org/2000/svg\" height=\"24px\"viewBox=\"0 0 24 24\"\n",
              "       width=\"24px\">\n",
              "    <path d=\"M0 0h24v24H0V0z\" fill=\"none\"/>\n",
              "    <path d=\"M18.56 5.44l.94 2.06.94-2.06 2.06-.94-2.06-.94-.94-2.06-.94 2.06-2.06.94zm-11 1L8.5 8.5l.94-2.06 2.06-.94-2.06-.94L8.5 2.5l-.94 2.06-2.06.94zm10 10l.94 2.06.94-2.06 2.06-.94-2.06-.94-.94-2.06-.94 2.06-2.06.94z\"/><path d=\"M17.41 7.96l-1.37-1.37c-.4-.4-.92-.59-1.43-.59-.52 0-1.04.2-1.43.59L10.3 9.45l-7.72 7.72c-.78.78-.78 2.05 0 2.83L4 21.41c.39.39.9.59 1.41.59.51 0 1.02-.2 1.41-.59l7.78-7.78 2.81-2.81c.8-.78.8-2.07 0-2.86zM5.41 20L4 18.59l7.72-7.72 1.47 1.35L5.41 20z\"/>\n",
              "  </svg>\n",
              "      </button>\n",
              "      \n",
              "  <style>\n",
              "    .colab-df-container {\n",
              "      display:flex;\n",
              "      flex-wrap:wrap;\n",
              "      gap: 12px;\n",
              "    }\n",
              "\n",
              "    .colab-df-convert {\n",
              "      background-color: #E8F0FE;\n",
              "      border: none;\n",
              "      border-radius: 50%;\n",
              "      cursor: pointer;\n",
              "      display: none;\n",
              "      fill: #1967D2;\n",
              "      height: 32px;\n",
              "      padding: 0 0 0 0;\n",
              "      width: 32px;\n",
              "    }\n",
              "\n",
              "    .colab-df-convert:hover {\n",
              "      background-color: #E2EBFA;\n",
              "      box-shadow: 0px 1px 2px rgba(60, 64, 67, 0.3), 0px 1px 3px 1px rgba(60, 64, 67, 0.15);\n",
              "      fill: #174EA6;\n",
              "    }\n",
              "\n",
              "    [theme=dark] .colab-df-convert {\n",
              "      background-color: #3B4455;\n",
              "      fill: #D2E3FC;\n",
              "    }\n",
              "\n",
              "    [theme=dark] .colab-df-convert:hover {\n",
              "      background-color: #434B5C;\n",
              "      box-shadow: 0px 1px 3px 1px rgba(0, 0, 0, 0.15);\n",
              "      filter: drop-shadow(0px 1px 2px rgba(0, 0, 0, 0.3));\n",
              "      fill: #FFFFFF;\n",
              "    }\n",
              "  </style>\n",
              "\n",
              "      <script>\n",
              "        const buttonEl =\n",
              "          document.querySelector('#df-db6b0356-0776-40f9-b9f4-7e38377ccafb button.colab-df-convert');\n",
              "        buttonEl.style.display =\n",
              "          google.colab.kernel.accessAllowed ? 'block' : 'none';\n",
              "\n",
              "        async function convertToInteractive(key) {\n",
              "          const element = document.querySelector('#df-db6b0356-0776-40f9-b9f4-7e38377ccafb');\n",
              "          const dataTable =\n",
              "            await google.colab.kernel.invokeFunction('convertToInteractive',\n",
              "                                                     [key], {});\n",
              "          if (!dataTable) return;\n",
              "\n",
              "          const docLinkHtml = 'Like what you see? Visit the ' +\n",
              "            '<a target=\"_blank\" href=https://colab.research.google.com/notebooks/data_table.ipynb>data table notebook</a>'\n",
              "            + ' to learn more about interactive tables.';\n",
              "          element.innerHTML = '';\n",
              "          dataTable['output_type'] = 'display_data';\n",
              "          await google.colab.output.renderOutput(dataTable, element);\n",
              "          const docLink = document.createElement('div');\n",
              "          docLink.innerHTML = docLinkHtml;\n",
              "          element.appendChild(docLink);\n",
              "        }\n",
              "      </script>\n",
              "    </div>\n",
              "  </div>\n",
              "  "
            ]
          },
          "metadata": {},
          "execution_count": 155
        }
      ]
    },
    {
      "cell_type": "code",
      "execution_count": 156,
      "metadata": {
        "id": "OfCHeyKskgB4",
        "colab": {
          "base_uri": "https://localhost:8080/",
          "height": 582
        },
        "outputId": "c10b56ee-9c85-465d-ad1d-cab02cd8cfc6"
      },
      "outputs": [
        {
          "output_type": "display_data",
          "data": {
            "text/plain": [
              "<Figure size 810x810 with 1 Axes>"
            ],
            "image/png": "[encoded data removed]"
          },
          "metadata": {}
        }
      ],
      "source": [
        "%matplotlib inline\n",
        "lg.draw_network(\"my_network\", correlation_annotation=False,open=True) #Only first drawn, because all are same"
      ]
    },
    {
      "cell_type": "markdown",
      "metadata": {
        "id": "a5Q89LEU6fxv"
      },
      "source": [
        "## **Discretization**"
      ]
    },
    {
      "cell_type": "code",
      "execution_count": 182,
      "metadata": {
        "id": "xSKbwtCXNtI8"
      },
      "outputs": [],
      "source": [
        "data, model_edges, graph = lg_data, lg_edges, lg_graph"
      ]
    },
    {
      "cell_type": "code",
      "execution_count": 183,
      "metadata": {
        "id": "A640lKIFr-ES"
      },
      "outputs": [],
      "source": [
        "class discretizing:\n",
        "    \"\"\"\n",
        "    Class with all discretizing methods \n",
        "    \"\"\"\n",
        "    def __init__(self, data, quantiles, bins, target_column=None):\n",
        "      \"\"\"\n",
        "      Initiate data and logger and validates input\n",
        "      :data (pd.Dataframe) : to be converted data\n",
        "      \"\"\"\n",
        "      self.data = data\n",
        "      self.columns =data.columns\n",
        "      self.quantiles, self.bins= quantiles, bins\n",
        "      self.target_column = target_column\n",
        "\n",
        "    def discretization_EV(self):\n",
        "      \"Equal values: Discretize according to quantiles\"\n",
        "      data = self.data.copy(deep='False')\n",
        "      cutpoints = []\n",
        "      for column in self.columns:\n",
        "        data[column], bin = pd.qcut(data[column], q=self.quantiles, duplicates='drop', retbins=True)\n",
        "        cutpoints.append(bin)\n",
        "      return data, np.vstack(cutpoints)\n",
        "\n",
        "    def discretization_EB(self):\n",
        "      \"Equal length: Discretize according to bins\"\n",
        "      data = self.data.copy(deep='False')\n",
        "      cutpoints = []\n",
        "      for column in self.columns:\n",
        "        data[column], bin = pd.cut(data[column], bins=self.bins, duplicates='drop', retbins=True)\n",
        "        cutpoints.append(bin)\n",
        "      #Remove the first and last point\n",
        "      return data, np.vstack(cutpoints)\n",
        "\n",
        "    def discretization_MDLP(self, min_length=2):\n",
        "      \"MDLP discretization\"\n",
        "      mdlp = MDLP()\n",
        "      data = self.data.clip(lower=-50)\n",
        "      disc_mdlp_result = mdlp.fit_transform(data, data[self.target_column])\n",
        "      disc_mdlp = pd.DataFrame(disc_mdlp_result, columns=self.columns)\n",
        "      cutpoints_MLDP = mdlp.cut_points_\n",
        "      for i in range(len(cutpoints_MLDP)):\n",
        "        cutpoints_MLDP[i] = np.append(cutpoints_MLDP[i], float('inf'))\n",
        "        cutpoints_MLDP[i]  = np.append(float('-inf'), cutpoints_MLDP[i])\n",
        "      cutpoints_MLDP =[cutpoints_MLDP[i] for i in range(len(cutpoints_MLDP))]\n",
        "      cutpoints_MLDP = np.array(cutpoints_MLDP)\n",
        "      return disc_mdlp, cutpoints_MLDP"
      ]
    },
    {
      "cell_type": "markdown",
      "metadata": {
        "id": "9yREG1aY8QjA"
      },
      "source": [
        "# **Discretization and Error Computation EW 10**"
      ]
    },
    {
      "cell_type": "markdown",
      "source": [
        "### **Discretize**"
      ],
      "metadata": {
        "id": "nFA2HqOBm1ZR"
      }
    },
    {
      "cell_type": "markdown",
      "source": [
        "Discretize according to Equal Width with 10 bins ans compute the errors to see what happens."
      ],
      "metadata": {
        "id": "z4xeSAuCiE2_"
      }
    },
    {
      "cell_type": "code",
      "execution_count": 184,
      "metadata": {
        "id": "mjKeQh8TMqb2"
      },
      "outputs": [],
      "source": [
        "Discretization = discretizing(data=lg_data, quantiles=10, bins=10, target_column='D')\n",
        "disc_data, cutpoints = Discretization.discretization_EB()\n"
      ]
    },
    {
      "cell_type": "code",
      "execution_count": 185,
      "metadata": {
        "id": "vOe8IQPtxH4q"
      },
      "outputs": [],
      "source": [
        "# Initiate Bayesian Network Structure\n",
        "model_edges = model_edges\n",
        "\n",
        "model_struct = BayesianNetwork(ebunch = model_edges)\n",
        "model_struct.nodes()\n",
        "\n",
        "#Learn Max likelihood Estimator\n",
        "mle = MaximumLikelihoodEstimator(model=model_struct, data=disc_data)\n",
        "\n",
        "# Estimating CPDs for all the nodes in the model\n",
        "all_cpds = mle.get_parameters() # Show 3 CPDs in the output\n"
      ]
    },
    {
      "cell_type": "code",
      "execution_count": 186,
      "metadata": {
        "id": "M6DhQjcLxZvH"
      },
      "outputs": [],
      "source": [
        "# Fit Equal Values Bayesian Network\n",
        "model_struct.fit(disc_data)"
      ]
    },
    {
      "cell_type": "code",
      "execution_count": 187,
      "metadata": {
        "id": "E6lQ0q4UtyW4"
      },
      "outputs": [],
      "source": [
        "# Compute the weighted average of the discretized bins\n",
        "merged_frame = data.merge(disc_data, left_index=True,right_index=True, suffixes=['_raw','_disc'])\n",
        "values = [merged_frame.groupby([col+'_disc'])[col+'_raw'].mean().values for col in data.columns]\n",
        "values_dict = dict(zip(['A','B','D'],values))\n",
        "dicts = [merged_frame.groupby([col+'_disc'])[col+'_raw'].mean().to_dict() for col in data.columns]\n",
        "disc_probs =[model_struct.get_cpds(col).values for col in data.columns]\n",
        "prob_dict = dict(zip(['A','B','D'],disc_probs))"
      ]
    },
    {
      "cell_type": "markdown",
      "source": [
        "### **Evaluating the Queries**"
      ],
      "metadata": {
        "id": "3qth9BmlLapn"
      }
    },
    {
      "cell_type": "markdown",
      "source": [
        "We are comparing \n",
        "\\begin{align*}\n",
        "\\mathbb{E}_{disc}[E\\mid B_j] \\text{   vs    } \\frac{1}{|B_j|}\\sum_{x_i\\in B_j}\\mathbb{E}[E\\mid x_i].\n",
        "\\end{align*}\n",
        "\n",
        "where $\\mathbb{E}_{disc}[E\\mid B_j]$ can only be evaluated on the bins $B_j$ and we are comparing that with the mean of the expected value in the samples of that bin: $\\frac{1}{|B_j|}\\sum_{x_i\\in B_j}\\mathbb{E}[E\\mid x_i]$.\n",
        "\n",
        "Because of the following equality\n",
        "\\begin{align*}\n",
        "\\mathbb{E}[E\\mid f(B_j)] = \\mathbb{E}[E\\mid \\frac{1}{|B_j|}\\sum_{x_i\\in B_j}x_i]=\\frac{1}{|B_j|}\\sum_{x_i\\in B_j}\\mathbb{E}[E\\mid x_i].\n",
        "\\end{align*} \n",
        "we could also compute $\\mathbb{E}[E\\mid f(B_j)]$ for\n",
        "\\begin{align*}\n",
        "f(B_j)=\\frac{1}{|B_j|}\\sum_{x_i\\in B_j}x_i.\n",
        "\\end{align*} \n"
      ],
      "metadata": {
        "id": "w5Du3tN7YAhL"
      }
    },
    {
      "cell_type": "code",
      "source": [
        "#Sample from the original data:\n",
        "raw_sample = data.reset_index(drop=True)\n",
        "\n",
        "# The discretized distribution, we can gather samples from the distribution\n",
        "inference = BayesianModelSampling(model_struct)\n",
        "discretized_sample = inference.forward_sample(size=len(data))[data.columns]\n",
        "for i, col in enumerate(data.columns):\n",
        "  discretized_sample[col] = discretized_sample[col].map(dicts[i])\n",
        "discretized_sample.fillna(discretized_sample.mean(), inplace=True)\n",
        "for i, variable in enumerate(raw_sample.columns):\n",
        "  plt.figure(figsize=(8,8))\n",
        "  ax = plt.subplot()\n",
        "  ax.set_xlabel('Value', fontsize = 17, fontweight=\"bold\") \n",
        "  plt.xticks(fontsize = 15)\n",
        "  plt.yticks(fontsize = 15)\n",
        "  ax.set_ylabel('Density', fontsize = 17, fontweight=\"bold\")\n",
        "  ax.hist(raw_sample[variable], bins=80, alpha=0.5, label=\"raw\", density=True)\n",
        "  ax.hist(discretized_sample[variable].to_numpy(), bins=cutpoints[i], alpha=0.5, label=\"discretized\", density=True)"
      ],
      "metadata": {
        "colab": {
          "base_uri": "https://localhost:8080/",
          "height": 1000,
          "referenced_widgets": [
            "e6153519153743c0bb6bd442614d13bf",
            "c4c063fc75734f8d8e8ee80b582732cb",
            "7570b8e9e6e84839ab4cf730b894bf39",
            "dfa9c5698df545efb69ce1814caf6fd0",
            "4706bfec9aa543fa821b4bf91841e014",
            "a81cc07ac35940b1a72738efbdf66077",
            "315208a18b274969a417360813ef5266",
            "848a7be57848404ca198e3cee72342f8",
            "42b20e63381b480eb9dd7179c9e05490",
            "e08b51e65e8547b5955708877a64061f",
            "70fedc1d33534aec9eebb2bf869a515c"
          ]
        },
        "id": "g9eizK63SLtn",
        "outputId": "38be9b62-4980-4a50-a1bd-f0a0db6c65e4"
      },
      "execution_count": 188,
      "outputs": [
        {
          "output_type": "display_data",
          "data": {
            "text/plain": [
              "  0%|          | 0/3 [00:00<?, ?it/s]"
            ],
            "application/vnd.jupyter.widget-view+json": {
              "version_major": 2,
              "version_minor": 0,
              "model_id": "e6153519153743c0bb6bd442614d13bf"
            }
          },
          "metadata": {}
        },
        {
          "output_type": "stream",
          "name": "stderr",
          "text": [
            "/usr/local/lib/python3.10/dist-packages/pgmpy/utils/mathext.py:82: UserWarning: Probability values don't exactly sum to 1. Differ by: 1.1102230246251565e-16. Adjusting values.\n",
            "  warn(\n"
          ]
        },
        {
          "output_type": "display_data",
          "data": {
            "text/plain": [
              "<Figure size 360x360 with 1 Axes>"
            ],
            "image/png": "[encoded data removed]"
          },
          "metadata": {}
        },
        {
          "output_type": "display_data",
          "data": {
            "text/plain": [
              "<Figure size 360x360 with 1 Axes>"
            ],
            "image/png": "[encoded data removed]"
          },
          "metadata": {}
        },
        {
          "output_type": "display_data",
          "data": {
            "text/plain": [
              "<Figure size 360x360 with 1 Axes>"
            ],
            "image/png": "[encoded data removed]"
          },
          "metadata": {}
        }
      ]
    },
    {
      "cell_type": "markdown",
      "source": [
        "We compute $\\mathbb{E}_{disc}[E\\mid B_j]$ by constructing conditonal probability tables from the discretized data and feeding evidence $B_j$. As can be seen in the previous figure, there are very few samples at the edges of the distribution. Therefore, the CPTs resulting from these bins are unreliable. "
      ],
      "metadata": {
        "id": "3WQ7B-MaQsFo"
      }
    },
    {
      "cell_type": "code",
      "source": [
        "# Computed the discretized inference queries\n",
        "from pgmpy.inference import VariableElimination\n",
        "infer = VariableElimination(model_struct)\n",
        "non_nans_b = [x for x in values_dict['D'] if str(x) != 'nan']\n",
        "disc_sol = []\n",
        "for value in sorted(disc_data['A'].unique()):\n",
        "  agg_solution = infer.query(variables=['D'], evidence={'A': value}).values\n",
        "  disc_sol.append(sum(agg_solution * non_nans_b))\n",
        "print(disc_sol)"
      ],
      "metadata": {
        "colab": {
          "base_uri": "https://localhost:8080/"
        },
        "id": "3ne1Fc7jRMF2",
        "outputId": "4c91d9ff-fc9f-4d51-eb7a-b9d70e22058f"
      },
      "execution_count": 189,
      "outputs": [
        {
          "output_type": "stream",
          "name": "stdout",
          "text": [
            "[90.03280109397902, 92.51456795113715, 94.22263082956052, 97.10272988442466, 99.59666204229906, 102.26048073754079, 104.93608177518817, 107.28859688408771, 110.26026531304304, 110.50477863546894]\n"
          ]
        }
      ]
    },
    {
      "cell_type": "markdown",
      "source": [
        "We compute $\\mathbb{E}[E\\mid f(B_j)]$ by exact method resulting from the distribution, which can be computed from the following formula's\n",
        "\n",
        "\\begin{align*}\n",
        "P(Y\\mid X) \\sim \\mathcal{N}(\\beta_0+\\beta^TX;\\sigma^2)\n",
        "\\end{align*}\n",
        "where the paremeters can be calculated are calculated by parent nodes:\n",
        "\\begin{align*}\n",
        "\\beta_0=\\mu_Y-\\Sigma_{XY}\\Sigma_{XX}^{-1}\\mu_X \\\\\n",
        "\\beta=\\Sigma_{XX}^{-1}\\Sigma_{YX} \\\\\n",
        "\\sigma^2= \\Sigma_{YY}-\\Sigma_{YX}\\Sigma_{XX}^{-1}\\Sigma_{XY}.\n",
        "\\end{align*}\n",
        "\n",
        "Note that this techniques makes use of the emperical means of the entire sample size and not just a small part of it as the discretized inference query does."
      ],
      "metadata": {
        "id": "KEv8flv5RVHn"
      }
    },
    {
      "cell_type": "code",
      "source": [
        "import math\n",
        "exact_sol=[]\n",
        "for value in sorted(values_dict['A']):\n",
        "    if not math.isnan(value):\n",
        "        lg.set_evidences({'A': value})\n",
        "        inference = lg.run_inference(debug=False)\n",
        "        exact_sol.append(inference.loc['D','Mean_inferred'])\n",
        "exact_sol"
      ],
      "metadata": {
        "id": "I_rHD4l2qSAh"
      },
      "execution_count": null,
      "outputs": []
    },
    {
      "cell_type": "code",
      "source": [
        "error_frame=pd.DataFrame()\n",
        "error_frame['disc_sol'] = disc_sol\n",
        "error_frame['exact_sol'] = exact_sol\n",
        "error_frame['error'] = np.abs(error_frame['exact_sol'] - error_frame['disc_sol'])\n",
        "error_frame['Input_conditonal'] = sorted(values_dict['A'])"
      ],
      "metadata": {
        "id": "XgzZtYd0YXLY"
      },
      "execution_count": 191,
      "outputs": []
    },
    {
      "cell_type": "code",
      "source": [
        "sns.set(style='ticks', context='notebook', font_scale=1.1)\n",
        "fig.set_size_inches(15, 15)\n",
        "sns.set(rc={'figure.figsize':(18,18)})\n",
        "fig, ax = plt.subplots()\n",
        "ax.set_xlabel('Conditonal $f(B_j)$', fontsize = 20, fontweight=\"bold\") \n",
        "plt.xticks(fontsize = 15)\n",
        "plt.yticks(fontsize = 15)\n",
        "ax.set_ylabel('Error', fontsize = 20, fontweight=\"bold\")\n",
        "ax.hlines(y=0, xmin=10, xmax=28, linewidth=2, color='r')\n",
        "plt.title(\"Error ($\\mathbb{E}_{disc}[D\\mid B_j]-\\mathbb{E}[D\\mid f(B_j)]$) for each of the bins $B_j$ and associated $f(B_j)$ \",fontsize = 20, fontweight=\"bold\")\n",
        "sns.lineplot(y=\"error\", x=\"Input_conditonal\", data=error_frame, ax=ax) #change when dd size is available"
      ],
      "metadata": {
        "colab": {
          "base_uri": "https://localhost:8080/",
          "height": 718
        },
        "id": "UFpaTY3Twcjg",
        "outputId": "386964d0-8591-4434-ffb6-5a836d48be3a"
      },
      "execution_count": 192,
      "outputs": [
        {
          "output_type": "execute_result",
          "data": {
            "text/plain": [
              "<Axes: title={'center': 'Error ($\\\\mathbb{E}_{disc}[D\\\\mid B_j]-\\\\mathbb{E}[D\\\\mid f(B_j)]$) for each of the bins $B_j$ and associated $f(B_j)$ '}, xlabel='Conditonal $f(B_j)$', ylabel='Error'>"
            ]
          },
          "metadata": {},
          "execution_count": 192
        },
        {
          "output_type": "display_data",
          "data": {
            "text/plain": [
              "<Figure size 810x810 with 1 Axes>"
            ],
            "image/png": "[encoded data removed]"
          },
          "metadata": {}
        }
      ]
    },
    {
      "cell_type": "markdown",
      "source": [
        "As can be seen in the plot, the difference between $\\mathbb{E}_{disc}[D\\mid B_j]$ and $\\mathbb{E}[D\\mid f(B_j)]$ increases at the edges of the distributions (conditonals where CPTs are the least reliable because of low sample size). These errors will be increasingly penalized when using a squared error error measures such as root mean square or weighted root mean square such as in the following example. But first compute the errors."
      ],
      "metadata": {
        "id": "-KHsyza7gxhn"
      }
    },
    {
      "cell_type": "markdown",
      "source": [
        "### **WRMSE and RMSE**"
      ],
      "metadata": {
        "id": "3x4rFf6xr0RE"
      }
    },
    {
      "cell_type": "code",
      "source": [
        "from sklearn.metrics import mean_squared_error, mean_absolute_error"
      ],
      "metadata": {
        "id": "hMzdUEs8oHrs"
      },
      "execution_count": 193,
      "outputs": []
    },
    {
      "cell_type": "code",
      "source": [
        "rmse = mean_squared_error(exact_sol, disc_sol, squared=False)\n",
        "wrmse = mean_squared_error(exact_sol, disc_sol, sample_weight = prob_dict['A'], squared=False) # here we compensate for the probability P(f(B_j))\n",
        "mae = mean_squared_error(exact_sol, disc_sol)\n",
        "\n",
        "print(f'The root mean squared error is {rmse}, while the weighted root mean squared error is {wrmse} and the mean absolute error is {mae}.')"
      ],
      "metadata": {
        "id": "fIdonLN2r3LS",
        "colab": {
          "base_uri": "https://localhost:8080/"
        },
        "outputId": "52bbfe21-323b-4b88-b395-d0b365611c55"
      },
      "execution_count": 194,
      "outputs": [
        {
          "output_type": "stream",
          "name": "stdout",
          "text": [
            "The root mean squared error is 1.0550827946060728, while the weighted root mean squared error is 0.2436655223815519 and the mean absolute error is 1.1131997034737604.\n"
          ]
        }
      ]
    },
    {
      "cell_type": "markdown",
      "metadata": {
        "id": "yZHujl3apNwJ"
      },
      "source": [
        "# **Discretization and Error Computation EW 20**"
      ]
    },
    {
      "cell_type": "markdown",
      "source": [
        "### **Discretize**"
      ],
      "metadata": {
        "id": "sRFdIRQvpNwJ"
      }
    },
    {
      "cell_type": "markdown",
      "source": [
        "Discretize according to Equal Width with 20 bins and compute the errors."
      ],
      "metadata": {
        "id": "AOcGgMFSpNwJ"
      }
    },
    {
      "cell_type": "code",
      "execution_count": 171,
      "metadata": {
        "id": "z_hKhFeMpNwJ"
      },
      "outputs": [],
      "source": [
        "Discretization = discretizing(data=lg_data, quantiles=20, bins=20, target_column='D')\n",
        "disc_data, cutpoints = Discretization.discretization_EB()\n"
      ]
    },
    {
      "cell_type": "code",
      "execution_count": 172,
      "metadata": {
        "id": "lfH0qq7tpNwJ"
      },
      "outputs": [],
      "source": [
        "# Initiate Bayesian Network Structure\n",
        "model_edges = model_edges\n",
        "\n",
        "model_struct = BayesianNetwork(ebunch = model_edges)\n",
        "model_struct.nodes()\n",
        "\n",
        "#Learn Max likelihood Estimator\n",
        "mle = MaximumLikelihoodEstimator(model=model_struct, data=disc_data)\n",
        "\n",
        "# Estimating CPDs for all the nodes in the model\n",
        "all_cpds = mle.get_parameters() # Show 3 CPDs in the output\n"
      ]
    },
    {
      "cell_type": "code",
      "execution_count": 173,
      "metadata": {
        "id": "9ZWNzcoYpNwJ"
      },
      "outputs": [],
      "source": [
        "# Fit Equal Values Bayesian Network\n",
        "model_struct.fit(disc_data)"
      ]
    },
    {
      "cell_type": "code",
      "execution_count": 174,
      "metadata": {
        "id": "5w165WfHpNwJ"
      },
      "outputs": [],
      "source": [
        "# Compute the weighted average of the discretized bins\n",
        "merged_frame = data.merge(disc_data, left_index=True,right_index=True, suffixes=['_raw','_disc'])\n",
        "values = [merged_frame.groupby([col+'_disc'])[col+'_raw'].mean().values for col in data.columns]\n",
        "values_dict = dict(zip(['A','B','D'],values))\n",
        "dicts = [merged_frame.groupby([col+'_disc'])[col+'_raw'].mean().to_dict() for col in data.columns]\n",
        "disc_probs =[model_struct.get_cpds(col).values for col in data.columns]\n",
        "prob_dict = dict(zip(['A','B','D'],disc_probs))"
      ]
    },
    {
      "cell_type": "markdown",
      "source": [
        "### **Evaluating the Queries**"
      ],
      "metadata": {
        "id": "mk6HHLvYpNwJ"
      }
    },
    {
      "cell_type": "markdown",
      "source": [
        "We are comparing \n",
        "\\begin{align*}\n",
        "\\mathbb{E}_{disc}[E\\mid B_j] \\text{   vs    } \\frac{1}{|B_j|}\\sum_{x_i\\in B_j}\\mathbb{E}[E\\mid x_i].\n",
        "\\end{align*}\n",
        "\n",
        "where $\\mathbb{E}_{disc}[E\\mid B_j]$ can only be evaluated on the bins $B_j$ and we are comparing that with the mean of the expected value in the samples of that bin: $\\frac{1}{|B_j|}\\sum_{x_i\\in B_j}\\mathbb{E}[E\\mid x_i]$.\n",
        "\n",
        "Because of the following equality\n",
        "\\begin{align*}\n",
        "\\mathbb{E}[E\\mid f(B_j)] = \\mathbb{E}[E\\mid \\frac{1}{|B_j|}\\sum_{x_i\\in B_j}x_i]=\\frac{1}{|B_j|}\\sum_{x_i\\in B_j}\\mathbb{E}[E\\mid x_i].\n",
        "\\end{align*} \n",
        "we could also compute $\\mathbb{E}[E\\mid f(B_j)]$ for\n",
        "\\begin{align*}\n",
        "f(B_j)=\\frac{1}{|B_j|}\\sum_{x_i\\in B_j}x_i.\n",
        "\\end{align*} \n"
      ],
      "metadata": {
        "id": "nloX3M5KpNwK"
      }
    },
    {
      "cell_type": "code",
      "source": [
        "#Sample from the original data:\n",
        "raw_sample = data.reset_index(drop=True)\n",
        "\n",
        "# The discretized distribution, we can gather samples from the distribution\n",
        "inference = BayesianModelSampling(model_struct)\n",
        "discretized_sample = inference.forward_sample(size=len(data))[data.columns]\n",
        "for i, col in enumerate(data.columns):\n",
        "  discretized_sample[col] = discretized_sample[col].map(dicts[i])\n",
        "discretized_sample.fillna(discretized_sample.mean(), inplace=True)\n",
        "for i, variable in enumerate(raw_sample.columns):\n",
        "  plt.figure(figsize=(8,8))\n",
        "  ax = plt.subplot()\n",
        "  ax.set_xlabel('Value', fontsize = 17, fontweight=\"bold\") \n",
        "  plt.xticks(fontsize = 15)\n",
        "  plt.yticks(fontsize = 15)\n",
        "  ax.set_ylabel('Density', fontsize = 17, fontweight=\"bold\")\n",
        "  ax.hist(raw_sample[variable], bins=80, alpha=0.5, label=\"raw\", density=True)\n",
        "  ax.hist(discretized_sample[variable].to_numpy(), bins=cutpoints[i], alpha=0.5, label=\"discretized\", density=True)"
      ],
      "metadata": {
        "colab": {
          "base_uri": "https://localhost:8080/",
          "height": 1000,
          "referenced_widgets": [
            "16de6912725247d7bf932a5e84bf3475",
            "09aab8dc2d2143019ea28d3f800dd167",
            "18c78183b10b491f9d70a2ba973efb2e",
            "40733e64e8fc429583deca1295928c18",
            "33d3f301d56249c5a734ffef662b1668",
            "09388eea624240a48ae9d31951fc32b9",
            "ec49e6a5b29941f29349ea54ccc92c90",
            "5e2aa0f536a44e058fd72998f57c8231",
            "37aa333c2cc14bfbb9694331544c25b0",
            "031a5b4ed4ba41708907f4e6fa1e1ab3",
            "26867e8b9c824a6097ec7fd2fe0b1368"
          ]
        },
        "outputId": "56975052-46e5-4899-f595-2bc02794a34c",
        "id": "MA3K1HD1pNwK"
      },
      "execution_count": 175,
      "outputs": [
        {
          "output_type": "display_data",
          "data": {
            "text/plain": [
              "  0%|          | 0/3 [00:00<?, ?it/s]"
            ],
            "application/vnd.jupyter.widget-view+json": {
              "version_major": 2,
              "version_minor": 0,
              "model_id": "16de6912725247d7bf932a5e84bf3475"
            }
          },
          "metadata": {}
        },
        {
          "output_type": "stream",
          "name": "stderr",
          "text": [
            "/usr/local/lib/python3.10/dist-packages/pgmpy/utils/mathext.py:82: UserWarning: Probability values don't exactly sum to 1. Differ by: -2.220446049250313e-16. Adjusting values.\n",
            "  warn(\n",
            "/usr/local/lib/python3.10/dist-packages/pgmpy/utils/mathext.py:82: UserWarning: Probability values don't exactly sum to 1. Differ by: 1.1102230246251565e-16. Adjusting values.\n",
            "  warn(\n",
            "/usr/local/lib/python3.10/dist-packages/pgmpy/utils/mathext.py:82: UserWarning: Probability values don't exactly sum to 1. Differ by: 2.220446049250313e-16. Adjusting values.\n",
            "  warn(\n"
          ]
        },
        {
          "output_type": "display_data",
          "data": {
            "text/plain": [
              "<Figure size 360x360 with 1 Axes>"
            ],
            "image/png": "[encoded data removed]"
          },
          "metadata": {}
        },
        {
          "output_type": "display_data",
          "data": {
            "text/plain": [
              "<Figure size 360x360 with 1 Axes>"
            ],
            "image/png": "[encoded data removed]"
          },
          "metadata": {}
        },
        {
          "output_type": "display_data",
          "data": {
            "text/plain": [
              "<Figure size 360x360 with 1 Axes>"
            ],
            "image/png": "[encoded data removed]"
          },
          "metadata": {}
        }
      ]
    },
    {
      "cell_type": "markdown",
      "source": [
        "We compute $\\mathbb{E}_{disc}[E\\mid B_j]$ by constructing conditonal probability tables from the discretized data and feeding evidence $B_j$. As can be seen in the previous figure, there are very few samples at the edges of the distribution. Therefore, the CPTs resulting from these bins are unreliable. "
      ],
      "metadata": {
        "id": "ieqp7eaApNwK"
      }
    },
    {
      "cell_type": "code",
      "source": [
        "# Computed the discretized inference queries\n",
        "from pgmpy.inference import VariableElimination\n",
        "infer = VariableElimination(model_struct)\n",
        "non_nans_b = [x for x in values_dict['D'] if str(x) != 'nan']\n",
        "disc_sol = []\n",
        "for value in sorted(disc_data['A'].unique()):\n",
        "  agg_solution = infer.query(variables=['D'], evidence={'A': value}).values\n",
        "  disc_sol.append(sum(agg_solution * non_nans_b))\n",
        "print(disc_sol)"
      ],
      "metadata": {
        "colab": {
          "base_uri": "https://localhost:8080/"
        },
        "outputId": "a4445ab0-9588-4c82-9127-077877ca2489",
        "id": "ub_HjrsVpNwK"
      },
      "execution_count": 176,
      "outputs": [
        {
          "output_type": "stream",
          "name": "stdout",
          "text": [
            "[94.95353567236353, 92.5214193341138, 91.47666762952738, 92.47567481242491, 93.58286529899188, 94.7210304757866, 96.21648929113707, 97.58560322678598, 98.84210511088952, 100.37060732316762, 101.74863110341309, 102.83577673038455, 104.40464483487334, 106.08014299930025, 107.02620471581199, 108.36859950850442, 110.22243032097192, 106.1949949759698, 103.32466128548825, 106.08693014997937]\n"
          ]
        }
      ]
    },
    {
      "cell_type": "markdown",
      "source": [
        "We compute $\\mathbb{E}[E\\mid f(B_j)]$ by exact method resulting from the distribution, which can be computed from the following formula's\n",
        "\n",
        "\\begin{align*}\n",
        "P(Y\\mid X) \\sim \\mathcal{N}(\\beta_0+\\beta^TX;\\sigma^2)\n",
        "\\end{align*}\n",
        "where the paremeters can be calculated are calculated by parent nodes:\n",
        "\\begin{align*}\n",
        "\\beta_0=\\mu_Y-\\Sigma_{XY}\\Sigma_{XX}^{-1}\\mu_X \\\\\n",
        "\\beta=\\Sigma_{XX}^{-1}\\Sigma_{YX} \\\\\n",
        "\\sigma^2= \\Sigma_{YY}-\\Sigma_{YX}\\Sigma_{XX}^{-1}\\Sigma_{XY}.\n",
        "\\end{align*}\n",
        "\n",
        "Note that this techniques makes use of the emperical means of the entire sample size and not just a small part of it as the discretized inference query does."
      ],
      "metadata": {
        "id": "FoYo8hmzpNwK"
      }
    },
    {
      "cell_type": "code",
      "source": [
        "import math\n",
        "exact_sol=[]\n",
        "for value in sorted(values_dict['A']):\n",
        "    if not math.isnan(value):\n",
        "        lg.set_evidences({'A': value})\n",
        "        inference = lg.run_inference(debug=False)\n",
        "        exact_sol.append(inference.loc['D','Mean_inferred'])\n",
        "exact_sol"
      ],
      "metadata": {
        "id": "ADvPvaMcpNwK"
      },
      "execution_count": null,
      "outputs": []
    },
    {
      "cell_type": "code",
      "source": [
        "error_frame=pd.DataFrame()\n",
        "error_frame['disc_sol'] = disc_sol\n",
        "error_frame['exact_sol'] = exact_sol\n",
        "error_frame['error'] = np.abs(error_frame['exact_sol'] - error_frame['disc_sol'])\n",
        "error_frame['Input_conditonal'] = sorted(values_dict['A'])"
      ],
      "metadata": {
        "id": "TF83vqKfpNwK"
      },
      "execution_count": 178,
      "outputs": []
    },
    {
      "cell_type": "code",
      "source": [
        "sns.set(style='ticks', context='notebook', font_scale=1.1)\n",
        "fig.set_size_inches(15, 15)\n",
        "sns.set(rc={'figure.figsize':(18,18)})\n",
        "fig, ax = plt.subplots()\n",
        "ax.set_xlabel('Conditonal $f(B_j)$', fontsize = 20, fontweight=\"bold\") \n",
        "plt.xticks(fontsize = 15)\n",
        "plt.yticks(fontsize = 15)\n",
        "ax.set_ylabel('Error', fontsize = 20, fontweight=\"bold\")\n",
        "ax.hlines(y=0, xmin=10, xmax=28, linewidth=2, color='r')\n",
        "plt.title(\"Error ($\\mathbb{E}_{disc}[D\\mid B_j]-\\mathbb{E}[D\\mid f(B_j)]$) for each of the bins $B_j$ and associated $f(B_j)$ \",fontsize = 20, fontweight=\"bold\")\n",
        "sns.lineplot(y=\"error\", x=\"Input_conditonal\", data=error_frame, ax=ax) #change when dd size is available"
      ],
      "metadata": {
        "colab": {
          "base_uri": "https://localhost:8080/",
          "height": 718
        },
        "outputId": "c6306abd-7d6e-40df-b232-ff54bd2109a7",
        "id": "X-iyhQ81pNwK"
      },
      "execution_count": 179,
      "outputs": [
        {
          "output_type": "execute_result",
          "data": {
            "text/plain": [
              "<Axes: title={'center': 'Error ($\\\\mathbb{E}_{disc}[D\\\\mid B_j]-\\\\mathbb{E}[D\\\\mid f(B_j)]$) for each of the bins $B_j$ and associated $f(B_j)$ '}, xlabel='Conditonal $f(B_j)$', ylabel='Error'>"
            ]
          },
          "metadata": {},
          "execution_count": 179
        },
        {
          "output_type": "display_data",
          "data": {
            "text/plain": [
              "<Figure size 810x810 with 1 Axes>"
            ],
            "image/png": "[encoded data removed]"
          },
          "metadata": {}
        }
      ]
    },
    {
      "cell_type": "markdown",
      "source": [
        "As can be seen in the plot, the difference between $\\mathbb{E}_{disc}[D\\mid B_j]$ and $\\mathbb{E}[D\\mid f(B_j)]$ increases at the edges of the distributions (conditonals where CPTs are the least reliable because of low sample size). These errors will be increasingly penalized when using a squared error error measures such as root mean square or weighted root mean square such as in the following example. But first compute the errors."
      ],
      "metadata": {
        "id": "HHQKrz6npNwK"
      }
    },
    {
      "cell_type": "markdown",
      "source": [
        "### **WRMSE and RMSE**"
      ],
      "metadata": {
        "id": "MaCZuZSKpNwL"
      }
    },
    {
      "cell_type": "code",
      "source": [
        "from sklearn.metrics import mean_squared_error, mean_absolute_error"
      ],
      "metadata": {
        "id": "1ftfp7olpNwL"
      },
      "execution_count": 180,
      "outputs": []
    },
    {
      "cell_type": "code",
      "source": [
        "rmse = mean_squared_error(exact_sol, disc_sol, squared=False)\n",
        "wrmse = mean_squared_error(exact_sol, disc_sol, sample_weight = prob_dict['A'], squared=False) # here we compensate for the probability P(f(B_j))\n",
        "mae = mean_squared_error(exact_sol, disc_sol)\n",
        "\n",
        "print(f'The root mean squared error is {rmse}, while the weighted root mean squared error is {wrmse} and the mean absolute error is {mae}.')"
      ],
      "metadata": {
        "colab": {
          "base_uri": "https://localhost:8080/"
        },
        "outputId": "f5da6b01-83a0-4d91-c6b4-354c338a374c",
        "id": "3EWJSGCTpNwL"
      },
      "execution_count": 181,
      "outputs": [
        {
          "output_type": "stream",
          "name": "stdout",
          "text": [
            "The root mean squared error is 3.487417925339632, while the weighted root mean squared error is 0.5437422704377446 and the mean absolute error is 12.162083785980183.\n"
          ]
        }
      ]
    }
  ],
  "metadata": {
    "colab": {
      "provenance": []
    },
    "kernelspec": {
      "display_name": "Python 3",
      "name": "python3"
    },
    "language_info": {
      "name": "python"
    },
    "widgets": {
      "application/vnd.jupyter.widget-state+json": {
        "e6153519153743c0bb6bd442614d13bf": {
          "model_module": "@jupyter-widgets/controls",
          "model_name": "HBoxModel",
          "model_module_version": "1.5.0",
          "state": {
            "_dom_classes": [],
            "_model_module": "@jupyter-widgets/controls",
            "_model_module_version": "1.5.0",
            "_model_name": "HBoxModel",
            "_view_count": null,
            "_view_module": "@jupyter-widgets/controls",
            "_view_module_version": "1.5.0",
            "_view_name": "HBoxView",
            "box_style": "",
            "children": [
              "IPY_MODEL_c4c063fc75734f8d8e8ee80b582732cb",
              "IPY_MODEL_7570b8e9e6e84839ab4cf730b894bf39",
              "IPY_MODEL_dfa9c5698df545efb69ce1814caf6fd0"
            ],
            "layout": "IPY_MODEL_4706bfec9aa543fa821b4bf91841e014"
          }
        },
        "c4c063fc75734f8d8e8ee80b582732cb": {
          "model_module": "@jupyter-widgets/controls",
          "model_name": "HTMLModel",
          "model_module_version": "1.5.0",
          "state": {
            "_dom_classes": [],
            "_model_module": "@jupyter-widgets/controls",
            "_model_module_version": "1.5.0",
            "_model_name": "HTMLModel",
            "_view_count": null,
            "_view_module": "@jupyter-widgets/controls",
            "_view_module_version": "1.5.0",
            "_view_name": "HTMLView",
            "description": "",
            "description_tooltip": null,
            "layout": "IPY_MODEL_a81cc07ac35940b1a72738efbdf66077",
            "placeholder": "​",
            "style": "IPY_MODEL_315208a18b274969a417360813ef5266",
            "value": "Generating for node: D: 100%"
          }
        },
        "7570b8e9e6e84839ab4cf730b894bf39": {
          "model_module": "@jupyter-widgets/controls",
          "model_name": "FloatProgressModel",
          "model_module_version": "1.5.0",
          "state": {
            "_dom_classes": [],
            "_model_module": "@jupyter-widgets/controls",
            "_model_module_version": "1.5.0",
            "_model_name": "FloatProgressModel",
            "_view_count": null,
            "_view_module": "@jupyter-widgets/controls",
            "_view_module_version": "1.5.0",
            "_view_name": "ProgressView",
            "bar_style": "success",
            "description": "",
            "description_tooltip": null,
            "layout": "IPY_MODEL_848a7be57848404ca198e3cee72342f8",
            "max": 3,
            "min": 0,
            "orientation": "horizontal",
            "style": "IPY_MODEL_42b20e63381b480eb9dd7179c9e05490",
            "value": 3
          }
        },
        "dfa9c5698df545efb69ce1814caf6fd0": {
          "model_module": "@jupyter-widgets/controls",
          "model_name": "HTMLModel",
          "model_module_version": "1.5.0",
          "state": {
            "_dom_classes": [],
            "_model_module": "@jupyter-widgets/controls",
            "_model_module_version": "1.5.0",
            "_model_name": "HTMLModel",
            "_view_count": null,
            "_view_module": "@jupyter-widgets/controls",
            "_view_module_version": "1.5.0",
            "_view_name": "HTMLView",
            "description": "",
            "description_tooltip": null,
            "layout": "IPY_MODEL_e08b51e65e8547b5955708877a64061f",
            "placeholder": "​",
            "style": "IPY_MODEL_70fedc1d33534aec9eebb2bf869a515c",
            "value": " 3/3 [00:00&lt;00:00, 49.82it/s]"
          }
        },
        "4706bfec9aa543fa821b4bf91841e014": {
          "model_module": "@jupyter-widgets/base",
          "model_name": "LayoutModel",
          "model_module_version": "1.2.0",
          "state": {
            "_model_module": "@jupyter-widgets/base",
            "_model_module_version": "1.2.0",
            "_model_name": "LayoutModel",
            "_view_count": null,
            "_view_module": "@jupyter-widgets/base",
            "_view_module_version": "1.2.0",
            "_view_name": "LayoutView",
            "align_content": null,
            "align_items": null,
            "align_self": null,
            "border": null,
            "bottom": null,
            "display": null,
            "flex": null,
            "flex_flow": null,
            "grid_area": null,
            "grid_auto_columns": null,
            "grid_auto_flow": null,
            "grid_auto_rows": null,
            "grid_column": null,
            "grid_gap": null,
            "grid_row": null,
            "grid_template_areas": null,
            "grid_template_columns": null,
            "grid_template_rows": null,
            "height": null,
            "justify_content": null,
            "justify_items": null,
            "left": null,
            "margin": null,
            "max_height": null,
            "max_width": null,
            "min_height": null,
            "min_width": null,
            "object_fit": null,
            "object_position": null,
            "order": null,
            "overflow": null,
            "overflow_x": null,
            "overflow_y": null,
            "padding": null,
            "right": null,
            "top": null,
            "visibility": null,
            "width": null
          }
        },
        "a81cc07ac35940b1a72738efbdf66077": {
          "model_module": "@jupyter-widgets/base",
          "model_name": "LayoutModel",
          "model_module_version": "1.2.0",
          "state": {
            "_model_module": "@jupyter-widgets/base",
            "_model_module_version": "1.2.0",
            "_model_name": "LayoutModel",
            "_view_count": null,
            "_view_module": "@jupyter-widgets/base",
            "_view_module_version": "1.2.0",
            "_view_name": "LayoutView",
            "align_content": null,
            "align_items": null,
            "align_self": null,
            "border": null,
            "bottom": null,
            "display": null,
            "flex": null,
            "flex_flow": null,
            "grid_area": null,
            "grid_auto_columns": null,
            "grid_auto_flow": null,
            "grid_auto_rows": null,
            "grid_column": null,
            "grid_gap": null,
            "grid_row": null,
            "grid_template_areas": null,
            "grid_template_columns": null,
            "grid_template_rows": null,
            "height": null,
            "justify_content": null,
            "justify_items": null,
            "left": null,
            "margin": null,
            "max_height": null,
            "max_width": null,
            "min_height": null,
            "min_width": null,
            "object_fit": null,
            "object_position": null,
            "order": null,
            "overflow": null,
            "overflow_x": null,
            "overflow_y": null,
            "padding": null,
            "right": null,
            "top": null,
            "visibility": null,
            "width": null
          }
        },
        "315208a18b274969a417360813ef5266": {
          "model_module": "@jupyter-widgets/controls",
          "model_name": "DescriptionStyleModel",
          "model_module_version": "1.5.0",
          "state": {
            "_model_module": "@jupyter-widgets/controls",
            "_model_module_version": "1.5.0",
            "_model_name": "DescriptionStyleModel",
            "_view_count": null,
            "_view_module": "@jupyter-widgets/base",
            "_view_module_version": "1.2.0",
            "_view_name": "StyleView",
            "description_width": ""
          }
        },
        "848a7be57848404ca198e3cee72342f8": {
          "model_module": "@jupyter-widgets/base",
          "model_name": "LayoutModel",
          "model_module_version": "1.2.0",
          "state": {
            "_model_module": "@jupyter-widgets/base",
            "_model_module_version": "1.2.0",
            "_model_name": "LayoutModel",
            "_view_count": null,
            "_view_module": "@jupyter-widgets/base",
            "_view_module_version": "1.2.0",
            "_view_name": "LayoutView",
            "align_content": null,
            "align_items": null,
            "align_self": null,
            "border": null,
            "bottom": null,
            "display": null,
            "flex": null,
            "flex_flow": null,
            "grid_area": null,
            "grid_auto_columns": null,
            "grid_auto_flow": null,
            "grid_auto_rows": null,
            "grid_column": null,
            "grid_gap": null,
            "grid_row": null,
            "grid_template_areas": null,
            "grid_template_columns": null,
            "grid_template_rows": null,
            "height": null,
            "justify_content": null,
            "justify_items": null,
            "left": null,
            "margin": null,
            "max_height": null,
            "max_width": null,
            "min_height": null,
            "min_width": null,
            "object_fit": null,
            "object_position": null,
            "order": null,
            "overflow": null,
            "overflow_x": null,
            "overflow_y": null,
            "padding": null,
            "right": null,
            "top": null,
            "visibility": null,
            "width": null
          }
        },
        "42b20e63381b480eb9dd7179c9e05490": {
          "model_module": "@jupyter-widgets/controls",
          "model_name": "ProgressStyleModel",
          "model_module_version": "1.5.0",
          "state": {
            "_model_module": "@jupyter-widgets/controls",
            "_model_module_version": "1.5.0",
            "_model_name": "ProgressStyleModel",
            "_view_count": null,
            "_view_module": "@jupyter-widgets/base",
            "_view_module_version": "1.2.0",
            "_view_name": "StyleView",
            "bar_color": null,
            "description_width": ""
          }
        },
        "e08b51e65e8547b5955708877a64061f": {
          "model_module": "@jupyter-widgets/base",
          "model_name": "LayoutModel",
          "model_module_version": "1.2.0",
          "state": {
            "_model_module": "@jupyter-widgets/base",
            "_model_module_version": "1.2.0",
            "_model_name": "LayoutModel",
            "_view_count": null,
            "_view_module": "@jupyter-widgets/base",
            "_view_module_version": "1.2.0",
            "_view_name": "LayoutView",
            "align_content": null,
            "align_items": null,
            "align_self": null,
            "border": null,
            "bottom": null,
            "display": null,
            "flex": null,
            "flex_flow": null,
            "grid_area": null,
            "grid_auto_columns": null,
            "grid_auto_flow": null,
            "grid_auto_rows": null,
            "grid_column": null,
            "grid_gap": null,
            "grid_row": null,
            "grid_template_areas": null,
            "grid_template_columns": null,
            "grid_template_rows": null,
            "height": null,
            "justify_content": null,
            "justify_items": null,
            "left": null,
            "margin": null,
            "max_height": null,
            "max_width": null,
            "min_height": null,
            "min_width": null,
            "object_fit": null,
            "object_position": null,
            "order": null,
            "overflow": null,
            "overflow_x": null,
            "overflow_y": null,
            "padding": null,
            "right": null,
            "top": null,
            "visibility": null,
            "width": null
          }
        },
        "70fedc1d33534aec9eebb2bf869a515c": {
          "model_module": "@jupyter-widgets/controls",
          "model_name": "DescriptionStyleModel",
          "model_module_version": "1.5.0",
          "state": {
            "_model_module": "@jupyter-widgets/controls",
            "_model_module_version": "1.5.0",
            "_model_name": "DescriptionStyleModel",
            "_view_count": null,
            "_view_module": "@jupyter-widgets/base",
            "_view_module_version": "1.2.0",
            "_view_name": "StyleView",
            "description_width": ""
          }
        },
        "16de6912725247d7bf932a5e84bf3475": {
          "model_module": "@jupyter-widgets/controls",
          "model_name": "HBoxModel",
          "model_module_version": "1.5.0",
          "state": {
            "_dom_classes": [],
            "_model_module": "@jupyter-widgets/controls",
            "_model_module_version": "1.5.0",
            "_model_name": "HBoxModel",
            "_view_count": null,
            "_view_module": "@jupyter-widgets/controls",
            "_view_module_version": "1.5.0",
            "_view_name": "HBoxView",
            "box_style": "",
            "children": [
              "IPY_MODEL_09aab8dc2d2143019ea28d3f800dd167",
              "IPY_MODEL_18c78183b10b491f9d70a2ba973efb2e",
              "IPY_MODEL_40733e64e8fc429583deca1295928c18"
            ],
            "layout": "IPY_MODEL_33d3f301d56249c5a734ffef662b1668"
          }
        },
        "09aab8dc2d2143019ea28d3f800dd167": {
          "model_module": "@jupyter-widgets/controls",
          "model_name": "HTMLModel",
          "model_module_version": "1.5.0",
          "state": {
            "_dom_classes": [],
            "_model_module": "@jupyter-widgets/controls",
            "_model_module_version": "1.5.0",
            "_model_name": "HTMLModel",
            "_view_count": null,
            "_view_module": "@jupyter-widgets/controls",
            "_view_module_version": "1.5.0",
            "_view_name": "HTMLView",
            "description": "",
            "description_tooltip": null,
            "layout": "IPY_MODEL_09388eea624240a48ae9d31951fc32b9",
            "placeholder": "​",
            "style": "IPY_MODEL_ec49e6a5b29941f29349ea54ccc92c90",
            "value": "Generating for node: D: 100%"
          }
        },
        "18c78183b10b491f9d70a2ba973efb2e": {
          "model_module": "@jupyter-widgets/controls",
          "model_name": "FloatProgressModel",
          "model_module_version": "1.5.0",
          "state": {
            "_dom_classes": [],
            "_model_module": "@jupyter-widgets/controls",
            "_model_module_version": "1.5.0",
            "_model_name": "FloatProgressModel",
            "_view_count": null,
            "_view_module": "@jupyter-widgets/controls",
            "_view_module_version": "1.5.0",
            "_view_name": "ProgressView",
            "bar_style": "success",
            "description": "",
            "description_tooltip": null,
            "layout": "IPY_MODEL_5e2aa0f536a44e058fd72998f57c8231",
            "max": 3,
            "min": 0,
            "orientation": "horizontal",
            "style": "IPY_MODEL_37aa333c2cc14bfbb9694331544c25b0",
            "value": 3
          }
        },
        "40733e64e8fc429583deca1295928c18": {
          "model_module": "@jupyter-widgets/controls",
          "model_name": "HTMLModel",
          "model_module_version": "1.5.0",
          "state": {
            "_dom_classes": [],
            "_model_module": "@jupyter-widgets/controls",
            "_model_module_version": "1.5.0",
            "_model_name": "HTMLModel",
            "_view_count": null,
            "_view_module": "@jupyter-widgets/controls",
            "_view_module_version": "1.5.0",
            "_view_name": "HTMLView",
            "description": "",
            "description_tooltip": null,
            "layout": "IPY_MODEL_031a5b4ed4ba41708907f4e6fa1e1ab3",
            "placeholder": "​",
            "style": "IPY_MODEL_26867e8b9c824a6097ec7fd2fe0b1368",
            "value": " 3/3 [00:00&lt;00:00, 38.07it/s]"
          }
        },
        "33d3f301d56249c5a734ffef662b1668": {
          "model_module": "@jupyter-widgets/base",
          "model_name": "LayoutModel",
          "model_module_version": "1.2.0",
          "state": {
            "_model_module": "@jupyter-widgets/base",
            "_model_module_version": "1.2.0",
            "_model_name": "LayoutModel",
            "_view_count": null,
            "_view_module": "@jupyter-widgets/base",
            "_view_module_version": "1.2.0",
            "_view_name": "LayoutView",
            "align_content": null,
            "align_items": null,
            "align_self": null,
            "border": null,
            "bottom": null,
            "display": null,
            "flex": null,
            "flex_flow": null,
            "grid_area": null,
            "grid_auto_columns": null,
            "grid_auto_flow": null,
            "grid_auto_rows": null,
            "grid_column": null,
            "grid_gap": null,
            "grid_row": null,
            "grid_template_areas": null,
            "grid_template_columns": null,
            "grid_template_rows": null,
            "height": null,
            "justify_content": null,
            "justify_items": null,
            "left": null,
            "margin": null,
            "max_height": null,
            "max_width": null,
            "min_height": null,
            "min_width": null,
            "object_fit": null,
            "object_position": null,
            "order": null,
            "overflow": null,
            "overflow_x": null,
            "overflow_y": null,
            "padding": null,
            "right": null,
            "top": null,
            "visibility": null,
            "width": null
          }
        },
        "09388eea624240a48ae9d31951fc32b9": {
          "model_module": "@jupyter-widgets/base",
          "model_name": "LayoutModel",
          "model_module_version": "1.2.0",
          "state": {
            "_model_module": "@jupyter-widgets/base",
            "_model_module_version": "1.2.0",
            "_model_name": "LayoutModel",
            "_view_count": null,
            "_view_module": "@jupyter-widgets/base",
            "_view_module_version": "1.2.0",
            "_view_name": "LayoutView",
            "align_content": null,
            "align_items": null,
            "align_self": null,
            "border": null,
            "bottom": null,
            "display": null,
            "flex": null,
            "flex_flow": null,
            "grid_area": null,
            "grid_auto_columns": null,
            "grid_auto_flow": null,
            "grid_auto_rows": null,
            "grid_column": null,
            "grid_gap": null,
            "grid_row": null,
            "grid_template_areas": null,
            "grid_template_columns": null,
            "grid_template_rows": null,
            "height": null,
            "justify_content": null,
            "justify_items": null,
            "left": null,
            "margin": null,
            "max_height": null,
            "max_width": null,
            "min_height": null,
            "min_width": null,
            "object_fit": null,
            "object_position": null,
            "order": null,
            "overflow": null,
            "overflow_x": null,
            "overflow_y": null,
            "padding": null,
            "right": null,
            "top": null,
            "visibility": null,
            "width": null
          }
        },
        "ec49e6a5b29941f29349ea54ccc92c90": {
          "model_module": "@jupyter-widgets/controls",
          "model_name": "DescriptionStyleModel",
          "model_module_version": "1.5.0",
          "state": {
            "_model_module": "@jupyter-widgets/controls",
            "_model_module_version": "1.5.0",
            "_model_name": "DescriptionStyleModel",
            "_view_count": null,
            "_view_module": "@jupyter-widgets/base",
            "_view_module_version": "1.2.0",
            "_view_name": "StyleView",
            "description_width": ""
          }
        },
        "5e2aa0f536a44e058fd72998f57c8231": {
          "model_module": "@jupyter-widgets/base",
          "model_name": "LayoutModel",
          "model_module_version": "1.2.0",
          "state": {
            "_model_module": "@jupyter-widgets/base",
            "_model_module_version": "1.2.0",
            "_model_name": "LayoutModel",
            "_view_count": null,
            "_view_module": "@jupyter-widgets/base",
            "_view_module_version": "1.2.0",
            "_view_name": "LayoutView",
            "align_content": null,
            "align_items": null,
            "align_self": null,
            "border": null,
            "bottom": null,
            "display": null,
            "flex": null,
            "flex_flow": null,
            "grid_area": null,
            "grid_auto_columns": null,
            "grid_auto_flow": null,
            "grid_auto_rows": null,
            "grid_column": null,
            "grid_gap": null,
            "grid_row": null,
            "grid_template_areas": null,
            "grid_template_columns": null,
            "grid_template_rows": null,
            "height": null,
            "justify_content": null,
            "justify_items": null,
            "left": null,
            "margin": null,
            "max_height": null,
            "max_width": null,
            "min_height": null,
            "min_width": null,
            "object_fit": null,
            "object_position": null,
            "order": null,
            "overflow": null,
            "overflow_x": null,
            "overflow_y": null,
            "padding": null,
            "right": null,
            "top": null,
            "visibility": null,
            "width": null
          }
        },
        "37aa333c2cc14bfbb9694331544c25b0": {
          "model_module": "@jupyter-widgets/controls",
          "model_name": "ProgressStyleModel",
          "model_module_version": "1.5.0",
          "state": {
            "_model_module": "@jupyter-widgets/controls",
            "_model_module_version": "1.5.0",
            "_model_name": "ProgressStyleModel",
            "_view_count": null,
            "_view_module": "@jupyter-widgets/base",
            "_view_module_version": "1.2.0",
            "_view_name": "StyleView",
            "bar_color": null,
            "description_width": ""
          }
        },
        "031a5b4ed4ba41708907f4e6fa1e1ab3": {
          "model_module": "@jupyter-widgets/base",
          "model_name": "LayoutModel",
          "model_module_version": "1.2.0",
          "state": {
            "_model_module": "@jupyter-widgets/base",
            "_model_module_version": "1.2.0",
            "_model_name": "LayoutModel",
            "_view_count": null,
            "_view_module": "@jupyter-widgets/base",
            "_view_module_version": "1.2.0",
            "_view_name": "LayoutView",
            "align_content": null,
            "align_items": null,
            "align_self": null,
            "border": null,
            "bottom": null,
            "display": null,
            "flex": null,
            "flex_flow": null,
            "grid_area": null,
            "grid_auto_columns": null,
            "grid_auto_flow": null,
            "grid_auto_rows": null,
            "grid_column": null,
            "grid_gap": null,
            "grid_row": null,
            "grid_template_areas": null,
            "grid_template_columns": null,
            "grid_template_rows": null,
            "height": null,
            "justify_content": null,
            "justify_items": null,
            "left": null,
            "margin": null,
            "max_height": null,
            "max_width": null,
            "min_height": null,
            "min_width": null,
            "object_fit": null,
            "object_position": null,
            "order": null,
            "overflow": null,
            "overflow_x": null,
            "overflow_y": null,
            "padding": null,
            "right": null,
            "top": null,
            "visibility": null,
            "width": null
          }
        },
        "26867e8b9c824a6097ec7fd2fe0b1368": {
          "model_module": "@jupyter-widgets/controls",
          "model_name": "DescriptionStyleModel",
          "model_module_version": "1.5.0",
          "state": {
            "_model_module": "@jupyter-widgets/controls",
            "_model_module_version": "1.5.0",
            "_model_name": "DescriptionStyleModel",
            "_view_count": null,
            "_view_module": "@jupyter-widgets/base",
            "_view_module_version": "1.2.0",
            "_view_name": "StyleView",
            "description_width": ""
          }
        }
      }
    }
  },
  "nbformat": 4,
  "nbformat_minor": 0
}