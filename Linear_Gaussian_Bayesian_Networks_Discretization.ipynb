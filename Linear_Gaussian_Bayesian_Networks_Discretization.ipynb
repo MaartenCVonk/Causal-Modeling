{
  "nbformat": 4,
  "nbformat_minor": 0,
  "metadata": {
    "colab": {
      "provenance": [],
      "collapsed_sections": [],
      "authorship_tag": "ABX9TyNvB3pYGnq10i1eOpK0A+ly",
      "include_colab_link": true
    },
    "kernelspec": {
      "name": "python3",
      "display_name": "Python 3"
    },
    "language_info": {
      "name": "python"
    }
  },
  "cells": [
    {
      "cell_type": "markdown",
      "metadata": {
        "id": "view-in-github",
        "colab_type": "text"
      },
      "source": [
        "<a href=\"https://colab.research.google.com/github/MaartenCVonk/Causal-Modeling/blob/main/Linear_Gaussian_Bayesian_Networks_Discretization.ipynb\" target=\"_parent\"><img src=\"https://colab.research.google.com/assets/colab-badge.svg\" alt=\"Open In Colab\"/></a>"
      ]
    },
    {
      "cell_type": "markdown",
      "source": [
        "## **Imports**"
      ],
      "metadata": {
        "id": "vo-Ow2twsgQD"
      }
    },
    {
      "cell_type": "code",
      "source": [
        "! pip install lgnpy"
      ],
      "metadata": {
        "id": "pxanc_BIbZT9"
      },
      "execution_count": 2,
      "outputs": []
    },
    {
      "cell_type": "code",
      "execution_count": 6,
      "metadata": {
        "id": "w3fb-KReacIV"
      },
      "outputs": [],
      "source": [
        "from lgnpy import LinearGaussian\n",
        "import pandas as pd\n",
        "import numpy as np\n",
        "np.random.seed(42)"
      ]
    },
    {
      "cell_type": "markdown",
      "source": [
        "## **Initiating Network**"
      ],
      "metadata": {
        "id": "DPnFA7kKsnhx"
      }
    },
    {
      "cell_type": "code",
      "source": [
        "lg = LinearGaussian()\n",
        "lg.set_edges_from([('A', 'D'), ('B', 'D'), ('D', 'E'), ('C', 'E')])"
      ],
      "metadata": {
        "id": "0rKKmhnYhxyr"
      },
      "execution_count": 8,
      "outputs": []
    },
    {
      "cell_type": "code",
      "source": [
        "np.random.seed(40)\n",
        "n=100\n",
        "data = pd.DataFrame(columns=['A','B','C','D','E'])\n",
        "data['A'] = np.random.normal(5,2,n)\n",
        "data['B'] = np.random.normal(10,2,n)\n",
        "data['D'] = 2*data['A'] + 3*data['B'] + np.random.normal(0,2,n)\n",
        "data['C'] = np.random.normal(-5,2,n)\n",
        "data['E'] = 3*data['C'] + 3*data['D'] + np.random.normal(0,2,n)\n",
        "\n",
        "lg.set_data(data)"
      ],
      "metadata": {
        "id": "5WCQraJwhqyk"
      },
      "execution_count": 13,
      "outputs": []
    },
    {
      "cell_type": "code",
      "source": [
        "lg.draw_network(\"my_network\", correlation_annotation=False,open=True) #Only first drawn, because all are same"
      ],
      "metadata": {
        "colab": {
          "base_uri": "https://localhost:8080/",
          "height": 279
        },
        "id": "OfCHeyKskgB4",
        "outputId": "4166acbb-a746-4b47-cdd5-781af31fa8ba"
      },
      "execution_count": 24,
      "outputs": [
        {
          "output_type": "display_data",
          "data": {
            "text/plain": [
              "<Figure size 450x300 with 1 Axes>"
            ],
            "image/png": "[encoded data removed]"
          },
          "metadata": {
            "needs_background": "light"
          }
        }
      ]
    },
    {
      "cell_type": "markdown",
      "source": [
        "## **Inference**"
      ],
      "metadata": {
        "id": "rkiDquJ7ssnI"
      }
    },
    {
      "cell_type": "markdown",
      "source": [
        "In Linear Gaussian Distribution the conditional distributions are difined as: \n",
        "\\begin{align*}\n",
        "P(Y\\mid X) \\sim \\mathcal{N}(\\beta_0+\\beta^TX;\\sigma^2)\n",
        "\\end{align*}\n",
        "where the paremeters can be calculated are calculated by parent nodes:\n",
        "\\begin{align*}\n",
        "\\beta_0=\\mu_Y-\\Sigma_{XY}\\Sigma_{XX}^{-1}\\mu_X \\\\\n",
        "\\beta=\\Sigma_{XX}^{-1}\\Sigma_{YX} \\\\\n",
        "\\sigma^2= \\Sigma_{YY}-\\Sigma_{YX}\\Sigma_{XX}^{-1}\\Sigma_{XY}.\n",
        "\\end{align*}\n",
        "\n"
      ],
      "metadata": {
        "id": "pNn-vmOHswYJ"
      }
    },
    {
      "cell_type": "markdown",
      "source": [
        "Given Bayesian Network Factorization:\n",
        "\\begin{align*}\n",
        "P(a,b,c,d) = P(a)P(b)P(d \\mid a, b)P(c)P(e \\mid c,d)\n",
        "\\end{align*}\n",
        "general inference can be executed by marginalizing out the variables. For example:\n",
        "\\begin{align*}\n",
        "P(e)&=\\int_{a}\\int_{b}\\int_{c} \\int_{d}   P(a,b,c,d,e) \\\\ &=\\int_{a}\\int_{b}\\int_{c} \\int_{d}  P(a)P(b)P(d \\mid a, b)P(c)P(e \\mid c,d)\n",
        "\\end{align*}"
      ],
      "metadata": {
        "id": "5m4nGh9coSMP"
      }
    },
    {
      "cell_type": "code",
      "source": [
        "lg.run_inference(debug=False)"
      ],
      "metadata": {
        "colab": {
          "base_uri": "https://localhost:8080/",
          "height": 241
        },
        "id": "X7fKw-1Oh9b8",
        "outputId": "54b6b1e7-8770-49bf-bf12-e1d437fa26a2"
      },
      "execution_count": 21,
      "outputs": [
        {
          "output_type": "stream",
          "name": "stderr",
          "text": [
            "/usr/local/lib/python3.7/dist-packages/lgnpy/LinearGaussian.py:106: FutureWarning: The pandas.np module is deprecated and will be removed from pandas in a future version. Import numpy directly instead\n",
            "  .replace(pd.np.nan, \"\", regex=True)\n"
          ]
        },
        {
          "output_type": "execute_result",
          "data": {
            "text/plain": [
              "  Evidence      Mean Mean_inferred  Variance Variance_inferred u_%change\n",
              "A             4.9544                   3.822                            \n",
              "B             9.9212                   4.102                            \n",
              "C            -4.9243                   3.284                            \n",
              "D            39.5681       39.5681    54.168            4.6767          \n",
              "E           104.1639      104.1639   570.746            2.5672          "
            ],
            "text/html": [
              "\n",
              "  <div id=\"df-c11c15ce-4321-4811-af4e-b2fa5962fd29\">\n",
              "    <div class=\"colab-df-container\">\n",
              "      <div>\n",
              "<style scoped>\n",
              "    .dataframe tbody tr th:only-of-type {\n",
              "        vertical-align: middle;\n",
              "    }\n",
              "\n",
              "    .dataframe tbody tr th {\n",
              "        vertical-align: top;\n",
              "    }\n",
              "\n",
              "    .dataframe thead th {\n",
              "        text-align: right;\n",
              "    }\n",
              "</style>\n",
              "<table border=\"1\" class=\"dataframe\">\n",
              "  <thead>\n",
              "    <tr style=\"text-align: right;\">\n",
              "      <th></th>\n",
              "      <th>Evidence</th>\n",
              "      <th>Mean</th>\n",
              "      <th>Mean_inferred</th>\n",
              "      <th>Variance</th>\n",
              "      <th>Variance_inferred</th>\n",
              "      <th>u_%change</th>\n",
              "    </tr>\n",
              "  </thead>\n",
              "  <tbody>\n",
              "    <tr>\n",
              "      <th>A</th>\n",
              "      <td></td>\n",
              "      <td>4.9544</td>\n",
              "      <td></td>\n",
              "      <td>3.822</td>\n",
              "      <td></td>\n",
              "      <td></td>\n",
              "    </tr>\n",
              "    <tr>\n",
              "      <th>B</th>\n",
              "      <td></td>\n",
              "      <td>9.9212</td>\n",
              "      <td></td>\n",
              "      <td>4.102</td>\n",
              "      <td></td>\n",
              "      <td></td>\n",
              "    </tr>\n",
              "    <tr>\n",
              "      <th>C</th>\n",
              "      <td></td>\n",
              "      <td>-4.9243</td>\n",
              "      <td></td>\n",
              "      <td>3.284</td>\n",
              "      <td></td>\n",
              "      <td></td>\n",
              "    </tr>\n",
              "    <tr>\n",
              "      <th>D</th>\n",
              "      <td></td>\n",
              "      <td>39.5681</td>\n",
              "      <td>39.5681</td>\n",
              "      <td>54.168</td>\n",
              "      <td>4.6767</td>\n",
              "      <td></td>\n",
              "    </tr>\n",
              "    <tr>\n",
              "      <th>E</th>\n",
              "      <td></td>\n",
              "      <td>104.1639</td>\n",
              "      <td>104.1639</td>\n",
              "      <td>570.746</td>\n",
              "      <td>2.5672</td>\n",
              "      <td></td>\n",
              "    </tr>\n",
              "  </tbody>\n",
              "</table>\n",
              "</div>\n",
              "      <button class=\"colab-df-convert\" onclick=\"convertToInteractive('df-c11c15ce-4321-4811-af4e-b2fa5962fd29')\"\n",
              "              title=\"Convert this dataframe to an interactive table.\"\n",
              "              style=\"display:none;\">\n",
              "        \n",
              "  <svg xmlns=\"http://www.w3.org/2000/svg\" height=\"24px\"viewBox=\"0 0 24 24\"\n",
              "       width=\"24px\">\n",
              "    <path d=\"M0 0h24v24H0V0z\" fill=\"none\"/>\n",
              "    <path d=\"M18.56 5.44l.94 2.06.94-2.06 2.06-.94-2.06-.94-.94-2.06-.94 2.06-2.06.94zm-11 1L8.5 8.5l.94-2.06 2.06-.94-2.06-.94L8.5 2.5l-.94 2.06-2.06.94zm10 10l.94 2.06.94-2.06 2.06-.94-2.06-.94-.94-2.06-.94 2.06-2.06.94z\"/><path d=\"M17.41 7.96l-1.37-1.37c-.4-.4-.92-.59-1.43-.59-.52 0-1.04.2-1.43.59L10.3 9.45l-7.72 7.72c-.78.78-.78 2.05 0 2.83L4 21.41c.39.39.9.59 1.41.59.51 0 1.02-.2 1.41-.59l7.78-7.78 2.81-2.81c.8-.78.8-2.07 0-2.86zM5.41 20L4 18.59l7.72-7.72 1.47 1.35L5.41 20z\"/>\n",
              "  </svg>\n",
              "      </button>\n",
              "      \n",
              "  <style>\n",
              "    .colab-df-container {\n",
              "      display:flex;\n",
              "      flex-wrap:wrap;\n",
              "      gap: 12px;\n",
              "    }\n",
              "\n",
              "    .colab-df-convert {\n",
              "      background-color: #E8F0FE;\n",
              "      border: none;\n",
              "      border-radius: 50%;\n",
              "      cursor: pointer;\n",
              "      display: none;\n",
              "      fill: #1967D2;\n",
              "      height: 32px;\n",
              "      padding: 0 0 0 0;\n",
              "      width: 32px;\n",
              "    }\n",
              "\n",
              "    .colab-df-convert:hover {\n",
              "      background-color: #E2EBFA;\n",
              "      box-shadow: 0px 1px 2px rgba(60, 64, 67, 0.3), 0px 1px 3px 1px rgba(60, 64, 67, 0.15);\n",
              "      fill: #174EA6;\n",
              "    }\n",
              "\n",
              "    [theme=dark] .colab-df-convert {\n",
              "      background-color: #3B4455;\n",
              "      fill: #D2E3FC;\n",
              "    }\n",
              "\n",
              "    [theme=dark] .colab-df-convert:hover {\n",
              "      background-color: #434B5C;\n",
              "      box-shadow: 0px 1px 3px 1px rgba(0, 0, 0, 0.15);\n",
              "      filter: drop-shadow(0px 1px 2px rgba(0, 0, 0, 0.3));\n",
              "      fill: #FFFFFF;\n",
              "    }\n",
              "  </style>\n",
              "\n",
              "      <script>\n",
              "        const buttonEl =\n",
              "          document.querySelector('#df-c11c15ce-4321-4811-af4e-b2fa5962fd29 button.colab-df-convert');\n",
              "        buttonEl.style.display =\n",
              "          google.colab.kernel.accessAllowed ? 'block' : 'none';\n",
              "\n",
              "        async function convertToInteractive(key) {\n",
              "          const element = document.querySelector('#df-c11c15ce-4321-4811-af4e-b2fa5962fd29');\n",
              "          const dataTable =\n",
              "            await google.colab.kernel.invokeFunction('convertToInteractive',\n",
              "                                                     [key], {});\n",
              "          if (!dataTable) return;\n",
              "\n",
              "          const docLinkHtml = 'Like what you see? Visit the ' +\n",
              "            '<a target=\"_blank\" href=https://colab.research.google.com/notebooks/data_table.ipynb>data table notebook</a>'\n",
              "            + ' to learn more about interactive tables.';\n",
              "          element.innerHTML = '';\n",
              "          dataTable['output_type'] = 'display_data';\n",
              "          await google.colab.output.renderOutput(dataTable, element);\n",
              "          const docLink = document.createElement('div');\n",
              "          docLink.innerHTML = docLinkHtml;\n",
              "          element.appendChild(docLink);\n",
              "        }\n",
              "      </script>\n",
              "    </div>\n",
              "  </div>\n",
              "  "
            ]
          },
          "metadata": {},
          "execution_count": 21
        }
      ]
    },
    {
      "cell_type": "markdown",
      "source": [
        "When there is evidence we can propogate this evidence according to:\n",
        "\\begin{align*}\n",
        "P(e \\mid do(a))=P(e \\mid a) &= \\int_{b}\\int_{c} \\int_{d}   P(b,c,d,e\\mid a) \\\\ &=\\int_{b}\\int_{c} \\int_{d}  P(b)P(d \\mid a, b)P(c)P(e \\mid c,d)\n",
        "\\end{align*}\n",
        "\n",
        "and expected value\n",
        "\\begin{align*}\n",
        "\\mathbb{E}(e \\mid do(a))&= e \\int_{b}\\int_{c} \\int_{d}   P(b,c,d,e\\mid a) \\\\ &=\\int_{b}\\int_{c} \\int_{d} e P(b)P(d \\mid a, b)P(c)P(e \\mid c,d)\n",
        "\\end{align*}\n",
        "\n"
      ],
      "metadata": {
        "id": "-F1HLEXNqyOM"
      }
    },
    {
      "cell_type": "code",
      "source": [
        "lg.set_evidences({'A':50})\n",
        "lg.run_inference(debug=False)"
      ],
      "metadata": {
        "colab": {
          "base_uri": "https://localhost:8080/",
          "height": 241
        },
        "id": "n9y1Aapjmh0n",
        "outputId": "719e60e1-aeca-4e14-d457-281ed0b25e87"
      },
      "execution_count": 23,
      "outputs": [
        {
          "output_type": "stream",
          "name": "stderr",
          "text": [
            "/usr/local/lib/python3.7/dist-packages/lgnpy/LinearGaussian.py:106: FutureWarning: The pandas.np module is deprecated and will be removed from pandas in a future version. Import numpy directly instead\n",
            "  .replace(pd.np.nan, \"\", regex=True)\n"
          ]
        },
        {
          "output_type": "execute_result",
          "data": {
            "text/plain": [
              "  Evidence      Mean Mean_inferred  Variance Variance_inferred u_%change\n",
              "A     50.0    4.9544          50.0     3.822                    909.1998\n",
              "B             9.9212                   4.102                            \n",
              "C            -4.9243                   3.284                            \n",
              "D            39.5681       130.545    54.168            4.6767  229.9248\n",
              "E           104.1639      377.7628   570.746            2.5672  262.6618"
            ],
            "text/html": [
              "\n",
              "  <div id=\"df-1fc506e7-f62c-4a48-8d10-c3d1ef9dc218\">\n",
              "    <div class=\"colab-df-container\">\n",
              "      <div>\n",
              "<style scoped>\n",
              "    .dataframe tbody tr th:only-of-type {\n",
              "        vertical-align: middle;\n",
              "    }\n",
              "\n",
              "    .dataframe tbody tr th {\n",
              "        vertical-align: top;\n",
              "    }\n",
              "\n",
              "    .dataframe thead th {\n",
              "        text-align: right;\n",
              "    }\n",
              "</style>\n",
              "<table border=\"1\" class=\"dataframe\">\n",
              "  <thead>\n",
              "    <tr style=\"text-align: right;\">\n",
              "      <th></th>\n",
              "      <th>Evidence</th>\n",
              "      <th>Mean</th>\n",
              "      <th>Mean_inferred</th>\n",
              "      <th>Variance</th>\n",
              "      <th>Variance_inferred</th>\n",
              "      <th>u_%change</th>\n",
              "    </tr>\n",
              "  </thead>\n",
              "  <tbody>\n",
              "    <tr>\n",
              "      <th>A</th>\n",
              "      <td>50.0</td>\n",
              "      <td>4.9544</td>\n",
              "      <td>50.0</td>\n",
              "      <td>3.822</td>\n",
              "      <td></td>\n",
              "      <td>909.1998</td>\n",
              "    </tr>\n",
              "    <tr>\n",
              "      <th>B</th>\n",
              "      <td></td>\n",
              "      <td>9.9212</td>\n",
              "      <td></td>\n",
              "      <td>4.102</td>\n",
              "      <td></td>\n",
              "      <td></td>\n",
              "    </tr>\n",
              "    <tr>\n",
              "      <th>C</th>\n",
              "      <td></td>\n",
              "      <td>-4.9243</td>\n",
              "      <td></td>\n",
              "      <td>3.284</td>\n",
              "      <td></td>\n",
              "      <td></td>\n",
              "    </tr>\n",
              "    <tr>\n",
              "      <th>D</th>\n",
              "      <td></td>\n",
              "      <td>39.5681</td>\n",
              "      <td>130.545</td>\n",
              "      <td>54.168</td>\n",
              "      <td>4.6767</td>\n",
              "      <td>229.9248</td>\n",
              "    </tr>\n",
              "    <tr>\n",
              "      <th>E</th>\n",
              "      <td></td>\n",
              "      <td>104.1639</td>\n",
              "      <td>377.7628</td>\n",
              "      <td>570.746</td>\n",
              "      <td>2.5672</td>\n",
              "      <td>262.6618</td>\n",
              "    </tr>\n",
              "  </tbody>\n",
              "</table>\n",
              "</div>\n",
              "      <button class=\"colab-df-convert\" onclick=\"convertToInteractive('df-1fc506e7-f62c-4a48-8d10-c3d1ef9dc218')\"\n",
              "              title=\"Convert this dataframe to an interactive table.\"\n",
              "              style=\"display:none;\">\n",
              "        \n",
              "  <svg xmlns=\"http://www.w3.org/2000/svg\" height=\"24px\"viewBox=\"0 0 24 24\"\n",
              "       width=\"24px\">\n",
              "    <path d=\"M0 0h24v24H0V0z\" fill=\"none\"/>\n",
              "    <path d=\"M18.56 5.44l.94 2.06.94-2.06 2.06-.94-2.06-.94-.94-2.06-.94 2.06-2.06.94zm-11 1L8.5 8.5l.94-2.06 2.06-.94-2.06-.94L8.5 2.5l-.94 2.06-2.06.94zm10 10l.94 2.06.94-2.06 2.06-.94-2.06-.94-.94-2.06-.94 2.06-2.06.94z\"/><path d=\"M17.41 7.96l-1.37-1.37c-.4-.4-.92-.59-1.43-.59-.52 0-1.04.2-1.43.59L10.3 9.45l-7.72 7.72c-.78.78-.78 2.05 0 2.83L4 21.41c.39.39.9.59 1.41.59.51 0 1.02-.2 1.41-.59l7.78-7.78 2.81-2.81c.8-.78.8-2.07 0-2.86zM5.41 20L4 18.59l7.72-7.72 1.47 1.35L5.41 20z\"/>\n",
              "  </svg>\n",
              "      </button>\n",
              "      \n",
              "  <style>\n",
              "    .colab-df-container {\n",
              "      display:flex;\n",
              "      flex-wrap:wrap;\n",
              "      gap: 12px;\n",
              "    }\n",
              "\n",
              "    .colab-df-convert {\n",
              "      background-color: #E8F0FE;\n",
              "      border: none;\n",
              "      border-radius: 50%;\n",
              "      cursor: pointer;\n",
              "      display: none;\n",
              "      fill: #1967D2;\n",
              "      height: 32px;\n",
              "      padding: 0 0 0 0;\n",
              "      width: 32px;\n",
              "    }\n",
              "\n",
              "    .colab-df-convert:hover {\n",
              "      background-color: #E2EBFA;\n",
              "      box-shadow: 0px 1px 2px rgba(60, 64, 67, 0.3), 0px 1px 3px 1px rgba(60, 64, 67, 0.15);\n",
              "      fill: #174EA6;\n",
              "    }\n",
              "\n",
              "    [theme=dark] .colab-df-convert {\n",
              "      background-color: #3B4455;\n",
              "      fill: #D2E3FC;\n",
              "    }\n",
              "\n",
              "    [theme=dark] .colab-df-convert:hover {\n",
              "      background-color: #434B5C;\n",
              "      box-shadow: 0px 1px 3px 1px rgba(0, 0, 0, 0.15);\n",
              "      filter: drop-shadow(0px 1px 2px rgba(0, 0, 0, 0.3));\n",
              "      fill: #FFFFFF;\n",
              "    }\n",
              "  </style>\n",
              "\n",
              "      <script>\n",
              "        const buttonEl =\n",
              "          document.querySelector('#df-1fc506e7-f62c-4a48-8d10-c3d1ef9dc218 button.colab-df-convert');\n",
              "        buttonEl.style.display =\n",
              "          google.colab.kernel.accessAllowed ? 'block' : 'none';\n",
              "\n",
              "        async function convertToInteractive(key) {\n",
              "          const element = document.querySelector('#df-1fc506e7-f62c-4a48-8d10-c3d1ef9dc218');\n",
              "          const dataTable =\n",
              "            await google.colab.kernel.invokeFunction('convertToInteractive',\n",
              "                                                     [key], {});\n",
              "          if (!dataTable) return;\n",
              "\n",
              "          const docLinkHtml = 'Like what you see? Visit the ' +\n",
              "            '<a target=\"_blank\" href=https://colab.research.google.com/notebooks/data_table.ipynb>data table notebook</a>'\n",
              "            + ' to learn more about interactive tables.';\n",
              "          element.innerHTML = '';\n",
              "          dataTable['output_type'] = 'display_data';\n",
              "          await google.colab.output.renderOutput(dataTable, element);\n",
              "          const docLink = document.createElement('div');\n",
              "          docLink.innerHTML = docLinkHtml;\n",
              "          element.appendChild(docLink);\n",
              "        }\n",
              "      </script>\n",
              "    </div>\n",
              "  </div>\n",
              "  "
            ]
          },
          "metadata": {},
          "execution_count": 23
        }
      ]
    },
    {
      "cell_type": "markdown",
      "source": [
        "Because the distributions are continuous: $\\mathbb{E}(e \\mid do(a))\\rightarrow ∞$ as $a \\rightarrow ∞$"
      ],
      "metadata": {
        "id": "STcW-A8er-nZ"
      }
    },
    {
      "cell_type": "markdown",
      "source": [
        "### **Discretization**"
      ],
      "metadata": {
        "id": "VFzsNGWmscbZ"
      }
    },
    {
      "cell_type": "code",
      "source": [],
      "metadata": {
        "id": "A640lKIFr-ES"
      },
      "execution_count": null,
      "outputs": []
    }
  ]
}