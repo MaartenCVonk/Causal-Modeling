{
  "nbformat": 4,
  "nbformat_minor": 0,
  "metadata": {
    "colab": {
      "name": "Application IPW sampling to obtain ATE in back-door case .ipynb",
      "provenance": [],
      "authorship_tag": "ABX9TyPNj5/78jAa0YRaON09NBL8",
      "include_colab_link": true
    },
    "kernelspec": {
      "name": "python3",
      "display_name": "Python 3"
    },
    "language_info": {
      "name": "python"
    }
  },
  "cells": [
    {
      "cell_type": "markdown",
      "metadata": {
        "id": "view-in-github",
        "colab_type": "text"
      },
      "source": [
        "<a href=\"https://colab.research.google.com/github/MaartenCVonk/Causal-Modeling/blob/main/Application_IPW_sampling_to_obtain_ATE_in_back_door_case_.ipynb\" target=\"_parent\"><img src=\"https://colab.research.google.com/assets/colab-badge.svg\" alt=\"Open In Colab\"/></a>"
      ]
    },
    {
      "cell_type": "markdown",
      "metadata": {
        "id": "VDXssG2tk_KR"
      },
      "source": [
        "## **Summary**"
      ]
    },
    {
      "cell_type": "markdown",
      "metadata": {
        "id": "JNgw8a0SlEf3"
      },
      "source": [
        "This Notebook aims to calculate the causal effect of (binary) Treatment $T$ on outcome $Y$ with common observable confounder $Z$. We use Pearls axiomization for do-calculus to prove identifiability of outcome variable and use Dowhy to apply intervention to calculate the post intervention distribution $P(Y|do(T=t))$ using the inverse probabilty weighting algorithm (IPW).  "
      ]
    },
    {
      "cell_type": "code",
      "metadata": {
        "id": "khcE6z7gFUHU"
      },
      "source": [
        "!pip install dowhy &> /dev/nul\n",
        "!pip install git+git://github.com/mkrphys/ipython-tikzmagic.git &> /dev/nul"
      ],
      "execution_count": null,
      "outputs": []
    },
    {
      "cell_type": "code",
      "metadata": {
        "id": "9KXSwpQ1FplI"
      },
      "source": [
        "import dowhy\n",
        "import seaborn as sns\n",
        "import numpy as np\n",
        "import pandas as pd\n",
        "import dowhy.api\n",
        "import matplotlib.pyplot as plt\n",
        "%load_ext tikzmagic"
      ],
      "execution_count": null,
      "outputs": []
    },
    {
      "cell_type": "markdown",
      "metadata": {
        "id": "BgeFG2qrkiVv"
      },
      "source": [
        "## **Problem Setup:**\n"
      ]
    },
    {
      "cell_type": "markdown",
      "metadata": {
        "id": "gBID6I5NEcfv"
      },
      "source": [
        "Suppose we have $N$ datapoints with covariates $Z$ where $Z$ is uniformly distributed between $[0,1]$: $z \\sim U(0,1)$. Treatment $T$ has binomial distribution $t \\sim B(1,\\frac{1}{1+e^{-5z}})$. Also suppose we have outcome based on covariate $Z$ and treatment $T$: $y\\sim 2z+t+0.1\\mathcal{N}(0,1)$"
      ]
    },
    {
      "cell_type": "code",
      "metadata": {
        "id": "aHN4sfbjIJoc"
      },
      "source": [
        "#The causal graph depicted this situation\n",
        "#%%tikz\n",
        "#\\draw (0,0) rectangle (1,1);\n",
        "#\\filldraw (0.5,0.5) circle (.1);"
      ],
      "execution_count": null,
      "outputs": []
    },
    {
      "cell_type": "markdown",
      "metadata": {
        "id": "ayC6rs6ZOjpb"
      },
      "source": [
        "\n",
        "![picture](https://drive.google.com/uc?export=view&id=1uuH89vkXM1hy9KlPooHVuni7XPUtAwTS)\n"
      ]
    },
    {
      "cell_type": "code",
      "metadata": {
        "id": "38502TcVFssI"
      },
      "source": [
        "N = 5000\n",
        "\n",
        "z = np.random.uniform(size=N)\n",
        "t = np.random.binomial(1., p=1./(1. + np.exp(-5. * z)))\n",
        "y = 2. * z + t + 0.1 * np.random.normal(size=N)\n",
        "\n",
        "df = pd.DataFrame({'Z': z, 'T': t, 'Y': y})\n"
      ],
      "execution_count": null,
      "outputs": []
    },
    {
      "cell_type": "markdown",
      "metadata": {
        "id": "LxXYeO7SGR0Z"
      },
      "source": [
        "Then the data looks like this:"
      ]
    },
    {
      "cell_type": "code",
      "metadata": {
        "colab": {
          "base_uri": "https://localhost:8080/",
          "height": 803
        },
        "id": "BBZkRiJ5IOfQ",
        "outputId": "98e623bc-7ce5-47a8-8c18-32afc22d939e"
      },
      "source": [
        "sns.histplot(df['Z'])\n",
        "plt.show()\n",
        "sns.histplot(df['T'])\n",
        "plt.show()\n",
        "sns.histplot(df['Y'])\n",
        "plt.show()"
      ],
      "execution_count": null,
      "outputs": [
        {
          "output_type": "display_data",
          "data": {
            "image/png": "[encoded data removed]",
            "text/plain": [
              "<Figure size 432x288 with 1 Axes>"
            ]
          },
          "metadata": {
            "tags": [],
            "needs_background": "light"
          }
        },
        {
          "output_type": "display_data",
          "data": {
            "image/png": "[encoded data removed]",
            "text/plain": [
              "<Figure size 432x288 with 1 Axes>"
            ]
          },
          "metadata": {
            "tags": [],
            "needs_background": "light"
          }
        },
        {
          "output_type": "display_data",
          "data": {
            "image/png": "[encoded data removed]",
            "text/plain": [
              "<Figure size 432x288 with 1 Axes>"
            ]
          },
          "metadata": {
            "tags": [],
            "needs_background": "light"
          }
        }
      ]
    },
    {
      "cell_type": "markdown",
      "metadata": {
        "id": "t_tMmlHVGVjx"
      },
      "source": [
        "If we compare the outcomes based on Treatment without taking into account the covariates, we do it this naive way:"
      ]
    },
    {
      "cell_type": "code",
      "metadata": {
        "colab": {
          "base_uri": "https://localhost:8080/",
          "height": 37
        },
        "id": "4dd91-FiIPu4",
        "outputId": "89d0ada6-74d7-445a-aa3c-45d071b3353d"
      },
      "source": [
        "#Naive effect of T on Y:\n",
        "(df[df['T'] == 1].mean() - df[df['T'] == 0].mean())['Y']"
      ],
      "execution_count": null,
      "outputs": [
        {
          "output_type": "execute_result",
          "data": {
            "image/png": "[encoded data removed]",
            "text/latex": "$\\displaystyle 1.67362282778019$",
            "text/plain": [
              "1.6736228277801857"
            ]
          },
          "metadata": {
            "tags": []
          },
          "execution_count": 17
        }
      ]
    },
    {
      "cell_type": "markdown",
      "metadata": {
        "id": "FHXXtS_TK_-r"
      },
      "source": [
        "## **Preliminaries and Identification**"
      ]
    },
    {
      "cell_type": "markdown",
      "metadata": {
        "id": "RL41tN42QXJb"
      },
      "source": [
        "This is not the causal effect, since $Z$ confounds the relation between $T$ and $Y$. We create a model that accounts for the intervention distribution $P(Y|do(T=t))$, but we first start with a complete axiomization of the do-calculus to account for the steps in the model created."
      ]
    },
    {
      "cell_type": "markdown",
      "metadata": {
        "id": "rDUqkel_LLkZ"
      },
      "source": [
        "**Pearls Do-Calcus Rules:**\n",
        "\n",
        "Let $G$ be the DAG associated with a causal model and let $P()$ be  the probability distribution induced by that model. For any disjoinst subsets of variables $X,Y,Z,W$ we have the following rules:\n",
        "\n",
        "**Rule 1: $ $** \n",
        "$P(y|do(x),z,w) = P(y|do(x),w)$ if $((Y\\perp \\!\\!\\! \\perp Z)|X,W)_{G_\\overline{X}}$\n",
        "\n",
        "**Rule 2: $ $** \n",
        "$P(y|do(x),do(z),w) = P(y|do(x),z,w)$ if $((Y\\perp \\!\\!\\! \\perp Z)|X,W)_{G_{\\overline{X}\\underline{Z}}}$\n",
        "\n",
        "**Rule 3: $ $** \n",
        "$P(y|do(x),do(z),w) = P(y|do(x),w)$ if $((Y\\perp \\!\\!\\! \\perp Z)|X,W)_{G_{\\overline{X}\\overline{Z(W)}}}$"
      ]
    },
    {
      "cell_type": "code",
      "metadata": {
        "id": "Xu9Pk5OAJ-Mf",
        "colab": {
          "base_uri": "https://localhost:8080/",
          "height": 248
        },
        "outputId": "1d913e16-482c-4742-8e27-7ffbd15600af"
      },
      "source": [
        "#Create Causal Model:\n",
        "from dowhy import CausalModel\n",
        "\n",
        "causes = ['T']\n",
        "outcomes = ['Y']\n",
        "common_causes = ['Z']\n",
        "\n",
        "model = CausalModel(df,\n",
        "                    causes,\n",
        "                    outcomes,\n",
        "                    common_causes=common_causes)\n",
        "\n",
        "# Let Dowhy plot the model just for verification purposes:\n",
        "model.view_model(layout=\"dot\")"
      ],
      "execution_count": null,
      "outputs": [
        {
          "output_type": "display_data",
          "data": {
            "image/png": "[encoded data removed]",
            "text/plain": [
              "<Figure size 432x288 with 1 Axes>"
            ]
          },
          "metadata": {
            "tags": []
          }
        }
      ]
    },
    {
      "cell_type": "markdown",
      "metadata": {
        "id": "JZpjxAKXO4XB"
      },
      "source": [
        "We first want to know if we can identify $Y$ given cause $T$ and common cause $Z$. From *Causal Diagrams and the Identification of Causal Effects* (Pearl,200), we obtain the following theorem: \n",
        "\n",
        "**Theorem:**\n",
        "A causal effect $q = P(y_1, … , y_k |do(t_1), … ,do(t_n))$ is identifiable in a model characterized\n",
        "by a graph $G$ if there exists a finite sequence of transformations, each conforming to one\n",
        "of the inference rules above, that reduces $q$ into a standard (i.e., “do-operator”-free)\n",
        "probability expression involving observed quantities."
      ]
    },
    {
      "cell_type": "markdown",
      "metadata": {
        "id": "LbNwcNyuex5S"
      },
      "source": [
        "We can now prove that in our causal graph, $Y$ is identifiable by treatment $T$. First we marginalize out $z$ by rules of probability:\n",
        "\\begin{align}\n",
        "P(Y|do(T=t))=\\sum_{z}P(y|z,do(t))P(z|do(t))\n",
        "\\end{align}\n",
        "Now we we observe that $((Y\\perp \\!\\!\\! \\perp T)|Z)_{G_{\\underline{T}}}$ and we apply the second rule of do-calculus to rewrite te first term:\n",
        "\n",
        "\\begin{align}\n",
        "P(y|z,do(t))=P(y|z,t).\n",
        "\\end{align}\n",
        "\n",
        "Similarly, we observe that  $(Z\\perp \\!\\!\\! \\perp T)_{G_{\\overline{T}}}$ to apply the third rule of do-calculus to obtain\n",
        "\n",
        "\\begin{align}\n",
        "P(z|do(t))=P(z).\n",
        "\\end{align}\n",
        "\n",
        "We can rewrite our first expression than to:\n",
        "\\begin{align}\n",
        "P(Y|do(T=t))=\\sum_{z}P(y|z,t)P(z).\n",
        "\\end{align}\n",
        "\n",
        "Since the last expression is 'do-operator free', this is now an application of the do-calculus to prove identifiability. In this case the identifiablility is called the **back-door theorem.** Dowhy can also check identifiablity. We check if Dowhy is also able to identify the $Y$."
      ]
    },
    {
      "cell_type": "code",
      "metadata": {
        "colab": {
          "base_uri": "https://localhost:8080/"
        },
        "id": "tOMf4j-OKBYH",
        "outputId": "15bfc33d-b134-48e8-e7e5-6848fed7feb5"
      },
      "source": [
        "# Check if the variable can be identified:\n",
        "identification = model.identify_effect()\n",
        "identification"
      ],
      "execution_count": null,
      "outputs": [
        {
          "output_type": "execute_result",
          "data": {
            "text/plain": [
              "<dowhy.causal_identifier.IdentifiedEstimand at 0x7f0db71c1cd0>"
            ]
          },
          "metadata": {
            "tags": []
          },
          "execution_count": 19
        }
      ]
    },
    {
      "cell_type": "markdown",
      "metadata": {
        "id": "d7bcaImvkIxn"
      },
      "source": [
        "## **From Identifiability to Estimation**"
      ]
    },
    {
      "cell_type": "markdown",
      "metadata": {
        "id": "SGk280T-R8Ii"
      },
      "source": [
        "Note that we want to know \n",
        "\n",
        "$$\n",
        "\\begin{align} \n",
        "P(y|do(T=t))&=\\sum_{z}P(y|t,z)P(z) =\\sum_{z}\\frac{P(y|t,z)P(t|z)P(z)}{P(t|z)} =\\sum_{z}\\frac{P(y,t,z)}{P(t|z)} \n",
        "\\end{align} \n",
        "$$\n",
        "where the first identity follows from the do-calculus as shown above. This means we can obtain the intervention distribution $P(y|do(T=t))$ by \n",
        "accounting for the propensity score $P(t|z)$. So now we need to train a model $\\hat(e)$ to predict $T$ from $Z$. This is done by logistic regresion. We apply this models to obtain weights for each data point: $w_i = \\frac{1}{P(T_i=t|z_i)}$. "
      ]
    },
    {
      "cell_type": "code",
      "metadata": {
        "colab": {
          "base_uri": "https://localhost:8080/"
        },
        "id": "O6Qe9NuWKIGH",
        "outputId": "1fb071a6-efb6-4034-fa98-bed18e9e9cd4"
      },
      "source": [
        "from dowhy.do_samplers.weighting_sampler import WeightingSampler\n",
        "sampler = WeightingSampler(df,\n",
        "                           causal_model=model,\n",
        "                           keep_original_treatment=True,\n",
        "                           variable_types={'T': 'b', 'Z': 'c', 'Y': 'c'})"
      ],
      "execution_count": null,
      "outputs": [
        {
          "output_type": "stream",
          "text": [
            "/usr/local/lib/python3.7/dist-packages/statsmodels/tools/_testing.py:19: FutureWarning: pandas.util.testing is deprecated. Use the functions in the public API at pandas.testing instead.\n",
            "  import pandas.util.testing as tm\n"
          ],
          "name": "stderr"
        }
      ]
    },
    {
      "cell_type": "markdown",
      "metadata": {
        "id": "fix2U9gBxiLO"
      },
      "source": [
        "Using this weights we will now sample from the intervention distribution $P(y|do(T=t))$ by sampling from our data given the weights we created to adjust for the covariate $Z$. Data points with higher weights $w_i$ are more likely to get picked from the data than datapoints with lower weights. Note that there will be duplicates in our new data when we create datasamples of equal length to the original data. Since we had more observations of $T=1$ in our original dataset, observations of $T=0$ received higher weights and therefore the new dataset will be balanced. "
      ]
    },
    {
      "cell_type": "code",
      "metadata": {
        "id": "bD_O14NgKkdG"
      },
      "source": [
        "interventional_df = sampler.do_sample(None)"
      ],
      "execution_count": null,
      "outputs": []
    },
    {
      "cell_type": "markdown",
      "metadata": {
        "id": "QhAWBe152ds_"
      },
      "source": [
        "By doing this we obtain a new causal graph where the arrow from $Z$ to $T$ is eliminated:"
      ]
    },
    {
      "cell_type": "markdown",
      "metadata": {
        "id": "Vx9ZmvAv2mnl"
      },
      "source": [
        "![picture](https://drive.google.com/uc?export=view&id=1bIA80lmriftvZ9i1jiuv83-1dpHhXtb7)\n",
        "\n"
      ]
    },
    {
      "cell_type": "code",
      "metadata": {
        "id": "1tKXql_VpaHF"
      },
      "source": [
        "#Instead of creating first creating the sampler and then the dataset, we can also apply the do-sampler directly. This yields the same results.\n",
        "interventional_df = df.causal.do('T', \n",
        "                          method='weighting', \n",
        "                          variable_types={'T': 'b', \n",
        "                                          'Z': 'c', \n",
        "                                          'Y': 'c'},\n",
        "                          outcome='Y',\n",
        "                          common_causes=['Z'])"
      ],
      "execution_count": null,
      "outputs": []
    },
    {
      "cell_type": "code",
      "metadata": {
        "colab": {
          "base_uri": "https://localhost:8080/",
          "height": 803
        },
        "id": "b38VYELlK8yH",
        "outputId": "d0c2358b-0fa8-4103-9547-b7ca3e6993ab"
      },
      "source": [
        "# We can take a new look at the distribution of the data:\n",
        "sns.histplot(interventional_df['Z'])\n",
        "plt.show()\n",
        "sns.histplot(interventional_df['T'])\n",
        "plt.show()\n",
        "sns.histplot(interventional_df['Y'])\n",
        "plt.show()"
      ],
      "execution_count": null,
      "outputs": [
        {
          "output_type": "display_data",
          "data": {
            "image/png": "[encoded data removed]",
            "text/plain": [
              "<Figure size 432x288 with 1 Axes>"
            ]
          },
          "metadata": {
            "tags": [],
            "needs_background": "light"
          }
        },
        {
          "output_type": "display_data",
          "data": {
            "image/png": "[encoded data removed]",
            "text/plain": [
              "<Figure size 432x288 with 1 Axes>"
            ]
          },
          "metadata": {
            "tags": [],
            "needs_background": "light"
          }
        },
        {
          "output_type": "display_data",
          "data": {
            "image/png": "[encoded data removed]",
            "text/plain": [
              "<Figure size 432x288 with 1 Axes>"
            ]
          },
          "metadata": {
            "tags": [],
            "needs_background": "light"
          }
        }
      ]
    },
    {
      "cell_type": "markdown",
      "metadata": {
        "id": "C9VD57bW3gWi"
      },
      "source": [
        "Now given the causal relation is not confounded anymore, we can calculate the causal effect. Note for the expectation first that \n",
        "\\begin{align*}\n",
        "\\mathbb{E}(Y\\mid do(T))&=\\sum_{y} \\sum_{z}\\frac{YP(y,t,z)}{P(t|z)} =\\sum_{y} \\sum_{z}\\frac{yP(y)1_{T=t, Z=z}}{P(t|z)} \\\\ &=\\mathbb{E}(\\sum_{z}\\frac{Y1_{T=t,Z=z}}{P(t|z)})\n",
        "=\\mathbb{E}(\\frac{Y1_{T=t}}{P(t|Z)}).\n",
        "\\end{align*}\n",
        "\n",
        "\n",
        "So we we implement that to calculate the causal effect we have \n",
        "\n",
        "\\begin{align*}\n",
        "\\mathbb{E}(Y\\mid do(T=1))-\\mathbb{E}(Y\\mid do(T=0)) = \\mathbb{E}(\\frac{Y1_{T=1}}{P(t|Z)})-\\mathbb{E}(\\frac{Y1_{T=0}}{1-P(t|Z)})\n",
        "\\end{align*}\n",
        "\n",
        "We can then estimate the causal effect by the following estimand:\n",
        "\\begin{align*}\n",
        "\\hat{\\tau} = \\frac{1}{n}\\sum_{i}(\\frac{y_i1_{T=1}}{\\hat{e}(z_i)}-\\frac{y_i1_{T=0}}{1-\\hat{e}(z_i)})\n",
        "\\end{align*}\n",
        "where $\\hat{e}$ is the model used to estimate $P(t|Z)$. Since we have already applied that estimate in our python function, this reduces to \n",
        "\n",
        "\\begin{align*}\n",
        "\\hat{\\tau} =\\frac{1}{n}\\sum_{i}(y_i1_{T=1}-y_i1_{T=0}).\n",
        "\\end{align*}"
      ]
    },
    {
      "cell_type": "code",
      "metadata": {
        "colab": {
          "base_uri": "https://localhost:8080/",
          "height": 37
        },
        "id": "CVtqoCiEKmCX",
        "outputId": "3200456f-3c11-4571-d5c1-07ebf5271897"
      },
      "source": [
        "(interventional_df[interventional_df['T'] == 1].mean() - interventional_df[interventional_df['T'] == 0].mean())['Y']"
      ],
      "execution_count": null,
      "outputs": [
        {
          "output_type": "execute_result",
          "data": {
            "image/png": "[encoded data removed]",
            "text/latex": "$\\displaystyle 1.00126743443326$",
            "text/plain": [
              "1.0012674344332622"
            ]
          },
          "metadata": {
            "tags": []
          },
          "execution_count": 28
        }
      ]
    }
  ]
}