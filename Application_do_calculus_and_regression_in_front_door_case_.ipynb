{
  "nbformat": 4,
  "nbformat_minor": 0,
  "metadata": {
    "colab": {
      "name": "Application do-calculus and regression in front-door case .ipynb",
      "provenance": [],
      "authorship_tag": "ABX9TyNLD7anpefiD2WT92u9m7FB",
      "include_colab_link": true
    },
    "kernelspec": {
      "name": "python3",
      "display_name": "Python 3"
    },
    "language_info": {
      "name": "python"
    }
  },
  "cells": [
    {
      "cell_type": "markdown",
      "metadata": {
        "id": "view-in-github",
        "colab_type": "text"
      },
      "source": [
        "<a href=\"https://colab.research.google.com/github/MaartenCVonk/Causal-Modeling/blob/main/Application_do_calculus_and_regression_in_front_door_case_.ipynb\" target=\"_parent\"><img src=\"https://colab.research.google.com/assets/colab-badge.svg\" alt=\"Open In Colab\"/></a>"
      ]
    },
    {
      "cell_type": "markdown",
      "metadata": {
        "id": "VDXssG2tk_KR"
      },
      "source": [
        "## **Summary**"
      ]
    },
    {
      "cell_type": "markdown",
      "metadata": {
        "id": "JNgw8a0SlEf3"
      },
      "source": [
        "This Notebook aims to calculate the causal effect of (binary) Treatment $T$ on outcome $Y$ with mediator $M$ and common observable confounder $Z$ of $T$ and $Y$. We use Pearls axiomization for do-calculus to prove identifiability of outcome variable and use Dowhy to apply intervention to calculate the post intervention distribution $P(Y|do(T=t))$ using the Markov Chain Monte Carlo algorithm (MCMC).  "
      ]
    },
    {
      "cell_type": "code",
      "metadata": {
        "id": "khcE6z7gFUHU"
      },
      "source": [
        "!pip install dowhy &> /dev/nul\n",
        "!pip install git+git://github.com/mkrphys/ipython-tikzmagic.git &> /dev/nul\n",
        "!pip install causalgraphicalmodels &> /dev/nul"
      ],
      "execution_count": 215,
      "outputs": []
    },
    {
      "cell_type": "code",
      "metadata": {
        "id": "9KXSwpQ1FplI",
        "colab": {
          "base_uri": "https://localhost:8080/"
        },
        "outputId": "087be01a-4e29-446f-f493-c23e53b3d837"
      },
      "source": [
        "import dowhy\n",
        "import seaborn as sns\n",
        "import numpy as np\n",
        "import pandas as pd\n",
        "import dowhy.api\n",
        "import matplotlib.pyplot as plt\n",
        "%load_ext tikzmagic"
      ],
      "execution_count": 139,
      "outputs": [
        {
          "output_type": "stream",
          "text": [
            "The tikzmagic extension is already loaded. To reload it, use:\n",
            "  %reload_ext tikzmagic\n"
          ],
          "name": "stdout"
        }
      ]
    },
    {
      "cell_type": "markdown",
      "metadata": {
        "id": "BgeFG2qrkiVv"
      },
      "source": [
        "## **Problem Setup:**\n"
      ]
    },
    {
      "cell_type": "markdown",
      "metadata": {
        "id": "gBID6I5NEcfv"
      },
      "source": [
        "Suppose we have $N$ datapoints with covariates $Z$ where $Z$ is uniformly distributed between $[0,1]$: $z \\sim U(0,1)$. Treatment $T$ has binomial distribution $t \\sim B(1,\\frac{1}{1+e^{-5z}})$. There is a mediator $M$ with distribution $m\\sim B(1,\\frac{1+2t}{4})$. Also suppose we have outcome based on covariate $Z$ and mediator $M$: $y\\sim 2z+m+0.1\\mathcal{N}(0,1)$"
      ]
    },
    {
      "cell_type": "code",
      "metadata": {
        "id": "aHN4sfbjIJoc"
      },
      "source": [
        "#The causal graph depicted this situation #Tikz not working with Colab :(\n",
        "#%%tikz\n",
        "#\\draw (0,0) rectangle (1,1);\n",
        "#\\filldraw (0.5,0.5) circle (.1);"
      ],
      "execution_count": 140,
      "outputs": []
    },
    {
      "cell_type": "code",
      "metadata": {
        "id": "38502TcVFssI",
        "colab": {
          "base_uri": "https://localhost:8080/",
          "height": 202
        },
        "outputId": "46f5f57b-b0b3-41c3-9485-87cddf42ddf5"
      },
      "source": [
        "N = 5000\n",
        "\n",
        "z = np.random.uniform(size=N)\n",
        "t = np.random.binomial(1., p=1./(1. + np.exp(-5. * z)))\n",
        "m = np.random.binomial(1.,p=1/4+t/2)\n",
        "y = 2. * z + m + 0.1 * np.random.normal(size=N)\n",
        "df = pd.DataFrame({'Z': z, 'T': t,'M': m, 'Y': y})\n",
        "df.head()"
      ],
      "execution_count": 324,
      "outputs": [
        {
          "output_type": "execute_result",
          "data": {
            "text/html": [
              "<div>\n",
              "<style scoped>\n",
              "    .dataframe tbody tr th:only-of-type {\n",
              "        vertical-align: middle;\n",
              "    }\n",
              "\n",
              "    .dataframe tbody tr th {\n",
              "        vertical-align: top;\n",
              "    }\n",
              "\n",
              "    .dataframe thead th {\n",
              "        text-align: right;\n",
              "    }\n",
              "</style>\n",
              "<table border=\"1\" class=\"dataframe\">\n",
              "  <thead>\n",
              "    <tr style=\"text-align: right;\">\n",
              "      <th></th>\n",
              "      <th>Z</th>\n",
              "      <th>T</th>\n",
              "      <th>M</th>\n",
              "      <th>Y</th>\n",
              "    </tr>\n",
              "  </thead>\n",
              "  <tbody>\n",
              "    <tr>\n",
              "      <th>0</th>\n",
              "      <td>0.059544</td>\n",
              "      <td>1</td>\n",
              "      <td>1</td>\n",
              "      <td>1.153276</td>\n",
              "    </tr>\n",
              "    <tr>\n",
              "      <th>1</th>\n",
              "      <td>0.746430</td>\n",
              "      <td>1</td>\n",
              "      <td>1</td>\n",
              "      <td>2.487766</td>\n",
              "    </tr>\n",
              "    <tr>\n",
              "      <th>2</th>\n",
              "      <td>0.423708</td>\n",
              "      <td>1</td>\n",
              "      <td>1</td>\n",
              "      <td>1.901260</td>\n",
              "    </tr>\n",
              "    <tr>\n",
              "      <th>3</th>\n",
              "      <td>0.049873</td>\n",
              "      <td>1</td>\n",
              "      <td>1</td>\n",
              "      <td>1.042564</td>\n",
              "    </tr>\n",
              "    <tr>\n",
              "      <th>4</th>\n",
              "      <td>0.261634</td>\n",
              "      <td>0</td>\n",
              "      <td>0</td>\n",
              "      <td>0.367475</td>\n",
              "    </tr>\n",
              "  </tbody>\n",
              "</table>\n",
              "</div>"
            ],
            "text/plain": [
              "          Z  T  M         Y\n",
              "0  0.059544  1  1  1.153276\n",
              "1  0.746430  1  1  2.487766\n",
              "2  0.423708  1  1  1.901260\n",
              "3  0.049873  1  1  1.042564\n",
              "4  0.261634  0  0  0.367475"
            ]
          },
          "metadata": {
            "tags": []
          },
          "execution_count": 324
        }
      ]
    },
    {
      "cell_type": "markdown",
      "metadata": {
        "id": "LxXYeO7SGR0Z"
      },
      "source": [
        "Then the data looks like this:"
      ]
    },
    {
      "cell_type": "code",
      "metadata": {
        "colab": {
          "base_uri": "https://localhost:8080/",
          "height": 1000
        },
        "id": "BBZkRiJ5IOfQ",
        "outputId": "d1334dc0-2084-40c8-c2b2-5ca9d493ae23"
      },
      "source": [
        "sns.histplot(df['Z'])\n",
        "plt.show()\n",
        "sns.histplot(df['T'])\n",
        "plt.show()\n",
        "sns.histplot(df['M'])\n",
        "plt.show()\n",
        "sns.histplot(df['Y'])\n",
        "plt.show()"
      ],
      "execution_count": 325,
      "outputs": [
        {
          "output_type": "display_data",
          "data": {
            "image/png": "[encoded data removed]",
            "text/plain": [
              "<Figure size 432x288 with 1 Axes>"
            ]
          },
          "metadata": {
            "tags": [],
            "needs_background": "light"
          }
        },
        {
          "output_type": "display_data",
          "data": {
            "image/png": "[encoded data removed]",
            "text/plain": [
              "<Figure size 432x288 with 1 Axes>"
            ]
          },
          "metadata": {
            "tags": [],
            "needs_background": "light"
          }
        },
        {
          "output_type": "display_data",
          "data": {
            "image/png": "[encoded data removed]",
            "text/plain": [
              "<Figure size 432x288 with 1 Axes>"
            ]
          },
          "metadata": {
            "tags": [],
            "needs_background": "light"
          }
        },
        {
          "output_type": "display_data",
          "data": {
            "image/png": "[encoded data removed]",
            "text/plain": [
              "<Figure size 432x288 with 1 Axes>"
            ]
          },
          "metadata": {
            "tags": [],
            "needs_background": "light"
          }
        }
      ]
    },
    {
      "cell_type": "markdown",
      "metadata": {
        "id": "t_tMmlHVGVjx"
      },
      "source": [
        "If we compare the outcomes based on Treatment without taking into account the covariates, we do it this naive way:"
      ]
    },
    {
      "cell_type": "code",
      "metadata": {
        "colab": {
          "base_uri": "https://localhost:8080/",
          "height": 36
        },
        "id": "4dd91-FiIPu4",
        "outputId": "f0a742f5-122f-4553-c524-769b55a56220"
      },
      "source": [
        "#Naive effect of T on Y:\n",
        "(df[df['T'] == 1].mean() - df[df['T'] == 0].mean())['Y']"
      ],
      "execution_count": 326,
      "outputs": [
        {
          "output_type": "execute_result",
          "data": {
            "image/png": "[encoded data removed]",
            "text/latex": "$\\displaystyle 1.11681583245588$",
            "text/plain": [
              "1.1168158324558806"
            ]
          },
          "metadata": {
            "tags": []
          },
          "execution_count": 326
        }
      ]
    },
    {
      "cell_type": "markdown",
      "metadata": {
        "id": "FHXXtS_TK_-r"
      },
      "source": [
        "## **Preliminaries and Identification**"
      ]
    },
    {
      "cell_type": "markdown",
      "metadata": {
        "id": "RL41tN42QXJb"
      },
      "source": [
        "This is not the causal effect, since $Z$ confounds the relation between $T$ and $Y$. We create a model that accounts for the intervention distribution $P(Y|do(T=t))$, but we first start with a complete axiomization of the do-calculus to account for the steps in the model created."
      ]
    },
    {
      "cell_type": "markdown",
      "metadata": {
        "id": "rDUqkel_LLkZ"
      },
      "source": [
        "**Pearls Do-Calcus Rules:**\n",
        "\n",
        "Let $G$ be the DAG associated with a causal model and let $P()$ be  the probability distribution induced by that model. For any disjoinst subsets of variables $X,Y,Z,W$ we have the following rules:\n",
        "\n",
        "**Rule 1: $ $** \n",
        "$P(y|do(x),z,w) = P(y|do(x),w)$ if $((Y\\perp \\!\\!\\! \\perp Z)|X,W)_{G_\\overline{X}}$\n",
        "\n",
        "**Rule 2: $ $** \n",
        "$P(y|do(x),do(z),w) = P(y|do(x),z,w)$ if $((Y\\perp \\!\\!\\! \\perp Z)|X,W)_{G_{\\overline{X}\\underline{Z}}}$\n",
        "\n",
        "**Rule 3: $ $** \n",
        "$P(y|do(x),do(z),w) = P(y|do(x),w)$ if $((Y\\perp \\!\\!\\! \\perp Z)|X,W)_{G_{\\overline{X}\\overline{Z(W)}}}$"
      ]
    },
    {
      "cell_type": "code",
      "metadata": {
        "id": "Xu9Pk5OAJ-Mf",
        "colab": {
          "base_uri": "https://localhost:8080/",
          "height": 247
        },
        "outputId": "1c96fbf5-9da8-4e14-8ba4-7179c4551ae5"
      },
      "source": [
        "#Create Causal Model:\n",
        "from dowhy import CausalModel\n",
        "\n",
        "causes = ['T']\n",
        "outcomes = ['Y']\n",
        "#common_causes = ['Z']\n",
        "effect_modifiers = ['M']\n",
        "\n",
        "model = CausalModel(df,\n",
        "                    causes,\n",
        "                    outcomes,\n",
        "                    graph=\"\"\"graph[directed 1 node[id \"U\" label \"Unobserved Confounders\"]\n",
        "                    node[id \"T\" label \"T\"]\n",
        "                    node[id \"Y\" label \"Y\"]\n",
        "                    node[id \"M\" label \"M\"]\n",
        "                    edge[source \"U\" target \"T\"]\n",
        "                    edge[source \"T\" target \"M\"]\n",
        "                    edge[source \"M\" target \"Y\"]\n",
        "                    edge[source \"U\" target \"Y\"]]\"\"\")\n",
        "\n",
        "# Let Dowhy plot the model just for verification purposes:\n",
        "model.view_model(layout=\"dot\")"
      ],
      "execution_count": 327,
      "outputs": [
        {
          "output_type": "display_data",
          "data": {
            "image/png": "[encoded data removed]",
            "text/plain": [
              "<Figure size 432x288 with 1 Axes>"
            ]
          },
          "metadata": {
            "tags": []
          }
        }
      ]
    },
    {
      "cell_type": "markdown",
      "metadata": {
        "id": "JZpjxAKXO4XB"
      },
      "source": [
        "We first want to know if we can identify $Y$ given cause $T$, common cause $Z$ and mediator $M$. From *Causal Diagrams and the Identification of Causal Effects* (Pearl,200), we obtain the following theorem: \n",
        "\n",
        "**Theorem:**\n",
        "A causal effect $q = P(y_1, … , y_k |do(t_1), … ,do(t_n))$ is identifiable in a model characterized\n",
        "by a graph $G$ if there exists a finite sequence of transformations, each conforming to one\n",
        "of the inference rules above, that reduces $q$ into a standard (i.e., “do-operator”-free)\n",
        "probability expression involving observed quantities."
      ]
    },
    {
      "cell_type": "markdown",
      "metadata": {
        "id": "LbNwcNyuex5S"
      },
      "source": [
        "We can now prove that in our causal graph, $Y$ is identifiable by treatment $T$. Again we need to write $P(Y|do(T=t))$ as a do-operator free expression.\n",
        "\n",
        "\\begin{align}\n",
        "P(Y|do(T=t))=\\sum_{m}P(y|m,do(t))P(m|do(t))\n",
        "\\end{align}\n",
        "\n",
        "Now we we observe that $((Y\\perp \\!\\!\\! \\perp M)|T)_{G_{\\underline{M}\\overline{T}}}$ and we apply the second rule of do-calculus (reversibly) to rewrite the first term:\n",
        "\n",
        "\\begin{align}\n",
        "P(y|m,do(t))=P(y|do(m),do(t)).\n",
        "\\end{align}\n",
        "\n",
        "Similarly, we observe that  $(Y\\perp \\!\\!\\! \\perp T|M)_{G_{\\overline{T}\\overline{M}}}$ to apply the third rule of do-calculus to obtain\n",
        "\n",
        "\\begin{align}\n",
        "P(y|do(m),do(t))=P(y|do(m)).\n",
        "\\end{align}\n",
        "\n",
        "So now we have expressed the initial expression as an intervention of $M$, but we still need to remove the do-operator in that case:\n",
        "\\begin{align}\n",
        "P(y|do(m))=\\sum_{t}P(y|t,do(m))P(t|do(m))=\\sum_{t}P(y|m,t)P(t)\n",
        "\\end{align}\n",
        "where $P(y|t,do(m))=P(y|m,t)$ by observing  $(Y\\perp \\!\\!\\! \\perp M|T)_{G_{\\underline{M}}}$ and applying do-calculus rule 2 and $P(t|do(m))$ reduces to $P(t)$ by do-calculus rule 3 and the observation $(Y\\perp \\!\\!\\! \\perp T)_{G_{\\overline{M}}}$.\n",
        "Finally the expression $P(m|do(t))$ reduces to $P(m|t)$ by rule 2 and the observation that $(M\\perp \\!\\!\\! \\perp T)_{G_{\\underline{T}}}$.\n",
        "Bringing all these expressions together yields:\n",
        "\n",
        "\\begin{align}\n",
        "P(Y|do(T=t))=\\sum_{m}P(y|m,do(t))P(m|do(t))=\\sum_{m}P(m|t)\\sum_{t'}P(y|m,t')P(t')\n",
        "\\end{align}\n",
        "\n",
        "\n",
        "Since the last expression is 'do-operator free', this is now an application of the do-calculus to prove identifiability. In this case the identifiablility is called the **front-door theorem.** Dowhy can also check identifiablity. We check if Dowhy is also able to identify the $Y$."
      ]
    },
    {
      "cell_type": "code",
      "metadata": {
        "colab": {
          "base_uri": "https://localhost:8080/"
        },
        "id": "tOMf4j-OKBYH",
        "outputId": "c9c6ee77-4c12-494f-cd97-b565af8e1991"
      },
      "source": [
        "# Check if the variable can be identified:\n",
        "identification = model.identify_effect()\n",
        "print(identification)"
      ],
      "execution_count": 328,
      "outputs": [
        {
          "output_type": "stream",
          "text": [
            "WARN: Do you want to continue by ignoring any unobserved confounders? (use proceed_when_unidentifiable=True to disable this prompt) [y/n] n\n",
            "Estimand type: nonparametric-ate\n",
            "\n",
            "### Estimand : 1\n",
            "Estimand name: backdoor\n",
            "No such variable found!\n",
            "\n",
            "### Estimand : 2\n",
            "Estimand name: iv\n",
            "No such variable found!\n",
            "\n",
            "### Estimand : 3\n",
            "Estimand name: frontdoor\n",
            "Estimand expression:\n",
            "Expectation(Derivative(Y, [M])*Derivative([M], [T]))\n",
            "Estimand assumption 1, Full-mediation: M intercepts (blocks) all directed paths from T to Y.\n",
            "Estimand assumption 2, First-stage-unconfoundedness: If U→{T} and U→{M} then P(M|T,U) = P(M|T)\n",
            "Estimand assumption 3, Second-stage-unconfoundedness: If U→{M} and U→Y then P(Y|M, T, U) = P(Y|M, T)\n",
            "\n"
          ],
          "name": "stdout"
        }
      ]
    },
    {
      "cell_type": "markdown",
      "metadata": {
        "id": "Zlwzq7iXizv-"
      },
      "source": [
        "Dowhy can indeed identify the variable, only estimation becomes difficult cause the frontdoor estimation techniques do not work. Therefore we do estimation ourselves with a couple techniques. First we write down the ATE using the adjustment formula. "
      ]
    },
    {
      "cell_type": "markdown",
      "metadata": {
        "id": "aX06R8UFpND4"
      },
      "source": [
        "We can rewrite use the front-door theorem to write out the average treatment effect:\n",
        "\n",
        "\\begin{align}\n",
        "\\mathbb{E}(Y|do(T=1))-\\mathbb{E}(Y|do(T=0))&=(\\sum_{m}P(m\\mid T=1)-\\sum_{m}P(m\\mid T=0)\\sum_{t'}\\mathbb{E}(y|m,t')P(t') \\\\\n",
        "&=\\sum_{m,y,t'}(P(m\\mid T=1)-P(m\\mid T=0))YP(y|m,t')P(t')\n",
        "\\end{align}"
      ]
    },
    {
      "cell_type": "markdown",
      "metadata": {
        "id": "Uv10XErplBJU"
      },
      "source": [
        "## **Naive Solution: Calculating Probabilities**"
      ]
    },
    {
      "cell_type": "markdown",
      "metadata": {
        "id": "xUM0vSjfjg8s"
      },
      "source": [
        "Now we know the probabilities we are after, we can calculate these probabilities in a very naive way. Note that the posterior $P(y|m,t')$ is actually tractable since we have binary values (I tries the same for $m, t$ continuous but the problem becomes already very hard since you need to write down $n^3$ outcomes of $P(y|m,t')$ for every combination of $y,m,t$."
      ]
    },
    {
      "cell_type": "code",
      "metadata": {
        "colab": {
          "base_uri": "https://localhost:8080/"
        },
        "id": "IybFMmTO5XsN",
        "outputId": "e7012b21-9cda-4c66-d99f-641fc82b9e73"
      },
      "source": [
        "import warnings\n",
        "warnings.filterwarnings('ignore')\n",
        "def estimate_ate_frontdoor_direct(df, x, y, zs):\n",
        "    \"\"\"\n",
        "    Estiamte the ATE of a system from a dataframe of samples `ds`\n",
        "    using frontdoor adjustment directly on ML estimates of probability.\n",
        "    \n",
        "    E[Y|do(T) = t'] = \\sum_{t,y,m} y P[y|t,m] P(t|x') P(X)\n",
        "    \n",
        "    Arguments\n",
        "    ---------\n",
        "    df: pandas.DataFrame\n",
        "    x: str\n",
        "    y: str\n",
        "    zs: list[str]\n",
        "    \n",
        "    Returns \n",
        "    -------\n",
        "    ATE: float\n",
        "    \"\"\"\n",
        "    zs_unique = [tuple(a) for a in np.unique(df[zs].values, axis=0)]\n",
        "    y_unique = np.unique(df[y].values, axis=0)    \n",
        "    \n",
        "    # P(X)\n",
        "    p_x = {\n",
        "        x_: np.mean(df[x] == x_)\n",
        "        for x_ in (0,1)\n",
        "    }\n",
        "    \n",
        "    # P(Z|X)\n",
        "    p_z_x = {\n",
        "        (x_, z_): np.mean(df\n",
        "            .loc[lambda df_: df_[x] == x_]\n",
        "            [zs]\n",
        "            .values == z_)\n",
        "        for x_ in (0,1)\n",
        "        for z_ in zs_unique\n",
        "    }\n",
        "    \n",
        "    # P(Y|X,Z)\n",
        "    p_y_xz = {\n",
        "        (x_, y_, z_): np.mean(df\n",
        "             .loc[lambda df_: df_[x] == x_]\n",
        "             .loc[lambda df_: (df_[zs].values == z_).squeeze()]\n",
        "             [y]\n",
        "             .values == y_)\n",
        "        for x_ in (0,1)\n",
        "        for y_ in y_unique\n",
        "        for z_ in zs_unique\n",
        "    }\n",
        "    df2 = pd.DataFrame(list(p_y_xz.items()),columns = ['Combination (t,y,m)','Prob'])\n",
        "    p_y_xz2 = df2.set_index('Combination (t,y,m)').T.to_dict('list')\n",
        "    \n",
        "    # ATE\n",
        "    E_y_do_x_0 = 0.0\n",
        "    E_y_do_x_1 = 0.0\n",
        "        \n",
        "    for y_ in y_unique:\n",
        "        for zs_ in  zs_unique:\n",
        "            for x_ in [0,1]:\n",
        "                E_y_do_x_0 += y_ * p_y_xz[(x_, y_, zs_)] * p_z_x[(0, zs_)] * p_x[x_]\n",
        "                E_y_do_x_1 += y_ * p_y_xz[(x_, y_, zs_)] * p_z_x[(1, zs_)] * p_x[x_]\n",
        "    \n",
        "    return E_y_do_x_1 - E_y_do_x_0\n",
        "print('Solution ATE in the frontdoor case by calculating all proabilities:', estimate_ate_frontdoor_direct(df,'T','Y',['M']))"
      ],
      "execution_count": 331,
      "outputs": [
        {
          "output_type": "stream",
          "text": [
            "Solution ATE in the frontdoor case by calculating all proabilities: 0.47466916883294075\n"
          ],
          "name": "stdout"
        }
      ]
    },
    {
      "cell_type": "markdown",
      "metadata": {
        "id": "sLLjF4pMlLL3"
      },
      "source": [
        "## **Solution Via SCM**"
      ]
    },
    {
      "cell_type": "markdown",
      "metadata": {
        "id": "mVSVWJJtlgHS"
      },
      "source": [
        "Won't discuss this solution for now. Just use for verification purposes"
      ]
    },
    {
      "cell_type": "code",
      "metadata": {
        "colab": {
          "base_uri": "https://localhost:8080/",
          "height": 367
        },
        "id": "5ygQ_ytbO673",
        "outputId": "b89e0a4c-52c5-4b38-e54a-dbea4a2ea4a5"
      },
      "source": [
        "import causalgraphicalmodels \n",
        "from causalgraphicalmodels import StructuralCausalModel\n",
        "from causalgraphicalmodels.csm import discrete_model, linear_model\n",
        "\n",
        "fd0 = StructuralCausalModel({\n",
        "    \"z\": lambda n_samples: np.random.uniform(size=n_samples),\n",
        "    \"t\": lambda z: np.random.binomial(1., p=1./(1. + np.exp(-5. * z))),\n",
        "    \"m\": lambda t, n_samples: np.random.binomial(1.,p=1/4+t/2),\n",
        "    \"y\": lambda m, z, n_samples: 2. * z + m + 0.1 * np.random.normal(size=n_samples)})\n",
        "\n",
        "fd0.cgm.draw()"
      ],
      "execution_count": 332,
      "outputs": [
        {
          "output_type": "execute_result",
          "data": {
            "text/plain": [
              "<graphviz.dot.Digraph at 0x7f1e54422e10>"
            ],
            "image/svg+xml": "<?xml version=\"1.0\" encoding=\"UTF-8\" standalone=\"no\"?>\n<!DOCTYPE svg PUBLIC \"-//W3C//DTD SVG 1.1//EN\"\n \"http://www.w3.org/Graphics/SVG/1.1/DTD/svg11.dtd\">\n<!-- Generated by graphviz version 2.40.1 (20161225.0304)\n -->\n<!-- Title: %3 Pages: 1 -->\n<svg width=\"90pt\" height=\"260pt\"\n viewBox=\"0.00 0.00 90.00 260.00\" xmlns=\"http://www.w3.org/2000/svg\" xmlns:xlink=\"http://www.w3.org/1999/xlink\">\n<g id=\"graph0\" class=\"graph\" transform=\"scale(1 1) rotate(0) translate(4 256)\">\n<title>%3</title>\n<polygon fill=\"#ffffff\" stroke=\"transparent\" points=\"-4,4 -4,-256 86,-256 86,4 -4,4\"/>\n<!-- z -->\n<g id=\"node1\" class=\"node\">\n<title>z</title>\n<ellipse fill=\"none\" stroke=\"#000000\" cx=\"27\" cy=\"-234\" rx=\"27\" ry=\"18\"/>\n<text text-anchor=\"middle\" x=\"27\" y=\"-230.3\" font-family=\"Times,serif\" font-size=\"14.00\" fill=\"#000000\">z</text>\n</g>\n<!-- y -->\n<g id=\"node2\" class=\"node\">\n<title>y</title>\n<ellipse fill=\"none\" stroke=\"#000000\" cx=\"27\" cy=\"-18\" rx=\"27\" ry=\"18\"/>\n<text text-anchor=\"middle\" x=\"27\" y=\"-14.3\" font-family=\"Times,serif\" font-size=\"14.00\" fill=\"#000000\">y</text>\n</g>\n<!-- z&#45;&gt;y -->\n<g id=\"edge2\" class=\"edge\">\n<title>z&#45;&gt;y</title>\n<path fill=\"none\" stroke=\"#000000\" d=\"M23.6685,-216.0736C21.8913,-205.5982 19.8913,-192.0982 19,-180 15.4733,-132.1297 15.4733,-119.8703 19,-72 19.6267,-63.4935 20.8015,-54.2939 22.0616,-45.9399\"/>\n<polygon fill=\"#000000\" stroke=\"#000000\" points=\"25.5398,-46.3546 23.6685,-35.9264 18.6282,-45.2455 25.5398,-46.3546\"/>\n</g>\n<!-- t -->\n<g id=\"node3\" class=\"node\">\n<title>t</title>\n<ellipse fill=\"none\" stroke=\"#000000\" cx=\"55\" cy=\"-162\" rx=\"27\" ry=\"18\"/>\n<text text-anchor=\"middle\" x=\"55\" y=\"-158.3\" font-family=\"Times,serif\" font-size=\"14.00\" fill=\"#000000\">t</text>\n</g>\n<!-- z&#45;&gt;t -->\n<g id=\"edge1\" class=\"edge\">\n<title>z&#45;&gt;t</title>\n<path fill=\"none\" stroke=\"#000000\" d=\"M33.778,-216.5708C36.9872,-208.3187 40.8935,-198.2738 44.4758,-189.0623\"/>\n<polygon fill=\"#000000\" stroke=\"#000000\" points=\"47.8248,-190.1069 48.1874,-179.5182 41.3008,-187.5697 47.8248,-190.1069\"/>\n</g>\n<!-- m -->\n<g id=\"node4\" class=\"node\">\n<title>m</title>\n<ellipse fill=\"none\" stroke=\"#000000\" cx=\"55\" cy=\"-90\" rx=\"27\" ry=\"18\"/>\n<text text-anchor=\"middle\" x=\"55\" y=\"-86.3\" font-family=\"Times,serif\" font-size=\"14.00\" fill=\"#000000\">m</text>\n</g>\n<!-- t&#45;&gt;m -->\n<g id=\"edge3\" class=\"edge\">\n<title>t&#45;&gt;m</title>\n<path fill=\"none\" stroke=\"#000000\" d=\"M55,-143.8314C55,-136.131 55,-126.9743 55,-118.4166\"/>\n<polygon fill=\"#000000\" stroke=\"#000000\" points=\"58.5001,-118.4132 55,-108.4133 51.5001,-118.4133 58.5001,-118.4132\"/>\n</g>\n<!-- m&#45;&gt;y -->\n<g id=\"edge4\" class=\"edge\">\n<title>m&#45;&gt;y</title>\n<path fill=\"none\" stroke=\"#000000\" d=\"M48.222,-72.5708C45.0128,-64.3187 41.1065,-54.2738 37.5242,-45.0623\"/>\n<polygon fill=\"#000000\" stroke=\"#000000\" points=\"40.6992,-43.5697 33.8126,-35.5182 34.1752,-46.1069 40.6992,-43.5697\"/>\n</g>\n</g>\n</svg>\n"
          },
          "metadata": {
            "tags": []
          },
          "execution_count": 332
        }
      ]
    },
    {
      "cell_type": "code",
      "metadata": {
        "colab": {
          "base_uri": "https://localhost:8080/"
        },
        "id": "sfpmIU09OpBl",
        "outputId": "806decf5-c3e6-419a-a3b3-fa928dcb4ccd"
      },
      "source": [
        "def estimate_conditional_expectation(df, x, y):\n",
        "    \"\"\"\n",
        "    Estimate E[Y|X=1] - E[Y|X=0]\n",
        "    \n",
        "    from a dataframe `df` of samples.\n",
        "    \n",
        "    Arguments\n",
        "    ---------\n",
        "    df: pandas.DataFrame\n",
        "    \n",
        "    x: str\n",
        "    \n",
        "    y: str\n",
        "    \n",
        "    Returns\n",
        "    -------\n",
        "    estimates: tuple[float, float]\n",
        "        estiamted difference and standard deviation\n",
        "    \"\"\"\n",
        "    a = df.loc[lambda df: df[x] == 0]\n",
        "    b = df.loc[lambda df: df[x] == 1]\n",
        "    \n",
        "    n_a = a.shape[0]\n",
        "    n_b = b.shape[0]\n",
        "    \n",
        "    delta = b[y].mean() - a[y].mean()\n",
        "    delta_std = np.sqrt(a[y].var() / n_a + b[y].var() / n_b)\n",
        "    \n",
        "    return (delta, delta_std)\n",
        "\n",
        "\n",
        "def ab_test(scm, x, y, n=10000):\n",
        "    \"\"\"\n",
        "    Simulate an A/B on StructuralCausalModel scm\n",
        "    to estimate the quantity:\n",
        "    \n",
        "    E[Y|do(X) = 1] - E[Y|do(X) = 0]\n",
        "    \n",
        "    Arguments\n",
        "    ---------\n",
        "    scm: StructuralCausalmodel\n",
        "    \n",
        "    x: str\n",
        "    \n",
        "    y: str\n",
        "    \n",
        "    Returns\n",
        "    -------\n",
        "    estimate: tuple[estimates, estiamte_std]\n",
        "    \n",
        "    \"\"\"\n",
        "    scm_do = scm.do(x)\n",
        "    \n",
        "    n_a = int(n / 2)\n",
        "    n_b = n - n_a\n",
        "    set_variable = np.array([0]*n_a + [1]*n_b)\n",
        "    \n",
        "    samp = (\n",
        "        scm_do\n",
        "        .sample(\n",
        "            set_values={x: set_variable}, \n",
        "            n_samples=n)\n",
        "    )\n",
        "    \n",
        "    return estimate_conditional_expectation(samp, x, y)\n",
        "print(\"Estimated ATE: {:.3f}\".format(ab_test(fd0, \"t\", \"y\")[0]))"
      ],
      "execution_count": 341,
      "outputs": [
        {
          "output_type": "stream",
          "text": [
            "Estimated ATE: 0.505\n"
          ],
          "name": "stdout"
        }
      ]
    },
    {
      "cell_type": "markdown",
      "metadata": {
        "id": "ToyCbbALloz3"
      },
      "source": [
        "### **Regression Solution**"
      ]
    },
    {
      "cell_type": "markdown",
      "metadata": {
        "id": "i2pHn4TPnT6q"
      },
      "source": [
        "We can also calculate the results by regression, but unlike the regression we used in the back-door case we need two step regression. The reason for that is as follows: since U confounds the relation between $T$ and $Y$, any regression $T$ on $X$ can be confounded by $Z$ and therefore is not accurate. Therefore we do two step regression, assuming the relation between $M, Y$ and $T$ are linear.\n",
        "1. First we regress $M$ on $T$. By doing this we can obtain the regression coefficient $b_{t,m}$. In addition to that we can also calculate noise variable $\\epsilon_m$.  \n",
        "2. Using this noise variable $\\epsilon_z$ we are going to regress $Y$ on $\\epsilon_m$. The reason for this is that $Z$ maybe be collinear with $T$, but since $\\epsilon_m$ is independent of $T$, it is also independent of $Z$. Hence we receive the second coefficient $b_{m,y}$.\n",
        "\n",
        "\n",
        "The average causal effect is then $b_{t,m}b_{m,y}$ (proof should be included)"
      ]
    },
    {
      "cell_type": "code",
      "metadata": {
        "colab": {
          "base_uri": "https://localhost:8080/"
        },
        "id": "ICEuR1fLzs6O",
        "outputId": "52aca33a-bfe2-4cd3-814d-89412febf4c0"
      },
      "source": [
        "import statsmodels.api as sm\n",
        "\n",
        "def estimate_ate_frontdoor_linear(df, x, y, m):\n",
        "    \"\"\"\n",
        "    Estiamte the ATE of a system from a dataframe of samples `df`\n",
        "    using frontdoor adjustment and assuming linear models.\n",
        "    \n",
        "    Arguments\n",
        "    ---------\n",
        "    df: pandas.DataFrame\n",
        "    x: str\n",
        "    y: str\n",
        "    m: str\n",
        "    \n",
        "    Returns \n",
        "    -------\n",
        "    ATE: float\n",
        "    \"\"\"\n",
        "    x = df[x].values\n",
        "    y = df[y].values\n",
        "    m = df[m].values\n",
        "    m_x_model = sm.OLS(m, sm.add_constant(x)).fit()\n",
        "    \n",
        "    m_bar = m_x_model.predict(sm.add_constant(x))\n",
        "    m_prime = m - m_bar #noise\n",
        "\n",
        "    y_m_model = sm.OLS(y, sm.add_constant(m_prime)).fit() # regress Y on the noise to prevent confounding. \n",
        "    return y_m_model.params[1] * m_x_model.params[1]\n",
        "print(estimate_ate_frontdoor_linear(df,'T','Y','M'))"
      ],
      "execution_count": 344,
      "outputs": [
        {
          "output_type": "stream",
          "text": [
            "0.4745310300576881\n"
          ],
          "name": "stdout"
        }
      ]
    },
    {
      "cell_type": "markdown",
      "metadata": {
        "id": "ckSPbdFByGMW"
      },
      "source": [
        "Let's try again, but now we don't regress on the noise variable $\\epsilon_m$, but we regress $Y$ on $M$."
      ]
    },
    {
      "cell_type": "code",
      "metadata": {
        "colab": {
          "base_uri": "https://localhost:8080/"
        },
        "id": "iTwyjZHDRYSa",
        "outputId": "10406faa-6884-49f1-b06a-d751c3431c65"
      },
      "source": [
        "# We can fit any sort of model: we try a simple linear regression.\n",
        "from sklearn.linear_model import LinearRegression\n",
        "\n",
        "X=np.array(df[['M','Z']]) #Note that mu depends on T and Z in our example.\n",
        "mu = LinearRegression().fit(X, np.array(df['Y']))\n",
        "#Estimate the inner expectations\n",
        "estimation = mu.predict(list(zip(np.ones(5000),df['Z'])))-mu.predict(list(zip(np.zeros(5000),df['Z'])))\n",
        "\n",
        "# And then the outer expectation to calculate the causal effect.\n",
        "estimation.mean()\n",
        "\n",
        "beta = LinearRegression().fit(np.array(df['T']).reshape(-1, 1), df['M'])\n",
        "\n",
        "print(beta.coef_[0]*mu.coef_[0] )\n"
      ],
      "execution_count": 346,
      "outputs": [
        {
          "output_type": "stream",
          "text": [
            "0.4614526171630215\n"
          ],
          "name": "stdout"
        }
      ]
    },
    {
      "cell_type": "markdown",
      "metadata": {
        "id": "QNAmt0yIycWo"
      },
      "source": [
        "We see that the solution is slightly different than the solution from the previous regression (or  solution from the exact calculation). Can be made more clear by enhancing the impact of confounder $Z$."
      ]
    },
    {
      "cell_type": "markdown",
      "metadata": {
        "id": "uWUmG_oVlxCQ"
      },
      "source": [
        "## **Dowhy Solution**"
      ]
    },
    {
      "cell_type": "code",
      "metadata": {
        "colab": {
          "base_uri": "https://localhost:8080/",
          "height": 370
        },
        "id": "itpeh8UYNnrU",
        "outputId": "1a269436-a702-4973-dfd9-c0ef81ef3856"
      },
      "source": [
        "# Try to make this work with Dowhy but is does not work\n",
        "estimate = model.estimate_effect(identification,\n",
        "                                 method_name='frontdoor.two_stage_regression',target_units=\"ate\")\n",
        "print(estimate)"
      ],
      "execution_count": 320,
      "outputs": [
        {
          "output_type": "error",
          "ename": "TypeError",
          "evalue": "ignored",
          "traceback": [
            "\u001b[0;31m---------------------------------------------------------------------------\u001b[0m",
            "\u001b[0;31mTypeError\u001b[0m                                 Traceback (most recent call last)",
            "\u001b[0;32m<ipython-input-320-9f54c1ed5e38>\u001b[0m in \u001b[0;36m<module>\u001b[0;34m()\u001b[0m\n\u001b[1;32m      1\u001b[0m \u001b[0;31m# Try to make this work with Dowhy but is does not work\u001b[0m\u001b[0;34m\u001b[0m\u001b[0;34m\u001b[0m\u001b[0;34m\u001b[0m\u001b[0m\n\u001b[1;32m      2\u001b[0m estimate = model.estimate_effect(identification,\n\u001b[0;32m----> 3\u001b[0;31m                                  method_name='frontdoor.two_stage_regression',target_units=\"ate\")\n\u001b[0m\u001b[1;32m      4\u001b[0m \u001b[0mprint\u001b[0m\u001b[0;34m(\u001b[0m\u001b[0mestimate\u001b[0m\u001b[0;34m)\u001b[0m\u001b[0;34m\u001b[0m\u001b[0;34m\u001b[0m\u001b[0m\n",
            "\u001b[0;32m/usr/local/lib/python3.7/dist-packages/dowhy/causal_model.py\u001b[0m in \u001b[0;36mestimate_effect\u001b[0;34m(self, identified_estimand, method_name, control_value, treatment_value, test_significance, evaluate_effect_strength, confidence_intervals, target_units, effect_modifiers, method_params)\u001b[0m\n\u001b[1;32m    227\u001b[0m                 \u001b[0mtarget_units\u001b[0m \u001b[0;34m=\u001b[0m \u001b[0mtarget_units\u001b[0m\u001b[0;34m,\u001b[0m\u001b[0;34m\u001b[0m\u001b[0;34m\u001b[0m\u001b[0m\n\u001b[1;32m    228\u001b[0m                 \u001b[0meffect_modifiers\u001b[0m \u001b[0;34m=\u001b[0m \u001b[0meffect_modifiers\u001b[0m\u001b[0;34m,\u001b[0m\u001b[0;34m\u001b[0m\u001b[0;34m\u001b[0m\u001b[0m\n\u001b[0;32m--> 229\u001b[0;31m                 \u001b[0mparams\u001b[0m\u001b[0;34m=\u001b[0m\u001b[0mmethod_params\u001b[0m\u001b[0;34m\u001b[0m\u001b[0;34m\u001b[0m\u001b[0m\n\u001b[0m\u001b[1;32m    230\u001b[0m             )\n\u001b[1;32m    231\u001b[0m             \u001b[0mestimate\u001b[0m \u001b[0;34m=\u001b[0m \u001b[0mcausal_estimator\u001b[0m\u001b[0;34m.\u001b[0m\u001b[0mestimate_effect\u001b[0m\u001b[0;34m(\u001b[0m\u001b[0;34m)\u001b[0m\u001b[0;34m\u001b[0m\u001b[0;34m\u001b[0m\u001b[0m\n",
            "\u001b[0;32m/usr/local/lib/python3.7/dist-packages/dowhy/causal_estimators/two_stage_regression_estimator.py\u001b[0m in \u001b[0;36m__init__\u001b[0;34m(self, *args, **kwargs)\u001b[0m\n\u001b[1;32m     59\u001b[0m                 \u001b[0mself\u001b[0m\u001b[0;34m.\u001b[0m\u001b[0mlogger\u001b[0m\u001b[0;34m.\u001b[0m\u001b[0merror\u001b[0m\u001b[0;34m(\u001b[0m\u001b[0merror_msg\u001b[0m\u001b[0;34m)\u001b[0m\u001b[0;34m\u001b[0m\u001b[0;34m\u001b[0m\u001b[0m\n\u001b[1;32m     60\u001b[0m \u001b[0;34m\u001b[0m\u001b[0m\n\u001b[0;32m---> 61\u001b[0;31m         \u001b[0;32mif\u001b[0m \u001b[0;34m'first_stage_model'\u001b[0m \u001b[0;32min\u001b[0m \u001b[0mself\u001b[0m\u001b[0;34m.\u001b[0m\u001b[0mmethod_params\u001b[0m\u001b[0;34m:\u001b[0m\u001b[0;34m\u001b[0m\u001b[0;34m\u001b[0m\u001b[0m\n\u001b[0m\u001b[1;32m     62\u001b[0m             \u001b[0mself\u001b[0m\u001b[0;34m.\u001b[0m\u001b[0mfirst_stage_model\u001b[0m \u001b[0;34m=\u001b[0m \u001b[0mself\u001b[0m\u001b[0;34m.\u001b[0m\u001b[0mmethod_params\u001b[0m\u001b[0;34m[\u001b[0m\u001b[0;34m'first_stage_model'\u001b[0m\u001b[0;34m]\u001b[0m\u001b[0;34m\u001b[0m\u001b[0;34m\u001b[0m\u001b[0m\n\u001b[1;32m     63\u001b[0m         \u001b[0;32melse\u001b[0m\u001b[0;34m:\u001b[0m\u001b[0;34m\u001b[0m\u001b[0;34m\u001b[0m\u001b[0m\n",
            "\u001b[0;31mTypeError\u001b[0m: argument of type 'NoneType' is not iterable"
          ]
        }
      ]
    }
  ]
}