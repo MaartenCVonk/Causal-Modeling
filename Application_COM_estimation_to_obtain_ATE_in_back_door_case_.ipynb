{
  "nbformat": 4,
  "nbformat_minor": 0,
  "metadata": {
    "colab": {
      "name": "Application COM estimation to obtain ATE in back-door case .ipynb",
      "provenance": [],
      "authorship_tag": "ABX9TyNgaukNvBdetjWJXUsBQlUN",
      "include_colab_link": true
    },
    "kernelspec": {
      "name": "python3",
      "display_name": "Python 3"
    },
    "language_info": {
      "name": "python"
    }
  },
  "cells": [
    {
      "cell_type": "markdown",
      "metadata": {
        "id": "view-in-github",
        "colab_type": "text"
      },
      "source": [
        "<a href=\"https://colab.research.google.com/github/MaartenCVonk/Causal-Modeling/blob/main/Application_COM_estimation_to_obtain_ATE_in_back_door_case_.ipynb\" target=\"_parent\"><img src=\"https://colab.research.google.com/assets/colab-badge.svg\" alt=\"Open In Colab\"/></a>"
      ]
    },
    {
      "cell_type": "markdown",
      "metadata": {
        "id": "VDXssG2tk_KR"
      },
      "source": [
        "## **Summary**"
      ]
    },
    {
      "cell_type": "markdown",
      "metadata": {
        "id": "JNgw8a0SlEf3"
      },
      "source": [
        "This Notebook aims to calculate the causal effect of (binary) Treatment $T$ on outcome $Y$ with common observable confounder $Z$. We use Pearls axiomization for do-calculus to prove identifiability of outcome variable and use a scikit learn linear regression to apply a conditional outcome model (COM)."
      ]
    },
    {
      "cell_type": "code",
      "metadata": {
        "id": "khcE6z7gFUHU"
      },
      "source": [
        "!pip install dowhy &> /dev/nul\n",
        "!pip install git+git://github.com/mkrphys/ipython-tikzmagic.git &> /dev/nul"
      ],
      "execution_count": 26,
      "outputs": []
    },
    {
      "cell_type": "code",
      "metadata": {
        "id": "9KXSwpQ1FplI"
      },
      "source": [
        "import dowhy\n",
        "import seaborn as sns\n",
        "import numpy as np\n",
        "import pandas as pd\n",
        "import dowhy.api\n",
        "import matplotlib.pyplot as plt\n",
        "%load_ext tikzmagic"
      ],
      "execution_count": 2,
      "outputs": []
    },
    {
      "cell_type": "markdown",
      "metadata": {
        "id": "BgeFG2qrkiVv"
      },
      "source": [
        "## **Problem Setup:**\n"
      ]
    },
    {
      "cell_type": "markdown",
      "metadata": {
        "id": "gBID6I5NEcfv"
      },
      "source": [
        "Suppose we have $N$ datapoints with covariates $Z$ where $Z$ is uniformly distributed between $[0,1]$: $z \\sim U(0,1)$. Treatment $T$ has binomial distribution $t \\sim B(1,\\frac{1}{1+e^{-5z}})$. Also suppose we have outcome based on covariate $Z$ and treatment $T$: $y\\sim 2z+t+0.1\\mathcal{N}(0,1)$"
      ]
    },
    {
      "cell_type": "code",
      "metadata": {
        "id": "aHN4sfbjIJoc"
      },
      "source": [
        "#The causal graph depicted this situation\n",
        "#%%tikz\n",
        "#\\draw (0,0) rectangle (1,1);\n",
        "#\\filldraw (0.5,0.5) circle (.1);"
      ],
      "execution_count": 27,
      "outputs": []
    },
    {
      "cell_type": "markdown",
      "metadata": {
        "id": "ayC6rs6ZOjpb"
      },
      "source": [
        "\n",
        "![picture](https://drive.google.com/uc?export=view&id=1uuH89vkXM1hy9KlPooHVuni7XPUtAwTS)\n"
      ]
    },
    {
      "cell_type": "code",
      "metadata": {
        "id": "38502TcVFssI"
      },
      "source": [
        "N = 5000\n",
        "\n",
        "z = np.random.uniform(size=N)\n",
        "t = np.random.binomial(1., p=1./(1. + np.exp(-5. * z)))\n",
        "y = 2. * z + t + 0.1 * np.random.normal(size=N)\n",
        "\n",
        "df = pd.DataFrame({'Z': z, 'T': t, 'Y': y})\n"
      ],
      "execution_count": 28,
      "outputs": []
    },
    {
      "cell_type": "markdown",
      "metadata": {
        "id": "LxXYeO7SGR0Z"
      },
      "source": [
        "Then the data looks like this:"
      ]
    },
    {
      "cell_type": "code",
      "metadata": {
        "colab": {
          "base_uri": "https://localhost:8080/",
          "height": 803
        },
        "id": "BBZkRiJ5IOfQ",
        "outputId": "97e5cf50-7c65-4c50-a38c-109e2e276d08"
      },
      "source": [
        "sns.histplot(df['Z'])\n",
        "plt.show()\n",
        "sns.histplot(df['T'])\n",
        "plt.show()\n",
        "sns.histplot(df['Y'])\n",
        "plt.show()"
      ],
      "execution_count": 29,
      "outputs": [
        {
          "output_type": "display_data",
          "data": {
            "image/png": "[encoded data removed]",
            "text/plain": [
              "<Figure size 432x288 with 1 Axes>"
            ]
          },
          "metadata": {
            "tags": [],
            "needs_background": "light"
          }
        },
        {
          "output_type": "display_data",
          "data": {
            "image/png": "[encoded data removed]",
            "text/plain": [
              "<Figure size 432x288 with 1 Axes>"
            ]
          },
          "metadata": {
            "tags": [],
            "needs_background": "light"
          }
        },
        {
          "output_type": "display_data",
          "data": {
            "image/png": "[encoded data removed]",
            "text/plain": [
              "<Figure size 432x288 with 1 Axes>"
            ]
          },
          "metadata": {
            "tags": [],
            "needs_background": "light"
          }
        }
      ]
    },
    {
      "cell_type": "markdown",
      "metadata": {
        "id": "t_tMmlHVGVjx"
      },
      "source": [
        "If we compare the outcomes based on Treatment without taking into account the covariates, we do it in this naive way:"
      ]
    },
    {
      "cell_type": "code",
      "metadata": {
        "colab": {
          "base_uri": "https://localhost:8080/",
          "height": 36
        },
        "id": "4dd91-FiIPu4",
        "outputId": "23693730-1b55-47f5-dc79-e04c81afca8f"
      },
      "source": [
        "#Naive effect of T on Y:\n",
        "(df[df['T'] == 1].mean() - df[df['T'] == 0].mean())['Y']"
      ],
      "execution_count": 30,
      "outputs": [
        {
          "output_type": "execute_result",
          "data": {
            "image/png": "[encoded data removed]",
            "text/latex": "$\\displaystyle 1.63500171353283$",
            "text/plain": [
              "1.6350017135328274"
            ]
          },
          "metadata": {
            "tags": []
          },
          "execution_count": 30
        }
      ]
    },
    {
      "cell_type": "markdown",
      "metadata": {
        "id": "FHXXtS_TK_-r"
      },
      "source": [
        "## **Preliminaries and Identification**"
      ]
    },
    {
      "cell_type": "markdown",
      "metadata": {
        "id": "RL41tN42QXJb"
      },
      "source": [
        "This is not the causal effect, since $Z$ confounds the relation between $T$ and $Y$. We create a model that accounts for the intervention distribution $P(Y|do(T=t))$, but we first start with a complete axiomization of the do-calculus to account for the steps in the model created."
      ]
    },
    {
      "cell_type": "markdown",
      "metadata": {
        "id": "rDUqkel_LLkZ"
      },
      "source": [
        "**Pearls Do-Calcus Rules:**\n",
        "\n",
        "Let $G$ be the DAG associated with a causal model and let $P()$ be  the probability distribution induced by that model. For any disjoinst subsets of variables $X,Y,Z,W$ we have the following rules:\n",
        "\n",
        "**Rule 1: $ $** \n",
        "$P(y|do(x),z,w) = P(y|do(x),w)$ if $((Y\\perp \\!\\!\\! \\perp Z)|X,W)_{G_\\overline{X}}$\n",
        "\n",
        "**Rule 2: $ $** \n",
        "$P(y|do(x),do(z),w) = P(y|do(x),z,w)$ if $((Y\\perp \\!\\!\\! \\perp Z)|X,W)_{G_{\\overline{X}\\underline{Z}}}$\n",
        "\n",
        "**Rule 3: $ $** \n",
        "$P(y|do(x),do(z),w) = P(y|do(x),w)$ if $((Y\\perp \\!\\!\\! \\perp Z)|X,W)_{G_{\\overline{X}\\overline{Z(W)}}}$"
      ]
    },
    {
      "cell_type": "code",
      "metadata": {
        "id": "Xu9Pk5OAJ-Mf",
        "colab": {
          "base_uri": "https://localhost:8080/",
          "height": 247
        },
        "outputId": "07ea7735-e02e-4dff-f4d3-c54ad9135b66"
      },
      "source": [
        "#Create Causal Model:\n",
        "from dowhy import CausalModel\n",
        "\n",
        "causes = ['T']\n",
        "outcomes = ['Y']\n",
        "common_causes = ['Z']\n",
        "\n",
        "model = CausalModel(df,\n",
        "                    causes,\n",
        "                    outcomes,\n",
        "                    common_causes=common_causes)\n",
        "\n",
        "# Let Dowhy plot the model just for verification purposes:\n",
        "model.view_model(layout=\"dot\")"
      ],
      "execution_count": 31,
      "outputs": [
        {
          "output_type": "display_data",
          "data": {
            "image/png": "[encoded data removed]",
            "text/plain": [
              "<Figure size 432x288 with 1 Axes>"
            ]
          },
          "metadata": {
            "tags": []
          }
        }
      ]
    },
    {
      "cell_type": "markdown",
      "metadata": {
        "id": "JZpjxAKXO4XB"
      },
      "source": [
        "We first want to know if we can identify $Y$ given cause $T$ and common cause $Z$. From *Causal Diagrams and the Identification of Causal Effects* (Pearl,200), we obtain the following theorem: \n",
        "\n",
        "**Theorem:**\n",
        "A causal effect $q = P(y_1, … , y_k |do(t_1), … ,do(t_n))$ is identifiable in a model characterized\n",
        "by a graph $G$ if there exists a finite sequence of transformations, each conforming to one\n",
        "of the inference rules above, that reduces $q$ into a standard (i.e., “do-operator”-free)\n",
        "probability expression involving observed quantities."
      ]
    },
    {
      "cell_type": "markdown",
      "metadata": {
        "id": "LbNwcNyuex5S"
      },
      "source": [
        "We can now prove that in our causal graph, $Y$ is identifiable by treatment $T$. First we marginalize out $z$ by rules of probability:\n",
        "\\begin{align}\n",
        "P(Y|do(T=t))=\\sum_{z}P(y|z,do(t))P(z|do(t))\n",
        "\\end{align}\n",
        "Now we we observe that $((Y\\perp \\!\\!\\! \\perp T)|Z)_{G_{\\underline{T}}}$ and we apply the second rule of do-calculus to rewrite te first term:\n",
        "\n",
        "\\begin{align}\n",
        "P(y|z,do(t))=P(y|z,t).\n",
        "\\end{align}\n",
        "\n",
        "Similarly, we observe that  $(Z\\perp \\!\\!\\! \\perp T)_{G_{\\overline{T}}}$ to apply the third rule of do-calculus to obtain\n",
        "\n",
        "\\begin{align}\n",
        "P(z|do(t))=P(z).\n",
        "\\end{align}\n",
        "\n",
        "We can rewrite our first expression than to:\n",
        "\\begin{align}\n",
        "P(Y|do(T=t))=\\sum_{z}P(y|z,t)P(z).\n",
        "\\end{align}\n",
        "\n",
        "Since the last expression is 'do-operator free', this is now an application of the do-calculus to prove identifiability. In this case the identifiablility is called the **back-door theorem.** Dowhy can also check identifiablity. We check if Dowhy is also able to identify the $Y$."
      ]
    },
    {
      "cell_type": "code",
      "metadata": {
        "colab": {
          "base_uri": "https://localhost:8080/"
        },
        "id": "tOMf4j-OKBYH",
        "outputId": "98783edd-47f1-4616-efbc-f2942e1e9a11"
      },
      "source": [
        "# Check if the variable can be identified:\n",
        "identification = model.identify_effect()\n",
        "identification"
      ],
      "execution_count": 32,
      "outputs": [
        {
          "output_type": "execute_result",
          "data": {
            "text/plain": [
              "<dowhy.causal_identifier.IdentifiedEstimand at 0x7fa70fd6bcd0>"
            ]
          },
          "metadata": {
            "tags": []
          },
          "execution_count": 32
        }
      ]
    },
    {
      "cell_type": "markdown",
      "metadata": {
        "id": "d7bcaImvkIxn"
      },
      "source": [
        "## **From Identifiability to Estimation**"
      ]
    },
    {
      "cell_type": "markdown",
      "metadata": {
        "id": "SGk280T-R8Ii"
      },
      "source": [
        "Note that we want to know thanks to the back-door theorem:\n",
        "\n",
        "\n",
        "\\begin{align} \n",
        "P(y|do(T=t))&=\\sum_{z}P(y|t,z)P(z)\n",
        "\\end{align}\n",
        "but we are after the causal effect of $T$ on $Y$, so we are after $\\mathbb{E}(Y\\mid do(T=1))-\\mathbb{E}(Y\\mid do(T=0))$, so using the backdoor theorem we can rewrite this to:\n",
        "\n",
        "\\begin{align*}\n",
        "\\mathbb{E}(Y\\mid do(T=1))-\\mathbb{E}(Y\\mid do(T=0))=\\mathbb{E}_Z(\\mathbb{E}(Y\\mid T=1, Z))-\\mathbb{E}(Y\\mid T=0, Z)).\n",
        "\\end{align*}\n",
        "\n",
        "So we can use any sort of model $\\hat \\mu$ to estimate the conditional expectation and then appromiate the outer expectation by taking the sample mean:\n",
        "\\begin{align*}\n",
        "\\mathbb{E}(Y\\mid do(T=1))-\\mathbb{E}(Y\\mid do(T=0))=\\mathbb{E}_Z(\\mathbb{E}(Y\\mid T=1, Z)-\\mathbb{E}(Y\\mid T=0, Z))=\\frac{1}{n}\\sum_{i}^n \\hat \\mu(1,z_i)-\\hat \\mu(0,z_i).\n",
        "\\end{align*}\n",
        "\n"
      ]
    },
    {
      "cell_type": "code",
      "metadata": {
        "colab": {
          "base_uri": "https://localhost:8080/",
          "height": 36
        },
        "id": "O6Qe9NuWKIGH",
        "outputId": "2baa9ec1-da77-4bd0-985a-225524595ddc"
      },
      "source": [
        "# We can fit any sort of model: we try a simple linear regression.\n",
        "from sklearn.linear_model import LinearRegression\n",
        "\n",
        "X=np.array(df[['T','Z']]) #Note that mu depends on T and Z in our example.\n",
        "mu = LinearRegression().fit(X, np.array(df['Y']))\n",
        "\n",
        "#Estimate the inner expectations\n",
        "estimation = mu.predict(list(zip(np.ones(5000),df['Z'])))-mu.predict(list(zip(np.zeros(5000),df['Z'])))\n",
        "\n",
        "# And then the outer expectation to calculate the causal effect.\n",
        "estimation.mean()"
      ],
      "execution_count": 35,
      "outputs": [
        {
          "output_type": "execute_result",
          "data": {
            "image/png": "[encoded data removed]",
            "text/latex": "$\\displaystyle 1.00199667351563$",
            "text/plain": [
              "1.0019966735156347"
            ]
          },
          "metadata": {
            "tags": []
          },
          "execution_count": 35
        }
      ]
    }
  ]
}